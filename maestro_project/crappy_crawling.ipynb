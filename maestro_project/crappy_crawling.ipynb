{
 "cells": [
  {
   "cell_type": "code",
   "execution_count": 33,
   "id": "50bd6403-c41d-428c-ab8e-c3b4ee6a5e88",
   "metadata": {},
   "outputs": [
    {
     "name": "stdout",
     "output_type": "stream",
     "text": [
      "Requirement already satisfied: pdf2image in c:\\users\\maloy\\appdata\\local\\programs\\python\\python310\\lib\\site-packages (1.16.0)\n",
      "Requirement already satisfied: pillow in c:\\users\\maloy\\appdata\\local\\programs\\python\\python310\\lib\\site-packages (from pdf2image) (9.0.1)\n"
     ]
    },
    {
     "name": "stderr",
     "output_type": "stream",
     "text": [
      "WARNING: There was an error checking the latest version of pip.\n"
     ]
    }
   ],
   "source": [
    "!pip install pdf2image\n",
    "#!pip install opencv-python\n",
    "#!pip install pillow\n",
    "#!pip install pytesseract"
   ]
  },
  {
   "cell_type": "code",
   "execution_count": null,
   "id": "b5f88862-4c5c-4ea1-a010-f976d1518c1d",
   "metadata": {},
   "outputs": [],
   "source": [
    "!pip install tesseract\n",
    "!pip install tesseract-ocr"
   ]
  },
  {
   "cell_type": "code",
   "execution_count": null,
   "id": "da7e04a4-4d97-4d57-98ac-20dc6167c59c",
   "metadata": {},
   "outputs": [],
   "source": [
    "# https://github.com/UB-Mannheim/tesseract/wiki"
   ]
  },
  {
   "cell_type": "code",
   "execution_count": 57,
   "id": "453e6b1c-105e-4025-8da8-ac9807b4c048",
   "metadata": {},
   "outputs": [],
   "source": [
    "pytesseract.pytesseract.tesseract_cmd = 'C:/OCR/Tesseract/tesseract.exe' # надо менять, если путь другой"
   ]
  },
  {
   "cell_type": "code",
   "execution_count": 43,
   "id": "defcc6d6-fa2e-4771-9b3a-2aaa3192fccf",
   "metadata": {},
   "outputs": [],
   "source": [
    "import cv2\n",
    "import pytesseract\n",
    "from pdf2image import convert_from_path\n",
    "\n",
    "pages = convert_from_path('maestro_book1.pdf', 100, poppler_path=r\"poppler-0.68.0\\bin\")"
   ]
  },
  {
   "cell_type": "code",
   "execution_count": 142,
   "id": "faafc271-418f-4d69-98e5-2066ebf1671f",
   "metadata": {},
   "outputs": [],
   "source": [
    "def clean(text, num):\n",
    "    foot = 2 if num % 2 == 0 else 3\n",
    "    return \" \".join(x for x in text.replace(\"-\\n\", \"\").split(\"\\n\")[2:-foot])"
   ]
  },
  {
   "cell_type": "code",
   "execution_count": 175,
   "id": "0c56b7fb-846c-4190-9c8f-03992da29624",
   "metadata": {},
   "outputs": [
    {
     "name": "stderr",
     "output_type": "stream",
     "text": [
      "100%|████████████████████████████████████████████████████████████████████████████████| 402/402 [11:10<00:00,  1.67s/it]\n"
     ]
    }
   ],
   "source": [
    "page_text = []\n",
    "from tqdm import tqdm\n",
    "\n",
    "for i in tqdm(range(8, 410)):\n",
    "    pages[i].save(f'out{i}.jpg', 'JPEG')\n",
    "    imgcv = cv2.imread(f'out{i}.jpg')\n",
    "    imgcv = cv2.cvtColor(imgcv, cv2.COLOR_BGR2RGB)\n",
    "    text = pytesseract.image_to_string(imgcv,  lang='eng+rus')\n",
    "    page_text.append(clean(text, i-1))\n",
    "    #9-409"
   ]
  },
  {
   "cell_type": "code",
   "execution_count": 176,
   "id": "82700da0-3e96-45a9-a2e2-f13ba36509fc",
   "metadata": {},
   "outputs": [],
   "source": [
    "full_text = \"\".join(x for x in page_text)"
   ]
  },
  {
   "cell_type": "code",
   "execution_count": 177,
   "id": "c7900ad1-0707-4436-ba61-d54964490c4a",
   "metadata": {},
   "outputs": [],
   "source": [
    "with open(\"maestro_book1.txt\", \"w\", encoding=\"utf-8\") as g:\n",
    "    g.write(full_text)"
   ]
  },
  {
   "cell_type": "code",
   "execution_count": null,
   "id": "c580deb0-eb43-4974-ae78-0b6a7d1b51b3",
   "metadata": {},
   "outputs": [],
   "source": [
    "pages = convert_from_path('maestro_book2.pdf', 100, poppler_path=r\"poppler-0.68.0\\bin\")"
   ]
  },
  {
   "cell_type": "code",
   "execution_count": 296,
   "id": "3fedcf7b-6d24-4db5-8a00-99bcad583332",
   "metadata": {},
   "outputs": [],
   "source": [
    "def clean2(text, num):\n",
    "    header = 3 if num % 2 == 0 else 7\n",
    "    text = \" \".join(x for x in text.split()[header:] if x != \"\")\n",
    "    text = re.sub(r\"[\\s]{2,}\", \"\", text.replace(\"\\xad\", \" \"))\n",
    "    return text"
   ]
  },
  {
   "cell_type": "code",
   "execution_count": 302,
   "id": "cef9f1c6-c545-4833-b5dc-5e1cd678fc10",
   "metadata": {},
   "outputs": [
    {
     "name": "stderr",
     "output_type": "stream",
     "text": [
      "100%|████████████████████████████████████████████████████████████████████████████████| 856/856 [01:12<00:00, 11.74it/s]\n"
     ]
    }
   ],
   "source": [
    "from PyPDF2 import PdfReader\n",
    "\n",
    "reader = PdfReader(\"maestro_book2.pdf\")\n",
    "text = \" \".join(x for x in reader.pages[8].extract_text().split()[2:])\n",
    "text = re.sub(r\"[\\s]{2,}\", \"\", text.replace(\"\\xad\", \" \"))# титул\n",
    "for num in tqdm(range(9, 865)): # 865\n",
    "    text += clean2(reader.pages[num].extract_text(), num-1)"
   ]
  },
  {
   "cell_type": "code",
   "execution_count": 303,
   "id": "ef92af53-79e4-4dd8-88ed-e19cea845aad",
   "metadata": {},
   "outputs": [],
   "source": [
    "with open(\"maestro_book2.txt\", \"w\", encoding=\"utf-8\") as g:\n",
    "    g.write(text)"
   ]
  },
  {
   "cell_type": "code",
   "execution_count": 304,
   "id": "d307bda7-0037-411a-a2b6-9c611f2ad54b",
   "metadata": {},
   "outputs": [
    {
     "data": {
      "text/plain": [
       "125716"
      ]
     },
     "execution_count": 304,
     "metadata": {},
     "output_type": "execute_result"
    }
   ],
   "source": [
    "len(full_text.split())"
   ]
  },
  {
   "cell_type": "code",
   "execution_count": 305,
   "id": "11bb50ec-a2ce-425c-9911-9867405a5b2d",
   "metadata": {},
   "outputs": [
    {
     "data": {
      "text/plain": [
       "400963"
      ]
     },
     "execution_count": 305,
     "metadata": {},
     "output_type": "execute_result"
    }
   ],
   "source": [
    "len(text.split())"
   ]
  },
  {
   "cell_type": "code",
   "execution_count": null,
   "id": "719aa796-ae31-42c4-8a0d-3500cbecb34d",
   "metadata": {},
   "outputs": [],
   "source": [
    "<div \"author_page_grid_article__title author_page_article_title\""
   ]
  },
  {
   "cell_type": "code",
   "execution_count": 307,
   "id": "5a884784-3ce4-40b6-b44e-171120c41e4f",
   "metadata": {},
   "outputs": [],
   "source": [
    "import urllib.request\n",
    "import requests\n",
    "import re\n",
    "import os\n",
    "from bs4 import BeautifulSoup"
   ]
  },
  {
   "cell_type": "code",
   "execution_count": 448,
   "id": "e5bfb4fd-020e-40ca-bdc3-25eefa928f22",
   "metadata": {},
   "outputs": [],
   "source": [
    "url = \"https://vk.com/@evgenyponasenkov\"\n",
    "\n",
    "session = requests.session()\n",
    "session.trust_env = False\n",
    "\n",
    "req = session.get(url)\n",
    "page = req.text\n",
    "soup = BeautifulSoup(page, 'html.parser')\n",
    "\n",
    "a = soup.find_all('a', href=True)"
   ]
  },
  {
   "cell_type": "code",
   "execution_count": 438,
   "id": "a49a73ef-207a-412f-b86e-269aefdc0d5c",
   "metadata": {},
   "outputs": [],
   "source": [
    "import pandas as pd\n",
    "\n",
    "df = pd.DataFrame(columns=[\"url\", \"title\", \"date\", \"text\"])"
   ]
  },
  {
   "cell_type": "code",
   "execution_count": 450,
   "id": "ecb12c38-da38-4687-b065-29254a7a9070",
   "metadata": {},
   "outputs": [],
   "source": [
    "hrefs = [\"https://vk.com\"+i[\"href\"] for i in a[3:-1]]"
   ]
  },
  {
   "cell_type": "code",
   "execution_count": 451,
   "id": "33bedde3-60b0-41db-8a7d-6d9ef4820d85",
   "metadata": {},
   "outputs": [
    {
     "name": "stderr",
     "output_type": "stream",
     "text": [
      "100%|██████████████████████████████████████████████████████████████████████████████████| 20/20 [00:03<00:00,  6.05it/s]\n"
     ]
    }
   ],
   "source": [
    "for href in tqdm(hrefs):\n",
    "    req = session.get(href)\n",
    "    page = req.text\n",
    "    soup = BeautifulSoup(page, 'html.parser')\n",
    "    text = \" \".join(x.text for x in soup.find_all(\"p\"))\n",
    "    title = soup.find(\"h1\").text\n",
    "    # мне лень это всё в группы клеить\n",
    "    date = re.findall(r\".{4}-.{2}-.{2}\", re.findall(r'\"datePublished\".*T', page)[0])[0]\n",
    "    df = pd.concat([df, pd.DataFrame({\"url\": href, \"title\": title, \"date\": date, \"text\": text}, index=[0])])\n"
   ]
  },
  {
   "cell_type": "code",
   "execution_count": 452,
   "id": "331d6e30-9551-49bb-9753-835cf65e2b78",
   "metadata": {},
   "outputs": [
    {
     "data": {
      "text/html": [
       "<div>\n",
       "<style scoped>\n",
       "    .dataframe tbody tr th:only-of-type {\n",
       "        vertical-align: middle;\n",
       "    }\n",
       "\n",
       "    .dataframe tbody tr th {\n",
       "        vertical-align: top;\n",
       "    }\n",
       "\n",
       "    .dataframe thead th {\n",
       "        text-align: right;\n",
       "    }\n",
       "</style>\n",
       "<table border=\"1\" class=\"dataframe\">\n",
       "  <thead>\n",
       "    <tr style=\"text-align: right;\">\n",
       "      <th></th>\n",
       "      <th>url</th>\n",
       "      <th>title</th>\n",
       "      <th>date</th>\n",
       "      <th>text</th>\n",
       "    </tr>\n",
       "  </thead>\n",
       "  <tbody>\n",
       "    <tr>\n",
       "      <th>0</th>\n",
       "      <td>https://vk.com/@evgenyponasenkov-kutuzovskii-p...</td>\n",
       "      <td>Кутузовский план Кремля (27. 12. 2011)</td>\n",
       "      <td>2021-02-24</td>\n",
       "      <td>Начну, простите, с конца. Да, митинги 10-го и ...</td>\n",
       "    </tr>\n",
       "    <tr>\n",
       "      <th>0</th>\n",
       "      <td>https://vk.com/@evgenyponasenkov-istorik-evgen...</td>\n",
       "      <td>Историк Евгений Понасенков: Россия - это ходяч...</td>\n",
       "      <td>2021-02-17</td>\n",
       "      <td>Историк, режиссер, оперный певец и общественны...</td>\n",
       "    </tr>\n",
       "    <tr>\n",
       "      <th>0</th>\n",
       "      <td>https://vk.com/@evgenyponasenkov-dva-gogolya-i...</td>\n",
       "      <td>Два Гоголя, или Неизбежность поражения</td>\n",
       "      <td>2021-02-14</td>\n",
       "      <td>Не секрет, что общество, эпоха, семья - да, чт...</td>\n",
       "    </tr>\n",
       "    <tr>\n",
       "      <th>0</th>\n",
       "      <td>https://vk.com/@evgenyponasenkov-otprazdnuem-k...</td>\n",
       "      <td>Отпразднуем капитуляцию кремлевского гарнизона...</td>\n",
       "      <td>2021-01-27</td>\n",
       "      <td>Начну не с того, что правительство России не в...</td>\n",
       "    </tr>\n",
       "    <tr>\n",
       "      <th>0</th>\n",
       "      <td>https://vk.com/@evgenyponasenkov-gosudarstvenn...</td>\n",
       "      <td>Государственный переворот и «НТВшники» (10. 04...</td>\n",
       "      <td>2021-01-21</td>\n",
       "      <td>Как это ни печально, но скоро основатель движе...</td>\n",
       "    </tr>\n",
       "    <tr>\n",
       "      <th>0</th>\n",
       "      <td>https://vk.com/@evgenyponasenkov-1812-ubileiny...</td>\n",
       "      <td>1812: юбилейный зомбоящик, верни дворянам масл...</td>\n",
       "      <td>2020-11-30</td>\n",
       "      <td>Превеликая кампания по зомбированию населения ...</td>\n",
       "    </tr>\n",
       "    <tr>\n",
       "      <th>0</th>\n",
       "      <td>https://vk.com/@evgenyponasenkov-1812-god-otve...</td>\n",
       "      <td>1812 год: ответ историка Патриарху Кириллу (10...</td>\n",
       "      <td>2020-11-26</td>\n",
       "      <td>В недавнем азартном отмечании юбилея войны 181...</td>\n",
       "    </tr>\n",
       "    <tr>\n",
       "      <th>0</th>\n",
       "      <td>https://vk.com/@evgenyponasenkov-evgenialnyi-s...</td>\n",
       "      <td>ЕвГениальный список архитекторов</td>\n",
       "      <td>2020-09-16</td>\n",
       "      <td>Альбомы по всей архитектуре Древнего Египта, Г...</td>\n",
       "    </tr>\n",
       "    <tr>\n",
       "      <th>0</th>\n",
       "      <td>https://vk.com/@evgenyponasenkov-intelligentsk...</td>\n",
       "      <td>Интеллигентский мазохизм — страшнее терроризма...</td>\n",
       "      <td>2020-08-17</td>\n",
       "      <td>Господа-товарищи, всему же есть пределы! Вчера...</td>\n",
       "    </tr>\n",
       "    <tr>\n",
       "      <th>0</th>\n",
       "      <td>https://vk.com/@evgenyponasenkov-chudovischnye...</td>\n",
       "      <td>Чудовищные уроки 1917 года: убийство как истор...</td>\n",
       "      <td>2020-08-09</td>\n",
       "      <td>Надо признать, что в начале прошлого века коре...</td>\n",
       "    </tr>\n",
       "    <tr>\n",
       "      <th>0</th>\n",
       "      <td>https://vk.com/@evgenyponasenkov-est-takaya-pr...</td>\n",
       "      <td>Есть такая профессия – народ отвлекать (15 янв...</td>\n",
       "      <td>2020-07-31</td>\n",
       "      <td>Вы только вдумайтесь в этот монструозный бред:...</td>\n",
       "    </tr>\n",
       "    <tr>\n",
       "      <th>0</th>\n",
       "      <td>https://vk.com/@evgenyponasenkov-evgenialnyi-s...</td>\n",
       "      <td>ЕвГениальный список фильмов – Часть I</td>\n",
       "      <td>2020-06-03</td>\n",
       "      <td>«Большой вальс» (1939) «Театр» (Вия Артмане) «...</td>\n",
       "    </tr>\n",
       "    <tr>\n",
       "      <th>0</th>\n",
       "      <td>https://vk.com/@evgenyponasenkov-vladimir-vlad...</td>\n",
       "      <td>Владимир Владимирович, я не хочу жить ни при к...</td>\n",
       "      <td>2020-07-23</td>\n",
       "      <td>Превозмогая боль Пескова от злокачественных сл...</td>\n",
       "    </tr>\n",
       "    <tr>\n",
       "      <th>0</th>\n",
       "      <td>https://vk.com/@evgenyponasenkov-iz-dvuh-zol-m...</td>\n",
       "      <td>Из двух «зол» мы выбрали обе, или здравствуй Н...</td>\n",
       "      <td>2020-07-14</td>\n",
       "      <td>Друзья мои, прекрасен наш союз (на «Эхе»)… но ...</td>\n",
       "    </tr>\n",
       "    <tr>\n",
       "      <th>0</th>\n",
       "      <td>https://vk.com/@evgenyponasenkov-s-chego-nachi...</td>\n",
       "      <td>С чего начинается фашизм на родине? (22 август...</td>\n",
       "      <td>2020-07-13</td>\n",
       "      <td>А я все думал: ну, когда же начнутся дружины, ...</td>\n",
       "    </tr>\n",
       "    <tr>\n",
       "      <th>0</th>\n",
       "      <td>https://vk.com/@evgenyponasenkov-mezhdu-popom-...</td>\n",
       "      <td>Между попом и божеством: три часа свободы и сч...</td>\n",
       "      <td>2020-07-06</td>\n",
       "      <td>Ну, что: давайте, если хотите, поговорим об ак...</td>\n",
       "    </tr>\n",
       "    <tr>\n",
       "      <th>0</th>\n",
       "      <td>https://vk.com/@evgenyponasenkov-evgenialnyi-s...</td>\n",
       "      <td>ЕвГениальный список художников</td>\n",
       "      <td>2020-07-03</td>\n",
       "      <td>Сандро Боттичелли  Леонардо да Винчи  Витторе ...</td>\n",
       "    </tr>\n",
       "    <tr>\n",
       "      <th>0</th>\n",
       "      <td>https://vk.com/@evgenyponasenkov-intelligentsk...</td>\n",
       "      <td>Интеллигентский мазохизм — страшнее терроризма...</td>\n",
       "      <td>2020-06-26</td>\n",
       "      <td>Господа-товарищи, всему же есть пределы! Вчера...</td>\n",
       "    </tr>\n",
       "    <tr>\n",
       "      <th>0</th>\n",
       "      <td>https://vk.com/@evgenyponasenkov-terakt-v-pari...</td>\n",
       "      <td>Теракт в Париже – не теракт, а война!</td>\n",
       "      <td>2020-06-14</td>\n",
       "      <td>Пора перестать прятать голову в песок: зверски...</td>\n",
       "    </tr>\n",
       "    <tr>\n",
       "      <th>0</th>\n",
       "      <td>https://vk.com/@evgenyponasenkov-u-zapada-vseg...</td>\n",
       "      <td>У Запада всего одна ошибка — но смертельная</td>\n",
       "      <td>2020-06-10</td>\n",
       "      <td>В Европе построили лучший из вариантов жизни з...</td>\n",
       "    </tr>\n",
       "  </tbody>\n",
       "</table>\n",
       "</div>"
      ],
      "text/plain": [
       "                                                 url  \\\n",
       "0  https://vk.com/@evgenyponasenkov-kutuzovskii-p...   \n",
       "0  https://vk.com/@evgenyponasenkov-istorik-evgen...   \n",
       "0  https://vk.com/@evgenyponasenkov-dva-gogolya-i...   \n",
       "0  https://vk.com/@evgenyponasenkov-otprazdnuem-k...   \n",
       "0  https://vk.com/@evgenyponasenkov-gosudarstvenn...   \n",
       "0  https://vk.com/@evgenyponasenkov-1812-ubileiny...   \n",
       "0  https://vk.com/@evgenyponasenkov-1812-god-otve...   \n",
       "0  https://vk.com/@evgenyponasenkov-evgenialnyi-s...   \n",
       "0  https://vk.com/@evgenyponasenkov-intelligentsk...   \n",
       "0  https://vk.com/@evgenyponasenkov-chudovischnye...   \n",
       "0  https://vk.com/@evgenyponasenkov-est-takaya-pr...   \n",
       "0  https://vk.com/@evgenyponasenkov-evgenialnyi-s...   \n",
       "0  https://vk.com/@evgenyponasenkov-vladimir-vlad...   \n",
       "0  https://vk.com/@evgenyponasenkov-iz-dvuh-zol-m...   \n",
       "0  https://vk.com/@evgenyponasenkov-s-chego-nachi...   \n",
       "0  https://vk.com/@evgenyponasenkov-mezhdu-popom-...   \n",
       "0  https://vk.com/@evgenyponasenkov-evgenialnyi-s...   \n",
       "0  https://vk.com/@evgenyponasenkov-intelligentsk...   \n",
       "0  https://vk.com/@evgenyponasenkov-terakt-v-pari...   \n",
       "0  https://vk.com/@evgenyponasenkov-u-zapada-vseg...   \n",
       "\n",
       "                                               title        date  \\\n",
       "0             Кутузовский план Кремля (27. 12. 2011)  2021-02-24   \n",
       "0  Историк Евгений Понасенков: Россия - это ходяч...  2021-02-17   \n",
       "0             Два Гоголя, или Неизбежность поражения  2021-02-14   \n",
       "0  Отпразднуем капитуляцию кремлевского гарнизона...  2021-01-27   \n",
       "0  Государственный переворот и «НТВшники» (10. 04...  2021-01-21   \n",
       "0  1812: юбилейный зомбоящик, верни дворянам масл...  2020-11-30   \n",
       "0  1812 год: ответ историка Патриарху Кириллу (10...  2020-11-26   \n",
       "0                   ЕвГениальный список архитекторов  2020-09-16   \n",
       "0  Интеллигентский мазохизм — страшнее терроризма...  2020-08-17   \n",
       "0  Чудовищные уроки 1917 года: убийство как истор...  2020-08-09   \n",
       "0  Есть такая профессия – народ отвлекать (15 янв...  2020-07-31   \n",
       "0              ЕвГениальный список фильмов – Часть I  2020-06-03   \n",
       "0  Владимир Владимирович, я не хочу жить ни при к...  2020-07-23   \n",
       "0  Из двух «зол» мы выбрали обе, или здравствуй Н...  2020-07-14   \n",
       "0  С чего начинается фашизм на родине? (22 август...  2020-07-13   \n",
       "0  Между попом и божеством: три часа свободы и сч...  2020-07-06   \n",
       "0                    ЕвГениальный список художников   2020-07-03   \n",
       "0  Интеллигентский мазохизм — страшнее терроризма...  2020-06-26   \n",
       "0              Теракт в Париже – не теракт, а война!  2020-06-14   \n",
       "0       У Запада всего одна ошибка — но смертельная   2020-06-10   \n",
       "\n",
       "                                                text  \n",
       "0  Начну, простите, с конца. Да, митинги 10-го и ...  \n",
       "0  Историк, режиссер, оперный певец и общественны...  \n",
       "0  Не секрет, что общество, эпоха, семья - да, чт...  \n",
       "0  Начну не с того, что правительство России не в...  \n",
       "0  Как это ни печально, но скоро основатель движе...  \n",
       "0  Превеликая кампания по зомбированию населения ...  \n",
       "0  В недавнем азартном отмечании юбилея войны 181...  \n",
       "0  Альбомы по всей архитектуре Древнего Египта, Г...  \n",
       "0  Господа-товарищи, всему же есть пределы! Вчера...  \n",
       "0  Надо признать, что в начале прошлого века коре...  \n",
       "0  Вы только вдумайтесь в этот монструозный бред:...  \n",
       "0  «Большой вальс» (1939) «Театр» (Вия Артмане) «...  \n",
       "0  Превозмогая боль Пескова от злокачественных сл...  \n",
       "0  Друзья мои, прекрасен наш союз (на «Эхе»)… но ...  \n",
       "0  А я все думал: ну, когда же начнутся дружины, ...  \n",
       "0  Ну, что: давайте, если хотите, поговорим об ак...  \n",
       "0  Сандро Боттичелли  Леонардо да Винчи  Витторе ...  \n",
       "0  Господа-товарищи, всему же есть пределы! Вчера...  \n",
       "0  Пора перестать прятать голову в песок: зверски...  \n",
       "0  В Европе построили лучший из вариантов жизни з...  "
      ]
     },
     "execution_count": 452,
     "metadata": {},
     "output_type": "execute_result"
    }
   ],
   "source": [
    "df"
   ]
  },
  {
   "cell_type": "code",
   "execution_count": 453,
   "id": "0ef1de3b-b1a8-4982-b5a6-2419188e836f",
   "metadata": {},
   "outputs": [],
   "source": [
    "with open(\"maestro_book2.txt\", \"r\", encoding=\"utf-8\") as f:\n",
    "    text = f.read()\n",
    "\n",
    "df = pd.concat([df, pd.DataFrame({\"url\": \"https://www.moscowbooks.ru/bookinist/book/308360/\",\n",
    "                                  \"title\": 'Первая научная история войны 1812 года',\n",
    "                                  \"date\": 2018,\n",
    "                                  \"text\": text}, index=[0])])\n",
    "\n",
    "with open(\"maestro_book1.txt\", \"r\", encoding=\"utf-8\") as f:\n",
    "    text = f.read()\n",
    "\n",
    "df = pd.concat([df, pd.DataFrame({\"url\": \"https://www.ozon.ru/product/pervaya-nauchnaya-istoriya-voyny-1812-goda-trete-izdanie-ponasenkov-evgeniy-nikolaevich-250460112/?sh=cAScFiM5SQ\",\n",
    "                                  \"title\": 'Правда о войне 1812 года',\n",
    "                                  \"date\": 2004,\n",
    "                                  \"text\": text}, index=[0])])\n",
    "\n"
   ]
  },
  {
   "cell_type": "code",
   "execution_count": 457,
   "id": "6cb48a27-8d52-4c9f-8ce5-7edda7ee7d3e",
   "metadata": {},
   "outputs": [],
   "source": [
    "df.reset_index(drop=True).iloc[:-2].to_csv(\"maestro_vk.csv\")"
   ]
  },
  {
   "cell_type": "code",
   "execution_count": 414,
   "id": "b79df730-2570-434d-b208-4580a796b695",
   "metadata": {},
   "outputs": [
    {
     "data": {
      "text/plain": [
       "['2020-06-10']"
      ]
     },
     "execution_count": 414,
     "metadata": {},
     "output_type": "execute_result"
    }
   ],
   "source": [
    "date = re.findall(r\".{4}-.{2}-.{2}\", re.findall(r'\"datePublished\".*T', str(a[0]))[0])"
   ]
  },
  {
   "cell_type": "code",
   "execution_count": 534,
   "id": "ea061987-3970-4a21-9204-f637e68ea98a",
   "metadata": {},
   "outputs": [],
   "source": [
    "df = pd.DataFrame(columns=[\"url\", \"title\", \"date\", \"text\"])"
   ]
  },
  {
   "cell_type": "code",
   "execution_count": 535,
   "id": "f35ada16-76d9-439c-963f-c36804dd87e7",
   "metadata": {},
   "outputs": [],
   "source": [
    "for i in range(1, 2):\n",
    "\n",
    "    url = f\"https://www.mk.ru/blogs/blog-evgeniya-ponasenkova.html?page={i}\"\n",
    "\n",
    "    session = requests.session()\n",
    "    session.trust_env = False\n",
    "\n",
    "    req = session.get(url)\n",
    "    page = req.text\n",
    "    soup = BeautifulSoup(page, 'html.parser')\n",
    "\n",
    "    a = soup.find_all('a', href=True)\n",
    "    refs = []\n",
    "    for i in a:\n",
    "        href = i[\"href\"]\n",
    "        if \"https://www.mk.ru/blogs/posts/\" in href:\n",
    "            refs.append(href)\n",
    "\n",
    "    for href in refs[:-5]:  # 5 последних на всех страницах\n",
    "        sub_req = session.get(href)\n",
    "        sub_page = sub_req.text\n",
    "        sub_soup = BeautifulSoup(sub_page, 'html.parser')\n",
    "        text = \" \".join(x.text for x in sub_soup.find_all(\"p\"))\n",
    "        text = text.replace(\"\\n\", \" \").split()\n",
    "        title = sub_soup.find(\"h1\").text + \". Блог Евгения Понасенкова на mk.ru\"\n",
    "        date = \" \".join(text[i] for i in range(3))\n",
    "        text = \" \".join(x for x in text[8:])  # до этого не важная информация\n",
    "        df = pd.concat([df, pd.DataFrame({\"url\": href, \"title\": title, \"date\": date, \"text\": text}, index=[0])])"
   ]
  },
  {
   "cell_type": "code",
   "execution_count": 538,
   "id": "b39115ba-ef27-4424-939e-835372d8e861",
   "metadata": {},
   "outputs": [],
   "source": [
    "df.reset_index(drop=True).to_csv(\"maestro.blog.csv\")"
   ]
  }
 ],
 "metadata": {
  "kernelspec": {
   "display_name": "Python 3 (ipykernel)",
   "language": "python",
   "name": "python3"
  },
  "language_info": {
   "codemirror_mode": {
    "name": "ipython",
    "version": 3
   },
   "file_extension": ".py",
   "mimetype": "text/x-python",
   "name": "python",
   "nbconvert_exporter": "python",
   "pygments_lexer": "ipython3",
   "version": "3.10.4"
  }
 },
 "nbformat": 4,
 "nbformat_minor": 5
}
