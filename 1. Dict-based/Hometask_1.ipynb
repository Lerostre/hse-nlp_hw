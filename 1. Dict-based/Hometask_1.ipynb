{
 "cells": [
  {
   "cell_type": "markdown",
   "metadata": {
    "colab": {},
    "colab_type": "code",
    "id": "LrdL__lCtr6M"
   },
   "source": [
    "## Базовые требования к домашкам\n",
    "\n",
    "1. Формат - jupyter-тетрадка или скрипт на питоне\n",
    "2. Мы запускаем ваши тетрадки с нуля, поэтому следите, чтобы не было \n",
    "- необъявленных переменных (удалили ячейку, а переменная продолжает использоваться)\n",
    "- лишних принтов отладочной информации\n",
    "3. Комментарии приветствуются!"
   ]
  },
  {
   "cell_type": "markdown",
   "metadata": {
    "colab_type": "text",
    "id": "r_CzjN-StydR"
   },
   "source": [
    "## Задание\n",
    "В рамках этого задания мы будем создавать программу, которая получая на вход отзыв, будет предсказывать, является отзыв положительным или отрицательным. Делать мы будем это таким образом: мы возьмём некоторое число заранее размеченных как положительные или отрицательные отзывов, выделим те слова, которые встречаются только в положительных или только в отрицательных отзывах, и будем считать, каких слов  в поступившем нам на проверку отзыве больше.\n",
    "\n",
    "\n",
    "Мы будем работать по заранее определённому пайплайну:"
   ]
  },
  {
   "cell_type": "markdown",
   "metadata": {},
   "source": [
    "### 1. Сбор данных\n",
    "Сначала нам надо скачать дату -- соберите как минимум 60 (30 положительных  и 30 отрицательных) отзывов на похожие продукты (не надо мешать отзывы на отели с отзывами на ноутбуки) для составления \"тонального словаря\" (чем больше отзывов, тем лучше)  и 10 отзывов для проверки качества.   (2 балла в случае сбора путём парсинга, 1 - если найдете уже готовые данные или просто закопипастите без парсинга)"
   ]
  },
  {
   "cell_type": "markdown",
   "metadata": {},
   "source": [
    "В качестве данных я хотел взять отзывы на пиво. Для этого сперва потребуется импортировать всё для работы с сайтами"
   ]
  },
  {
   "cell_type": "code",
   "execution_count": 1,
   "metadata": {},
   "outputs": [],
   "source": [
    "import urllib.request\n",
    "import requests\n",
    "import re\n",
    "import os\n",
    "from bs4 import BeautifulSoup"
   ]
  },
  {
   "cell_type": "markdown",
   "metadata": {},
   "source": [
    "Отзывы я брал в первую очередь с сайта irecommend.ru, он банит соединение буквально через 5 запросов с одного айпи, поэтому мне нужен был прокси. Ниже все импорты, которые я использовал, когда приходилось парсить разные запрещённые сайты. Самое главное, что мне оттуда нужно - игнор ssl сертификата, некоторые прокси без этого не работают, библиотечка FreeProxy, которая берёт рандомный работающий прокси из пула и ошибки, чтобы их обрабатывать, хотя по-моему получилось справиться без них"
   ]
  },
  {
   "cell_type": "code",
   "execution_count": 2,
   "metadata": {},
   "outputs": [],
   "source": [
    "import traceback\n",
    "import ssl\n",
    "import sqlite3\n",
    "from pprint import pprint\n",
    "from fake_useragent import UserAgent\n",
    "from fp.fp import FreeProxy\n",
    "from requests import ConnectTimeout, HTTPError, Timeout, ConnectionError\n",
    "\n",
    "from tqdm.auto import tqdm\n",
    "\n",
    "ssl.SSLContext.verify_mode = ssl.VerifyMode.CERT_OPTIONAL\n",
    "\n",
    "try:\n",
    "    _create_unverified_https_context = ssl._create_unverified_context\n",
    "except AttributeError:\n",
    "    pass\n",
    "else:\n",
    "    ssl._create_default_https_context = _create_unverified_https_context"
   ]
  },
  {
   "cell_type": "markdown",
   "metadata": {},
   "source": [
    "Дальше собираю все ссылки, которые мне нужны и создаю сессию. Ещё один сайт, который я брал - pivobzor.ru, там гораздо меньше обзоров, зато его удобнее парсить. Изначально я планировал ограничиться только им, но мне показалось, что выборка слишком маленькая. Кусок под комментом - как раз оттуда, остальное из irecommend.ru"
   ]
  },
  {
   "cell_type": "code",
   "execution_count": 3,
   "metadata": {},
   "outputs": [],
   "source": [
    "#urls = [f\"https://pivobzor.ru/category/beerreviews/page/{i}/\" for i in range(1, 28)]\n",
    "urls = [f\"https://irecommend.ru/catalog/reviews/938-3209\"]\n",
    "urls += [urls[-1]+f\"?page={i}\" for i in range(101)]\n",
    "\n",
    "session = requests.session()\n",
    "session.trust_env = False"
   ]
  },
  {
   "cell_type": "markdown",
   "metadata": {},
   "source": [
    "Чтобы было, куда записывать данные, нужен датафрейм. В него записываю уникальную ссылку, заголовок, текст и рейтинг. Я использовал разные csv, чтобы хранить результаты с разных сайтов, потом всё сконкатенировал в один, скорее всего код потерялся по пути, заново обкачивать сайты не хочется, это очень долго, если очень хочется, ссылки все сохранились, можно по ним походить"
   ]
  },
  {
   "cell_type": "code",
   "execution_count": 4,
   "metadata": {},
   "outputs": [],
   "source": [
    "import pandas as pd\n",
    "from tqdm import tqdm\n",
    "df = pd.DataFrame(columns=[\"href\", \"title\", \"text\", \"rating\"])"
   ]
  },
  {
   "cell_type": "markdown",
   "metadata": {},
   "source": [
    "Ниже кусок, которым я парсил irecommend. Выполняется, пока мне не надоест, потому что из-за ошибок ячейка постоянно прерывается. Беру рандомный прокси, если с ним всё ок, то выполняю код, если прокси не нашёлся, пробую ещё раз. Когда нашёл прокси, начинаю проход по всем ссылкам, где вытаскиваю всё, что мне интересно. Закомментил, чтобы при запуске всей тетрадки ничего не взорвалось"
   ]
  },
  {
   "cell_type": "code",
   "execution_count": 15,
   "metadata": {},
   "outputs": [
    {
     "name": "stderr",
     "output_type": "stream",
     "text": [
      "  0%|                                                                                          | 0/102 [00:03<?, ?it/s]\n",
      "  0%|                                                                                          | 0/102 [00:00<?, ?it/s]\n",
      "  0%|                                                                                           | 0/20 [00:00<?, ?it/s]\u001b[A\n",
      "  5%|████▏                                                                              | 1/20 [00:00<00:17,  1.08it/s]\u001b[A\n",
      " 10%|████████▎                                                                          | 2/20 [00:01<00:15,  1.20it/s]\u001b[A\n",
      " 15%|████████████▍                                                                      | 3/20 [00:02<00:13,  1.27it/s]\u001b[A\n",
      " 20%|████████████████▌                                                                  | 4/20 [00:03<00:11,  1.34it/s]\u001b[A\n",
      " 25%|████████████████████▊                                                              | 5/20 [00:03<00:09,  1.61it/s]\u001b[A\n",
      " 30%|████████████████████████▉                                                          | 6/20 [00:05<00:16,  1.15s/it]\u001b[A\n",
      " 35%|█████████████████████████████                                                      | 7/20 [00:08<00:20,  1.61s/it]\u001b[A\n",
      " 40%|█████████████████████████████████▏                                                 | 8/20 [00:08<00:15,  1.29s/it]\u001b[A\n",
      " 45%|█████████████████████████████████████▎                                             | 9/20 [00:09<00:12,  1.12s/it]\u001b[A\n",
      " 50%|█████████████████████████████████████████                                         | 10/20 [00:10<00:09,  1.03it/s]\u001b[A\n",
      " 55%|█████████████████████████████████████████████                                     | 11/20 [00:10<00:07,  1.16it/s]\u001b[A\n",
      " 60%|█████████████████████████████████████████████████▏                                | 12/20 [00:11<00:06,  1.28it/s]\u001b[A\n",
      " 65%|█████████████████████████████████████████████████████▎                            | 13/20 [00:11<00:04,  1.51it/s]\u001b[A\n",
      " 70%|█████████████████████████████████████████████████████████▍                        | 14/20 [00:13<00:05,  1.01it/s]\u001b[A\n",
      " 75%|█████████████████████████████████████████████████████████████▌                    | 15/20 [00:14<00:05,  1.01s/it]\u001b[A\n",
      " 80%|█████████████████████████████████████████████████████████████████▌                | 16/20 [00:15<00:03,  1.10it/s]\u001b[A\n",
      " 85%|█████████████████████████████████████████████████████████████████████▋            | 17/20 [00:15<00:02,  1.19it/s]\u001b[A\n",
      " 90%|█████████████████████████████████████████████████████████████████████████▊        | 18/20 [00:16<00:01,  1.31it/s]\u001b[A\n",
      " 95%|█████████████████████████████████████████████████████████████████████████████▉    | 19/20 [00:16<00:00,  1.53it/s]\u001b[A\n",
      "100%|██████████████████████████████████████████████████████████████████████████████████| 20/20 [00:17<00:00,  1.17it/s]\u001b[A\n",
      "  1%|▊                                                                                 | 1/102 [00:18<31:26, 18.68s/it]\n",
      "\n",
      "KeyboardInterrupt\n",
      "\n"
     ]
    }
   ],
   "source": [
    "\"\"\"\n",
    "while True:\n",
    "    # берём случайный прокси\n",
    "    proxy = FreeProxy().get()\n",
    "    proxies = {\n",
    "        \"https\": proxy,\n",
    "        \"http\": proxy\n",
    "    }\n",
    "\n",
    "    try:\n",
    "        # если прокси ок\n",
    "        for url in tqdm(urls):\n",
    "            # парсим страницу\n",
    "            req = session.get(url, proxies=proxies)\n",
    "            page = req.text\n",
    "            soup = BeautifulSoup(page, 'html.parser')\n",
    "\n",
    "            # если выкинуло на страницу с тех работами, прокси надо менять, это можно проверить по наличию TextSnippet'a\n",
    "            if not soup.select('div.reviewTextSnippet a[href]'):\n",
    "                break\n",
    "\n",
    "            # если нашёлся, то можно переходить на подстраницы отзывов по адресу в селекте\n",
    "            for a in tqdm(soup.select('div.reviewTextSnippet a[href]')):\n",
    "                try:\n",
    "                    href = \"https://irecommend.ru/\"+a['href']\n",
    "                    # проверяем, есть ли ссылка в базе, чтобы экономить время\n",
    "                    if href in df.href.values:\n",
    "                        continue\n",
    "\n",
    "                    # парсим подстраницу\n",
    "                    sub_req = session.get(\"https://irecommend.ru/\"+a['href'], proxies=proxies)\n",
    "                    sub_page = sub_req.text\n",
    "                    sub_soup = BeautifulSoup(sub_page, 'html.parser')\n",
    "\n",
    "                    # текст собираю по всем <p>\n",
    "                    text = \"\"\n",
    "                    for p in sub_soup.find_all('p'):\n",
    "                        raw = p.text\n",
    "                        text += raw.strip()+\" \"\n",
    "\n",
    "                    # заголовок для красоты    \n",
    "                    title = sub_soup.find(\"h2\", {\"class\": \"reviewTitle\"}).text\n",
    "                    # рейтинг напрямую не указан, считаю заполненные звёздочки срели всех звёздочек\n",
    "                    rating = sum(1 for tag in sub_soup.find_all(\"div\", {\"class\": \"star\"})[6:11] if \"on\" in str(tag))\n",
    "                    # запихиваю в датафрейм\n",
    "                    df = pd.concat([df, pd.DataFrame({\"href\": href, \"title\": title, \"rating\": rating, \"text\": text}, index=[0])])\n",
    "                    # записываю в csv на всякий случай\n",
    "                    df.to_csv(\"beer3.csv\")\n",
    "                except:\n",
    "                    continue\n",
    "    except:\n",
    "        pass\n"
   ]
  },
  {
   "cell_type": "code",
   "execution_count": 17,
   "metadata": {},
   "outputs": [
    {
     "data": {
      "text/html": [
       "<div>\n",
       "<style scoped>\n",
       "    .dataframe tbody tr th:only-of-type {\n",
       "        vertical-align: middle;\n",
       "    }\n",
       "\n",
       "    .dataframe tbody tr th {\n",
       "        vertical-align: top;\n",
       "    }\n",
       "\n",
       "    .dataframe thead th {\n",
       "        text-align: right;\n",
       "    }\n",
       "</style>\n",
       "<table border=\"1\" class=\"dataframe\">\n",
       "  <thead>\n",
       "    <tr style=\"text-align: right;\">\n",
       "      <th></th>\n",
       "      <th>href</th>\n",
       "      <th>title</th>\n",
       "      <th>text</th>\n",
       "      <th>rating</th>\n",
       "    </tr>\n",
       "  </thead>\n",
       "  <tbody>\n",
       "    <tr>\n",
       "      <th>0</th>\n",
       "      <td>https://irecommend.ru//content/zvezdatoe-svetl...</td>\n",
       "      <td>\\nЗвездатое светлое пиво с модным финским назв...</td>\n",
       "      <td>Пиво Хейнекен пробовала когда-то в молодости, ...</td>\n",
       "      <td>5</td>\n",
       "    </tr>\n",
       "    <tr>\n",
       "      <th>0</th>\n",
       "      <td>https://irecommend.ru//content/obychnyi-evrola...</td>\n",
       "      <td>\\nОбычный евролагер с маркетинговым чешским на...</td>\n",
       "      <td>В сети \"КиБ\" появился новый пивной бренд \"Star...</td>\n",
       "      <td>3</td>\n",
       "    </tr>\n",
       "    <tr>\n",
       "      <th>0</th>\n",
       "      <td>https://irecommend.ru//content/obychnaya-balti...</td>\n",
       "      <td>\\nОбычная Балтика только более качественная.</td>\n",
       "      <td>Всем привет! Сегодня мой отзыв будет о пиве Pe...</td>\n",
       "      <td>3</td>\n",
       "    </tr>\n",
       "    <tr>\n",
       "      <th>0</th>\n",
       "      <td>https://irecommend.ru//content/po-vkusu-pivo-m...</td>\n",
       "      <td>\\nПо вкусу пиво мне понравилось, Оно вкусное, ...</td>\n",
       "      <td>Всем доброго времени суток. В своих предыдущих...</td>\n",
       "      <td>4</td>\n",
       "    </tr>\n",
       "    <tr>\n",
       "      <th>0</th>\n",
       "      <td>https://irecommend.ru//content/ocherednoi-vydu...</td>\n",
       "      <td>\\nОчередной выдуманный бренд для стран СНГ</td>\n",
       "      <td>На сужающихся от импорта полках крупных сетевы...</td>\n",
       "      <td>3</td>\n",
       "    </tr>\n",
       "  </tbody>\n",
       "</table>\n",
       "</div>"
      ],
      "text/plain": [
       "                                                href  \\\n",
       "0  https://irecommend.ru//content/zvezdatoe-svetl...   \n",
       "0  https://irecommend.ru//content/obychnyi-evrola...   \n",
       "0  https://irecommend.ru//content/obychnaya-balti...   \n",
       "0  https://irecommend.ru//content/po-vkusu-pivo-m...   \n",
       "0  https://irecommend.ru//content/ocherednoi-vydu...   \n",
       "\n",
       "                                               title  \\\n",
       "0  \\nЗвездатое светлое пиво с модным финским назв...   \n",
       "0  \\nОбычный евролагер с маркетинговым чешским на...   \n",
       "0     \\nОбычная Балтика только более качественная.     \n",
       "0  \\nПо вкусу пиво мне понравилось, Оно вкусное, ...   \n",
       "0        \\nОчередной выдуманный бренд для стран СНГ    \n",
       "\n",
       "                                                text rating  \n",
       "0  Пиво Хейнекен пробовала когда-то в молодости, ...      5  \n",
       "0  В сети \"КиБ\" появился новый пивной бренд \"Star...      3  \n",
       "0  Всем привет! Сегодня мой отзыв будет о пиве Pe...      3  \n",
       "0  Всем доброго времени суток. В своих предыдущих...      4  \n",
       "0  На сужающихся от импорта полках крупных сетевы...      3  "
      ]
     },
     "execution_count": 17,
     "metadata": {},
     "output_type": "execute_result"
    }
   ],
   "source": [
    "df.head()"
   ]
  },
  {
   "cell_type": "markdown",
   "metadata": {},
   "source": [
    "Всего я обкачал где-то 50 страниц, это занимает очень долгое время из-за прокси. Вышло около 1000 отзывов"
   ]
  },
  {
   "cell_type": "markdown",
   "metadata": {},
   "source": [
    "Кусок с парсингом pivobzor'a я случайно стёр, но данные с него у меня остались в отдельном датафрейме. Надеюсь, одного парсинга выше хватит, чтобы убедить в том, что я умею это делать"
   ]
  },
  {
   "cell_type": "code",
   "execution_count": 5,
   "metadata": {},
   "outputs": [
    {
     "data": {
      "text/html": [
       "<div>\n",
       "<style scoped>\n",
       "    .dataframe tbody tr th:only-of-type {\n",
       "        vertical-align: middle;\n",
       "    }\n",
       "\n",
       "    .dataframe tbody tr th {\n",
       "        vertical-align: top;\n",
       "    }\n",
       "\n",
       "    .dataframe thead th {\n",
       "        text-align: right;\n",
       "    }\n",
       "</style>\n",
       "<table border=\"1\" class=\"dataframe\">\n",
       "  <thead>\n",
       "    <tr style=\"text-align: right;\">\n",
       "      <th></th>\n",
       "      <th>title</th>\n",
       "      <th>text</th>\n",
       "      <th>rating</th>\n",
       "    </tr>\n",
       "  </thead>\n",
       "  <tbody>\n",
       "    <tr>\n",
       "      <th>0</th>\n",
       "      <td>ABK Hefeweizen АБК Хефевайцен (Германия)</td>\n",
       "      <td>ABK небольшая баварская пивоварня, с очень бол...</td>\n",
       "      <td>7.5</td>\n",
       "    </tr>\n",
       "    <tr>\n",
       "      <th>1</th>\n",
       "      <td>Бочонок Для Друзей (Россия)</td>\n",
       "      <td>Пусть вас не смущает разница в размере бокала ...</td>\n",
       "      <td>4.8</td>\n",
       "    </tr>\n",
       "    <tr>\n",
       "      <th>2</th>\n",
       "      <td>Минское Жигулевское (Беларусь)</td>\n",
       "      <td>На этикетке указано что пиво произведено в Бел...</td>\n",
       "      <td>5.2</td>\n",
       "    </tr>\n",
       "    <tr>\n",
       "      <th>3</th>\n",
       "      <td>Yelamu Double Ipa Елами Дабл ИПА (Великобритания)</td>\n",
       "      <td>Пивоварня Thornbridge не частый гость на росси...</td>\n",
       "      <td>7.5</td>\n",
       "    </tr>\n",
       "    <tr>\n",
       "      <th>4</th>\n",
       "      <td>Бергише Ландбир Bergisches Landbier (Германия)</td>\n",
       "      <td>Пиво редкое. Производится на маленькой немецко...</td>\n",
       "      <td>7.8</td>\n",
       "    </tr>\n",
       "  </tbody>\n",
       "</table>\n",
       "</div>"
      ],
      "text/plain": [
       "                                               title  \\\n",
       "0           ABK Hefeweizen АБК Хефевайцен (Германия)   \n",
       "1                        Бочонок Для Друзей (Россия)   \n",
       "2                     Минское Жигулевское (Беларусь)   \n",
       "3  Yelamu Double Ipa Елами Дабл ИПА (Великобритания)   \n",
       "4     Бергише Ландбир Bergisches Landbier (Германия)   \n",
       "\n",
       "                                                text  rating  \n",
       "0  ABK небольшая баварская пивоварня, с очень бол...     7.5  \n",
       "1  Пусть вас не смущает разница в размере бокала ...     4.8  \n",
       "2  На этикетке указано что пиво произведено в Бел...     5.2  \n",
       "3  Пивоварня Thornbridge не частый гость на росси...     7.5  \n",
       "4  Пиво редкое. Производится на маленькой немецко...     7.8  "
      ]
     },
     "execution_count": 5,
     "metadata": {},
     "output_type": "execute_result"
    }
   ],
   "source": [
    "df1 = pd.read_csv(\"beer1.csv\", index_col=0)\n",
    "df1.head()[[\"title\", \"text\", \"rating\"]]"
   ]
  },
  {
   "cell_type": "markdown",
   "metadata": {},
   "source": [
    "Тогда я ещё не собирал ссылки, но опять же при желании можно всё это просмотреть хотя бы по заголовкам. Рейтинги на том сайте в 10-балльной вещественной шкале, нужно сперва привести к пятибалльной целочисленной"
   ]
  },
  {
   "cell_type": "code",
   "execution_count": 6,
   "metadata": {},
   "outputs": [],
   "source": [
    "df1.rating = df1.rating.apply(lambda x: round(x/2))"
   ]
  },
  {
   "cell_type": "markdown",
   "metadata": {},
   "source": [
    "Распределение баллов с pivobzor'a. Как видно, здесь разбиение достаточно разумное"
   ]
  },
  {
   "cell_type": "code",
   "execution_count": 7,
   "metadata": {},
   "outputs": [
    {
     "data": {
      "text/plain": [
       "count    214.000000\n",
       "mean       2.780374\n",
       "std        0.926089\n",
       "min        0.000000\n",
       "25%        2.000000\n",
       "50%        3.000000\n",
       "75%        3.000000\n",
       "max        5.000000\n",
       "Name: rating, dtype: float64"
      ]
     },
     "execution_count": 7,
     "metadata": {},
     "output_type": "execute_result"
    }
   ],
   "source": [
    "df1.rating.describe()"
   ]
  },
  {
   "cell_type": "markdown",
   "metadata": {},
   "source": [
    "Распределение баллов с irecommend. Здесь уже сильный перекос в сторону положительных отзывов, средний балл - около 4"
   ]
  },
  {
   "cell_type": "code",
   "execution_count": 8,
   "metadata": {},
   "outputs": [
    {
     "data": {
      "text/plain": [
       "count    1010.000000\n",
       "mean        3.970297\n",
       "std         1.218095\n",
       "min         1.000000\n",
       "25%         3.000000\n",
       "50%         4.000000\n",
       "75%         5.000000\n",
       "max         5.000000\n",
       "Name: rating, dtype: float64"
      ]
     },
     "execution_count": 8,
     "metadata": {},
     "output_type": "execute_result"
    }
   ],
   "source": [
    "df2 = pd.read_csv(\"beer2.csv\")\n",
    "df2.rating.describe()"
   ]
  },
  {
   "cell_type": "markdown",
   "metadata": {},
   "source": [
    "В следующем файле у меня уже собраны вместе все тексты и там же на самом деле хранится тональность отзыва и обработанный текст, поэтому нигде ниже я специально файл не дописываю. Я уже проследил, чтобы там не было нанов и дубликатов, но при дописывании обязательно надо учесть такой риск "
   ]
  },
  {
   "cell_type": "code",
   "execution_count": 9,
   "metadata": {},
   "outputs": [],
   "source": [
    "df = pd.read_csv(\"beer_data.csv\", index_col=0)"
   ]
  },
  {
   "cell_type": "markdown",
   "metadata": {},
   "source": [
    "Суммарное распределение баллов"
   ]
  },
  {
   "cell_type": "code",
   "execution_count": 10,
   "metadata": {},
   "outputs": [],
   "source": [
    "%matplotlib inline\n",
    "import matplotlib as mpl\n",
    "import matplotlib.pyplot as plt\n",
    "import seaborn as sns\n",
    "\n",
    "# код для красивых графиков\n",
    "%config InlineBackend.figure_format = 'retina'\n",
    "plt.rcParams['figure.figsize'] = 8, 5\n",
    "plt.rcParams['font.size'] = 12\n",
    "mpl.rcParams['savefig.format'] = 'pdf'\n",
    "sns.set_style('darkgrid')"
   ]
  },
  {
   "cell_type": "code",
   "execution_count": 11,
   "metadata": {},
   "outputs": [
    {
     "data": {
      "text/plain": [
       "Text(0.5, 1.0, 'Rating distribution')"
      ]
     },
     "execution_count": 11,
     "metadata": {},
     "output_type": "execute_result"
    },
    {
     "data": {
      "image/png": "[encoded data removed]",
      "text/plain": [
       "<Figure size 576x360 with 1 Axes>"
      ]
     },
     "metadata": {
      "image/png": {
       "height": 337,
       "width": 503
      }
     },
     "output_type": "display_data"
    }
   ],
   "source": [
    "ax = df.rating.value_counts().plot.bar(rot=0, color=\"navy\")\n",
    "ax.set_xlabel(\"rating\")\n",
    "ax.set_ylabel(\"number\")\n",
    "ax.set_title(\"Rating distribution\")"
   ]
  },
  {
   "cell_type": "markdown",
   "metadata": {},
   "source": [
    "Возникает проблема - на всей выборке средний рейтинг почти, по большей части в целом не опускается ниже 3, судя по первому квартилю"
   ]
  },
  {
   "cell_type": "code",
   "execution_count": 12,
   "metadata": {},
   "outputs": [
    {
     "data": {
      "text/plain": [
       "count    1219.000000\n",
       "mean        3.762100\n",
       "std         1.255206\n",
       "min         0.000000\n",
       "25%         3.000000\n",
       "50%         4.000000\n",
       "75%         5.000000\n",
       "max         5.000000\n",
       "Name: rating, dtype: float64"
      ]
     },
     "execution_count": 12,
     "metadata": {},
     "output_type": "execute_result"
    }
   ],
   "source": [
    "df.rating.describe()"
   ]
  },
  {
   "cell_type": "markdown",
   "metadata": {},
   "source": [
    "Поскольку у нас задача бинарной классификации, я решил закодировать всё, что меньше 3, как отрицательный отзыв."
   ]
  },
  {
   "cell_type": "code",
   "execution_count": 13,
   "metadata": {},
   "outputs": [],
   "source": [
    "df[\"sentiment\"] = df.rating.apply(lambda x: 1 if x >= 4 else -1)"
   ]
  },
  {
   "cell_type": "code",
   "execution_count": 14,
   "metadata": {},
   "outputs": [
    {
     "data": {
      "text/plain": [
       "Text(0.5, 1.0, 'Rating distribution')"
      ]
     },
     "execution_count": 14,
     "metadata": {},
     "output_type": "execute_result"
    },
    {
     "data": {
      "image/png": "[encoded data removed]",
      "text/plain": [
       "<Figure size 576x360 with 1 Axes>"
      ]
     },
     "metadata": {
      "image/png": {
       "height": 337,
       "width": 503
      }
     },
     "output_type": "display_data"
    }
   ],
   "source": [
    "ax = df.rating.value_counts().plot.bar(rot=0, color=[\"teal\"]*2+[\"crimson\"]*4)\n",
    "ax.set_xlabel(\"rating\")\n",
    "ax.set_ylabel(\"number\")\n",
    "ax.set_title(\"Rating distribution\")"
   ]
  },
  {
   "cell_type": "markdown",
   "metadata": {},
   "source": [
    "В таком случае картина получается уже гораздо лучше"
   ]
  },
  {
   "cell_type": "code",
   "execution_count": 15,
   "metadata": {},
   "outputs": [
    {
     "data": {
      "text/plain": [
       "Text(0.5, 1.0, 'Rating distribution')"
      ]
     },
     "execution_count": 15,
     "metadata": {},
     "output_type": "execute_result"
    },
    {
     "data": {
      "image/png": "[encoded data removed]",
      "text/plain": [
       "<Figure size 576x360 with 1 Axes>"
      ]
     },
     "metadata": {
      "image/png": {
       "height": 337,
       "width": 503
      }
     },
     "output_type": "display_data"
    }
   ],
   "source": [
    "ax = df.sentiment.value_counts().plot.bar(rot=0, color=[\"teal\", \"crimson\"])\n",
    "ax.set_xlabel(\"rating\")\n",
    "ax.set_ylabel(\"number\")\n",
    "ax.set_title(\"Rating distribution\")"
   ]
  },
  {
   "cell_type": "code",
   "execution_count": 16,
   "metadata": {},
   "outputs": [
    {
     "data": {
      "text/plain": [
       " 1    0.632486\n",
       "-1    0.367514\n",
       "Name: sentiment, dtype: float64"
      ]
     },
     "execution_count": 16,
     "metadata": {},
     "output_type": "execute_result"
    }
   ],
   "source": [
    "df.sentiment.value_counts(normalize=True)"
   ]
  },
  {
   "cell_type": "markdown",
   "metadata": {},
   "source": [
    "Ну и на самом деле отзывы с рейтингом около 3 довольно часто оказываются именно отрицательными, а не просто нейтральными. По крайней мере там часто есть именно критика, просто обычно в более мягкой форме, чем при рейтинге 2 или 1, можно потыкать в следующей ячейке"
   ]
  },
  {
   "cell_type": "code",
   "execution_count": 80,
   "metadata": {},
   "outputs": [
    {
     "name": "stdout",
     "output_type": "stream",
     "text": [
      " еще одну банку другой разновидности. Но вдруг то пиво понравиться мне больше. На этом у меня все. Пиво Willianbrau Lager Premium ♥♥♥ Заключение♥♥♥ Пиво Willianbrau Lager Premium– среднее и посредственное пиво. Моя оценка - тройка и не более того. К покупке не рекомендую. С вами была ваша ♥ Неонила \n",
      "\n",
      "зводитель прислушается к мнению потребителей и улучшит или \"проведет работу над ошибками\", ведь массовых российских продуктов(сортов) аналогичных почти нет. Но на сегодняшний этот новый продукт не решает импортозамещение настоящего пилса...Спасибо за внимание и всем новых гастрономических открытий! \n",
      "\n",
      "овершенно неважно, какая температура у него будет. Даже в холодном виде, но без газа, карета с гарантией превращается в тыкву, стоит часам пробить полночь. Никакая закуска не может победить этот эффект. Поэтому либо покупайте в банках, а если купили ПЭТ, то подумайте, с кем вы можете им поделиться. \n",
      "\n",
      "шь тогда, когда так в охотку захотелось пивка,но вы не слишком требовательны.  В общем, для непретезательных людей, таких как я сойдёт. Оно кстати, быстро выдыхается и превращается в что-то похожее на квас который простоял несколько дней с открытой крышкой.  Вывод - имеет место быть, но на троечку. \n",
      "\n",
      "Темное фильтрованное пастеризованное пиво. \n",
      "\n"
     ]
    }
   ],
   "source": [
    "for i in df[df.rating == 3].text.sample(5):\n",
    "    print(i[-300:], end=\"\\n\\n\")"
   ]
  },
  {
   "cell_type": "markdown",
   "metadata": {},
   "source": [
    "### 2. Процессинг данных\n",
    "Токенизируйте слова,  приведите их к нижнему регистру и к начальной форме  (1 балл за токенизацию, 1 - за начальную форму)"
   ]
  },
  {
   "cell_type": "markdown",
   "metadata": {},
   "source": [
    "Для токенизации я взял обычные инструменты из nltk плюс немного pymorphy"
   ]
  },
  {
   "cell_type": "code",
   "execution_count": 17,
   "metadata": {},
   "outputs": [],
   "source": [
    "import nltk\n",
    "from nltk.corpus import stopwords\n",
    "from nltk.stem import WordNetLemmatizer\n",
    "from nltk.tokenize import RegexpTokenizer\n",
    "import pymorphy2\n",
    "import string\n",
    "\n",
    "morph = pymorphy2.MorphAnalyzer()\n",
    "# беру только буквы, без цифр\n",
    "tokenizer = RegexpTokenizer(r'[^\\d\\W]+')\n",
    "russian_stopwords = stopwords.words(\"russian\")"
   ]
  },
  {
   "cell_type": "markdown",
   "metadata": {},
   "source": [
    "Ниже функция, котоой я превращаю отдельный текст в список лемм, от пунктуации чистить токенайзер, от стоп слов чищу сам в функции"
   ]
  },
  {
   "cell_type": "code",
   "execution_count": 18,
   "metadata": {},
   "outputs": [],
   "source": [
    "def preprocess(text):\n",
    "    tokens = tokenizer.tokenize(text)\n",
    "    lemmas = [morph.parse(x)[0].normal_form for x in tokens if x not in russian_stopwords]\n",
    "    return lemmas"
   ]
  },
  {
   "cell_type": "markdown",
   "metadata": {},
   "source": [
    "Применяю, получаю список, вношу его в колонку"
   ]
  },
  {
   "cell_type": "code",
   "execution_count": 19,
   "metadata": {},
   "outputs": [],
   "source": [
    "df[\"processed\"] = df.text.apply(lambda x: preprocess(x))"
   ]
  },
  {
   "cell_type": "markdown",
   "metadata": {},
   "source": [
    "### 3. Создание словарей для dictionary-based классификации\n",
    "Составьте 2 множества - в одном будут слова, которые встречаются только в положительных отзывах, а в другом - встречающиеся только в отрицательных. Попробуйте поиграть с частотностями и исключить шум (к примеру, выбросить слова, встречающиеся 1-2 раза) (2 балла) (если у вас получились пустые множества, уберите фильтр по частотности или увеличьте выборку)"
   ]
  },
  {
   "cell_type": "markdown",
   "metadata": {},
   "source": [
    "Сперва я делю на трейн и тест. Если я хочу получить положительные и отрицательные слова, в идеале они должны быть взяты из трейна, чтобы оценка качества была наиболее правдоподобной"
   ]
  },
  {
   "cell_type": "code",
   "execution_count": 20,
   "metadata": {},
   "outputs": [],
   "source": [
    "from sklearn.model_selection import train_test_split\n",
    "from sklearn.metrics import accuracy_score\n",
    "from collections import Counter\n",
    "\n",
    "y = df.sentiment\n",
    "X = df.drop(\"sentiment\", axis=1)\n",
    "\n",
    "X_train, X_test, y_train, y_test = train_test_split(X, y, random_state=671, shuffle=True, test_size=10)"
   ]
  },
  {
   "cell_type": "markdown",
   "metadata": {},
   "source": [
    "Чтобы получить поляризованные слова, нужно сперва взять просто списки слов из соответствующих подмножеств, засунуть их в какой-нибудь хешируемый объект и взять симметрическую разность"
   ]
  },
  {
   "cell_type": "code",
   "execution_count": 21,
   "metadata": {},
   "outputs": [],
   "source": [
    "def get_words(X_train, y_train):\n",
    "    # слова берутся для тренировочной подвыборки\n",
    "    \n",
    "    # сперва сливаю X и y обратно, чтобы отделить хорошие и плохие отзывы\n",
    "    concatted = pd.concat([X_train, y_train], axis=1)\n",
    "    # беру колонку с леммами\n",
    "    good_words = concatted[concatted.sentiment == 1].processed\n",
    "    bad_words = concatted[concatted.sentiment == -1].processed\n",
    "    \n",
    "    # суммирую, чтобы получить один большой массив, беру каунтер\n",
    "    good = Counter(good_words.sum())\n",
    "    bad = Counter(bad_words.sum())\n",
    "\n",
    "    # беру разность двух множеств и заново заполняю каунтер,\n",
    "    # при обычной разности будут вычитаться именно каунты, а я хочу их сохранить\n",
    "    bad_words = Counter({k : bad[k] for k in set(bad) - set(good)})\n",
    "    good_words = Counter({k : good[k] for k in set(good) - set(bad)})\n",
    "    \n",
    "    return good_words, bad_words"
   ]
  },
  {
   "cell_type": "code",
   "execution_count": 22,
   "metadata": {},
   "outputs": [],
   "source": [
    "good_words, bad_words = get_words(X_train, y_train)"
   ]
  },
  {
   "cell_type": "markdown",
   "metadata": {},
   "source": [
    "Можно дополнительно исключить слишком частые или слишком редкие слова. Я на самом деле думаю, что совсем исключать их не стоит, но об этом в следующем пункте"
   ]
  },
  {
   "cell_type": "code",
   "execution_count": 23,
   "metadata": {},
   "outputs": [],
   "source": [
    "good_words_filt = Counter({x: good_words[x] for x in good_words if good_words[x] in range(4, 15)})\n",
    "bad_words_filt = Counter({x: good_words[x] for x in good_words if good_words[x] in range(4, 15)})"
   ]
  },
  {
   "cell_type": "markdown",
   "metadata": {},
   "source": [
    "### 4. Простейший классификатор\n",
    "Создайте функцию, которая будет определять, положительный ли отзыв или отрицательный в зависимости от того, какие слова встретились в нём, и посчитайте качество при помощи accuracy (1  - за коректно работающую функцию, 1 - за подсчёт accuracy)"
   ]
  },
  {
   "cell_type": "markdown",
   "metadata": {},
   "source": [
    "Я надеюсь, что я правильно понял, что от нас требуется. Если так, то достаточно делает две проверки: прибавлять скор, если слово хорошее, или отнимать. В конце просто возьму максимум между знаком и -1, если положительных слов больше, очевидно он будет 1"
   ]
  },
  {
   "cell_type": "code",
   "execution_count": 24,
   "metadata": {},
   "outputs": [],
   "source": [
    "def sign(num):\n",
    "    # не импортировал, потому что 0 я видеть не хочу, а на такое допущение придётся пойти\n",
    "    # считаем, что нейтральных отзывов не бывает, пока\n",
    "    return -1 if num <= 0 else 1"
   ]
  },
  {
   "cell_type": "code",
   "execution_count": 25,
   "metadata": {},
   "outputs": [],
   "source": [
    "def sentiment_prediction(lemmas, gw, bw):\n",
    "    score = 0\n",
    "    \n",
    "    for lemma in lemmas:\n",
    "        if lemma in gw:\n",
    "            score += 1\n",
    "        elif lemma in bw:\n",
    "            score += -1\n",
    "            \n",
    "    return sign(score)"
   ]
  },
  {
   "cell_type": "code",
   "execution_count": 26,
   "metadata": {},
   "outputs": [
    {
     "data": {
      "text/plain": [
       "0.4"
      ]
     },
     "execution_count": 26,
     "metadata": {},
     "output_type": "execute_result"
    }
   ],
   "source": [
    "y_pred = X_test.processed.apply(lambda x: sentiment_prediction(x, good_words_filt, bad_words_filt))\n",
    "accuracy_score(y_pred, y_test)"
   ]
  },
  {
   "cell_type": "markdown",
   "metadata": {},
   "source": [
    "Здесь дело в тестовой выборке и в фильтре, как я и говорил"
   ]
  },
  {
   "cell_type": "markdown",
   "metadata": {},
   "source": [
    "Если взять тестовую выборку нормального размера, то будет видно, что предсказание всё равно довольно грустное. Вспоминаем, что классы у нас несбалансированы, можно было бы брать константный прогноз, было бы не сильно хуже. И по этой же причине на accuracy нет особого смысла смотреть, его не так просто проинтерпретировать, лучше взять рокаук"
   ]
  },
  {
   "cell_type": "code",
   "execution_count": 27,
   "metadata": {},
   "outputs": [
    {
     "name": "stdout",
     "output_type": "stream",
     "text": [
      "accuracy 0.6721311475409836\n",
      "roc 0.6469750889679715\n"
     ]
    }
   ],
   "source": [
    "from sklearn.metrics import roc_auc_score\n",
    "\n",
    "X_train, X_test, y_train, y_test = train_test_split(X, y, random_state=671, shuffle=True, test_size=.3)\n",
    "good_words, bad_words = get_words(X_train, y_train)\n",
    "good_words_filt = Counter({x: good_words[x] for x in good_words if good_words[x] in range(4, 15)})\n",
    "bad_words_filt = Counter({x: good_words[x] for x in good_words if good_words[x] in range(4, 15)})\n",
    "\n",
    "# фильтр даёт ухудшение качества, кстати, поэтому его нет в описании функции\n",
    "y_pred = X_test.processed.apply(lambda x: sentiment_prediction(x, good_words, bad_words))\n",
    "print(\"accuracy\", accuracy_score(y_pred, y_test))\n",
    "print(\"roc\", roc_auc_score(y_pred, y_test))"
   ]
  },
  {
   "cell_type": "code",
   "execution_count": 28,
   "metadata": {},
   "outputs": [
    {
     "name": "stdout",
     "output_type": "stream",
     "text": [
      "accuracy 0.6174863387978142\n",
      "roc 0.5955063192385707\n"
     ]
    }
   ],
   "source": [
    "y_pred = X_test.processed.apply(lambda x: sentiment_prediction(x, good_words_filt, bad_words_filt))\n",
    "print(\"accuracy\", accuracy_score(y_pred, y_test))\n",
    "print(\"roc\", roc_auc_score(y_pred, y_test))"
   ]
  },
  {
   "cell_type": "markdown",
   "metadata": {},
   "source": [
    "Ну и итоговый рок тоже весьма пессимситичный, надо дорабатывать модель"
   ]
  },
  {
   "cell_type": "markdown",
   "metadata": {},
   "source": [
    "### 5. Как сделать лучше"
   ]
  },
  {
   "cell_type": "markdown",
   "metadata": {},
   "source": [
    "Предложите как минимум 2 способа улучшить эту программу с помощью добавления к ней любых мулек (1 балл за описание словами, 2 - если реализуете хотя бы один способ)"
   ]
  },
  {
   "cell_type": "markdown",
   "metadata": {},
   "source": [
    "Можно сделать много чего:\n",
    "\n",
    "1. Выборка не очень большая, вполне возможно, что какие-то \"хорошие\" или \"плохие\" слова мы не учли, или учли что-то лишнее, это решается просто - надо скачать побольше. Но возможность того, что слово употреблено в каком-то другом значении остаётся. Решение: взять ещё отзывов, можно докачать irecommend, там остановка где-то на 57 странице, или взять отзывы с otzovika, там тоже наберётся где-то 1000, но с ним та же проблема - опять искать прокси\n",
    "2. Попробовать улучшить текущий алгоритм. Сейчас в нём никак не учитывается собственно частотность слов. Решение: придумать функцию весов. Я уже говорил выше, что радикальный фильтр мне не очень нравится. Я предполагаю, что самые важные слова действительно имеют среднюю частотность - где-то в районе 10, но остальные тоже сойдут, можно учесть.\n",
    "3. Получившийся алгоритм слишком простой. Если бы задача была поуже, то может быть словари бы и сработали, но для описания прелести пива используются почти те же самые слова, что и для людей. На самом деле тональность не делится строго бинарно, она может быть смешанная, может быть наполовину негативная и т.д. В таком случае как раз могут помочь рейтинги, которые я тоже собирал, по ним можно построить регрессию и делать не просто оценку тональности, а оценку по 5-балльной шкале. Решение: сделать нормальные эмбеддинги и собрать сложную модель:\n",
    "\n",
    "    1) попробовать сделать что-то с нграммами, потому что мы учитываем только одно слово, а если перед ним стоит \"не\"? Тогда это уже не хорошо, надо давать скор в другую сторону, это из банального. Для этого можно обучить w2v, но выборка не очень большая, может и не сработать    \n",
    "    2) сделать что-нибудь через fasttext, но я не умею, зато он бы (наверное) решил проблему с незнакомыми словами, их тоже довольно много    \n",
    "    3) обучить какой-нибудь векторайзер из sklearn, выборка вроде бы достаточно большая, чтобы вышло что-то осмысленное, тогда улучшением будет просто подбор гиперпараметров    "
   ]
  },
  {
   "cell_type": "markdown",
   "metadata": {},
   "source": [
    "Сперва попробуем добавить веса. Я хотел придумать что-нибудь, что будет нормально относится к каунтам близким к 10, сильно обрубать меньший каунт (слишком редкие, чтобы влиять), больший каунт обрубать не так быстро (не знаем точно, стоп-слово или просто частое). Для этого я модифицировал сигмоиду - она почти пологая слева, то, что нужно, прибавил к ней x^2 в знаменателе, чтобы после достижения пика, функция начала убывать примерно как парабола, это не очень быстро с учётом экспоненты, но достаточно, чтобы затухнуть где-то после 20. На графике должно быть достаточно ясно"
   ]
  },
  {
   "cell_type": "code",
   "execution_count": 29,
   "metadata": {},
   "outputs": [
    {
     "data": {
      "image/png": "[encoded data removed]",
      "text/plain": [
       "<Figure size 576x360 with 1 Axes>"
      ]
     },
     "metadata": {
      "image/png": {
       "height": 340,
       "width": 484
      }
     },
     "output_type": "display_data"
    }
   ],
   "source": [
    "import math\n",
    "import numpy as np\n",
    "\n",
    "weight = lambda x: 100 * (1/(x**2 + math.e**(-x+11)))\n",
    "x_range = range(30)\n",
    "x_arange = np.arange(0, 30, 0.01)\n",
    "\n",
    "plt.scatter(x_range, [weight(i) for i in x_range], color=\"indigo\", label=r\"\"\"$\\frac{100}{x^2 + e^{-x+11}}$\"\"\")\n",
    "plt.plot(x_arange, [weight(i) for i in x_arange], color=\"indigo\", alpha=0.2)\n",
    "plt.legend()\n",
    "plt.suptitle(\"Weight function\")\n",
    "plt.show()"
   ]
  },
  {
   "cell_type": "markdown",
   "metadata": {},
   "source": [
    "Теперь посмотрим на результат после взвешивания"
   ]
  },
  {
   "cell_type": "code",
   "execution_count": 30,
   "metadata": {},
   "outputs": [],
   "source": [
    "def weighted_sentiment_prediction(lemmas, gw, bw):\n",
    "    score = 0\n",
    "    \n",
    "    for lemma in lemmas:\n",
    "        if lemma in gw:\n",
    "            score += weight(good_words[lemma])\n",
    "        elif lemma in bw:\n",
    "            score += -weight(bad_words[lemma])\n",
    "        \n",
    "    return sign(score)"
   ]
  },
  {
   "cell_type": "code",
   "execution_count": 31,
   "metadata": {},
   "outputs": [
    {
     "name": "stdout",
     "output_type": "stream",
     "text": [
      "До\n",
      "accuracy 0.6721311475409836\n",
      "roc 0.6469750889679715\n"
     ]
    }
   ],
   "source": [
    "y_pred = X_test.processed.apply(lambda x: sentiment_prediction(x, good_words, bad_words))\n",
    "print(\"До\")\n",
    "print(\"accuracy\", accuracy_score(y_pred, y_test))\n",
    "print(\"roc\", roc_auc_score(y_pred, y_test))"
   ]
  },
  {
   "cell_type": "code",
   "execution_count": 33,
   "metadata": {},
   "outputs": [
    {
     "name": "stdout",
     "output_type": "stream",
     "text": [
      "После\n",
      "accuracy 0.680327868852459\n",
      "roc 0.6660231660231659\n"
     ]
    }
   ],
   "source": [
    "y_pred = X_test.processed.apply(lambda x: weighted_sentiment_prediction(x, good_words, bad_words))\n",
    "print(\"После\")\n",
    "print(\"accuracy\", accuracy_score(y_pred, y_test))\n",
    "print(\"roc\", roc_auc_score(y_pred, y_test))"
   ]
  },
  {
   "cell_type": "markdown",
   "metadata": {},
   "source": [
    "Результат налицо, но этого всё равно мало. Делать нечего, нужны эмбеддинги. Да и задача понимания рейтинга по тексту гораздо интереснее скучной бинарной классификации, там такая функция точно не сработает. Но сперва разберёмся с классификацией"
   ]
  },
  {
   "cell_type": "code",
   "execution_count": 34,
   "metadata": {},
   "outputs": [],
   "source": [
    "# возьмём другой таргет\n",
    "\n",
    "y = df[[\"rating\", \"sentiment\"]]\n",
    "X = df.drop([\"rating\", \"sentiment\"], axis=1)\n",
    "\n",
    "X_train, X_test, y_train, y_test = train_test_split(X, y, random_state=671, shuffle=True, test_size=0.2)"
   ]
  },
  {
   "cell_type": "markdown",
   "metadata": {},
   "source": [
    "Я довольно долго сидел и подбирал параметры, так что везде, где можно было бы взять друой векторайзер, нормализовать, взять другой гиперпараметр в модели и всё такое прочее - да, можно, но скорее всего будет работать хуже. Ниже оптимальные модели, которые нашёл я"
   ]
  },
  {
   "cell_type": "code",
   "execution_count": 36,
   "metadata": {},
   "outputs": [],
   "source": [
    "from sklearn.feature_extraction.text import TfidfVectorizer\n",
    "\n",
    "tfidf = TfidfVectorizer(ngram_range=(1,2))\n",
    "# важно помнить, что текст у меня в отдельной колонке, из неё нужно собрать новую матрицу\n",
    "X_train_tfidf = tfidf.fit_transform(X_train.processed.apply(lambda x: \" \".join(i for i in x)))\n",
    "X_test_tfidf = tfidf.transform(X_test.processed.apply(lambda x: \" \".join(i for i in x)))"
   ]
  },
  {
   "cell_type": "markdown",
   "metadata": {},
   "source": [
    "Сперва так или иначе нужно векторизовать. Tfidf в целом даёт результат чуть получше, но будет обучаться гораздо дольше, так что при проверке придётся немного посидеть. В качестве модели я пробовал logreg, svm с разными ядрами и параметрами, random forest, adaboost и наконец catboost. Лучше всего, и приятнее всего работает последний, его даже объяснять особо не надо, я только надеюсь, что картинка не сломается, когда я сдам тетрадку, по-моему она работает только в ноутбуке, если что можно убрать параметр plot и поставить True в verbose"
   ]
  },
  {
   "cell_type": "code",
   "execution_count": null,
   "metadata": {
    "scrolled": true
   },
   "outputs": [
    {
     "data": {
      "application/vnd.jupyter.widget-view+json": {
       "model_id": "9b201a2485b146828d585ae57fd2e994",
       "version_major": 2,
       "version_minor": 0
      },
      "text/plain": [
       "MetricVisualizer(layout=Layout(align_self='stretch', height='500px'))"
      ]
     },
     "metadata": {},
     "output_type": "display_data"
    }
   ],
   "source": [
    "from catboost import CatBoostRegressor, CatBoostClassifier\n",
    "\n",
    "# разбираемся с классификацией\n",
    "model = CatBoostClassifier(max_depth=9, iterations=300, random_state=671, use_best_model=True)\n",
    "model.fit(X_train_tfidf, y_train.sentiment, plot=True, eval_set=(X_test_tfidf, y_test.sentiment), verbose=False)\n",
    "y_pred_class = model.predict(X_test_tfidf)"
   ]
  },
  {
   "cell_type": "markdown",
   "metadata": {},
   "source": [
    "Что в итоге получилось:"
   ]
  },
  {
   "cell_type": "code",
   "execution_count": 163,
   "metadata": {},
   "outputs": [],
   "source": [
    "y_pred_class = model.predict(X_test_tfidf)"
   ]
  },
  {
   "cell_type": "code",
   "execution_count": 165,
   "metadata": {},
   "outputs": [
    {
     "name": "stdout",
     "output_type": "stream",
     "text": [
      "accuracy 0.7623762376237624\n",
      "roc 0.7367249602543721\n"
     ]
    }
   ],
   "source": [
    "print(\"accuracy\", accuracy_score(y_pred_class, y_test))\n",
    "print(\"roc\", roc_auc_score(y_pred_class, y_test))"
   ]
  },
  {
   "cell_type": "code",
   "execution_count": null,
   "metadata": {},
   "outputs": [],
   "source": [
    "Это уже гораздо лучше, теперь попробуем для рейтинга в целом"
   ]
  },
  {
   "cell_type": "code",
   "execution_count": 51,
   "metadata": {
    "scrolled": true
   },
   "outputs": [
    {
     "data": {
      "application/vnd.jupyter.widget-view+json": {
       "model_id": "4feb0146b2bb48889d1e1f3143ff8b60",
       "version_major": 2,
       "version_minor": 0
      },
      "text/plain": [
       "MetricVisualizer(layout=Layout(align_self='stretch', height='500px'))"
      ]
     },
     "metadata": {},
     "output_type": "display_data"
    }
   ],
   "source": [
    "from catboost import CatBoostRegressor\n",
    "\n",
    "# теперь для регрессии\n",
    "model = CatBoostRegressor(loss_function=\"RMSE\", max_depth=9, iterations=300, random_state=671)\n",
    "model.fit(X_train_tfidf, y_train.rating, plot=True, eval_set=(X_test_tfidf, y_test.rating), verbose=False)\n",
    "y_pred_class = model.predict(X_test_tfidf)"
   ]
  },
  {
   "cell_type": "code",
   "execution_count": 65,
   "metadata": {},
   "outputs": [
    {
     "data": {
      "text/plain": [
       "0.21462765654174776"
      ]
     },
     "execution_count": 65,
     "metadata": {},
     "output_type": "execute_result"
    }
   ],
   "source": [
    "from sklearn.metrics import mean_squared_error\n",
    "mean_squared_error(y_pred_class, y_test.rating)**(1/2)/5 # беру NRMSE"
   ]
  },
  {
   "cell_type": "markdown",
   "metadata": {},
   "source": [
    "Если я понимаю, то это означает, что предсказание рейтинга ошибается примерно на 21%. Если так, то это вполне неплохо. Я думаю, что качество можно увеличить ещё больше, сделать RMSE меньше 1, но совсем чуть-чуть. В любом случае мне надоело крутить параметры, скорее всего это максимум, который можно отсюда выжать без нейросеток. Я бы и её состряпал тоже, но мне уже надоело, да и сел я поздновато"
   ]
  },
  {
   "cell_type": "markdown",
   "metadata": {},
   "source": [
    "Кстати, если потом вернуть всё в бинарное поле, то точность чуть-чуть увеличится"
   ]
  },
  {
   "cell_type": "code",
   "execution_count": 75,
   "metadata": {},
   "outputs": [
    {
     "data": {
      "text/plain": [
       "0.7871287128712872"
      ]
     },
     "execution_count": 75,
     "metadata": {},
     "output_type": "execute_result"
    }
   ],
   "source": [
    "vfunc = np.vectorize(lambda x: -1 if x <=3 else 1)\n",
    "accuracy_score(vfunc(y_pred_class), y_test.sentiment)"
   ]
  },
  {
   "cell_type": "markdown",
   "metadata": {},
   "source": [
    "Впрочем, w2v я всё-так обучил, польза от этого сомнительна, потому что я не зафиксировал сид, когда это делал, качество растёт не всегда (почти никогда), чего не скажешь про забавные похожие слова"
   ]
  },
  {
   "cell_type": "code",
   "execution_count": 85,
   "metadata": {},
   "outputs": [],
   "source": [
    "import gensim"
   ]
  },
  {
   "cell_type": "code",
   "execution_count": 4,
   "metadata": {},
   "outputs": [],
   "source": [
    "y = df.rating\n",
    "X = df.drop(\"rating\", axis=1)"
   ]
  },
  {
   "cell_type": "code",
   "execution_count": 349,
   "metadata": {},
   "outputs": [
    {
     "data": {
      "text/plain": [
       "(5614693, 6456400)"
      ]
     },
     "execution_count": 349,
     "metadata": {},
     "output_type": "execute_result"
    }
   ],
   "source": [
    "w2v = gensim.models.Word2Vec(\n",
    "            df.processed,\n",
    "            vector_size=300,\n",
    "            window=10,\n",
    "            min_count=2,                                  \n",
    "            sg = 1,\n",
    "            hs = 0,\n",
    "            negative = 5,\n",
    "            workers= 32,\n",
    "            seed = 34\n",
    ")\n",
    "\n",
    "w2v.train(X_train.processed, total_examples=len(df.processed), epochs=50)"
   ]
  },
  {
   "cell_type": "code",
   "execution_count": 401,
   "metadata": {},
   "outputs": [
    {
     "data": {
      "text/plain": [
       "[('начинающий', 0.6352782249450684),\n",
       " ('тунеядец', 0.5917229652404785),\n",
       " ('кайфовать', 0.5655452609062195),\n",
       " ('заядлый', 0.4840172529220581),\n",
       " ('вовремя', 0.4807225465774536),\n",
       " ('дурной', 0.47416311502456665),\n",
       " ('трезвенник', 0.4736362099647522),\n",
       " ('coronita', 0.45391443371772766),\n",
       " ('пьянство', 0.452775776386261),\n",
       " ('опьянить', 0.4485257565975189)]"
      ]
     },
     "execution_count": 401,
     "metadata": {},
     "output_type": "execute_result"
    }
   ],
   "source": [
    "w2v.wv.most_similar(\"алкоголик\")"
   ]
  },
  {
   "cell_type": "code",
   "execution_count": 350,
   "metadata": {},
   "outputs": [
    {
     "data": {
      "text/plain": [
       "[('начинающий', 0.6352782249450684),\n",
       " ('тунеядец', 0.5917229652404785),\n",
       " ('кайфовать', 0.5655452609062195),\n",
       " ('заядлый', 0.4840172529220581),\n",
       " ('вовремя', 0.4807225465774536),\n",
       " ('дурной', 0.47416311502456665),\n",
       " ('трезвенник', 0.4736362099647522),\n",
       " ('coronita', 0.45391443371772766),\n",
       " ('пьянство', 0.452775776386261),\n",
       " ('опьянить', 0.4485257565975189)]"
      ]
     },
     "execution_count": 350,
     "metadata": {},
     "output_type": "execute_result"
    }
   ],
   "source": [
    "w2v.wv.most_similar(\"алкоголик\")"
   ]
  },
  {
   "cell_type": "code",
   "execution_count": 351,
   "metadata": {},
   "outputs": [
    {
     "data": {
      "text/plain": [
       "[('болеть', 0.6070191860198975),\n",
       " ('голова', 0.5360240936279297),\n",
       " ('гудеть', 0.48447051644325256),\n",
       " ('беспамятство', 0.4633532762527466),\n",
       " ('сушняк', 0.4494900405406952),\n",
       " ('похмелие', 0.4483410716056824),\n",
       " ('головной', 0.42831090092658997),\n",
       " ('разболеться', 0.42787936329841614),\n",
       " ('перебрать', 0.4233745038509369),\n",
       " ('синдром', 0.4197368323802948)]"
      ]
     },
     "execution_count": 351,
     "metadata": {},
     "output_type": "execute_result"
    }
   ],
   "source": [
    "w2v.wv.most_similar(\"утро\")"
   ]
  },
  {
   "cell_type": "code",
   "execution_count": 352,
   "metadata": {},
   "outputs": [
    {
     "data": {
      "text/plain": [
       "[('бухнуть', 0.5462390780448914),\n",
       " ('сивуха', 0.46542614698410034),\n",
       " ('завозить', 0.43887805938720703),\n",
       " ('oеttinger', 0.4273475110530853),\n",
       " ('покупалко', 0.41774946451187134),\n",
       " ('закупать', 0.4136072099208832),\n",
       " ('возить', 0.41059452295303345),\n",
       " ('финансы', 0.390547513961792),\n",
       " ('ларёк', 0.3849930763244629),\n",
       " ('же', 0.3841054141521454)]"
      ]
     },
     "execution_count": 352,
     "metadata": {},
     "output_type": "execute_result"
    }
   ],
   "source": [
    "w2v.wv.most_similar(\"пятница\")"
   ]
  },
  {
   "cell_type": "markdown",
   "metadata": {},
   "source": [
    "Для того, чтобы от ворд2века что-то получить, нужно написать много букв, которые сделают мне векторы из отдельного текста. Это не оригинальный код, но за несколько тетрадок его источник потерялся, в любом случае идейно он не очень сложный"
   ]
  },
  {
   "cell_type": "code",
   "execution_count": 402,
   "metadata": {},
   "outputs": [],
   "source": [
    "def get_feature_vec(words, model, num_features):\n",
    "    # сначала нулевой вектор\n",
    "    feature_vec = np.zeros(num_features, dtype=\"float32\")\n",
    "    word_num = 0\n",
    "    \n",
    "    # сет для скорости\n",
    "    index2key = set(model.wv.index_to_key)\n",
    "    \n",
    "    # для всех слов в тексте\n",
    "    for word in words:\n",
    "        if word in index2key:\n",
    "            # если слово есть в словаре, увеличиваем каунт и компоненту вектора\n",
    "            word_num += 1\n",
    "            feature_vec = np.add(feature_vec, model.wv[word])\n",
    "    \n",
    "    # нормализую по количеству слов\n",
    "    feature_vec = np.divide(feature_vec, word_num)\n",
    "    return feature_vec"
   ]
  },
  {
   "cell_type": "code",
   "execution_count": 403,
   "metadata": {},
   "outputs": [],
   "source": [
    "def get_avg_vec(texts, model, num_features):\n",
    "    counter = 0\n",
    "    # сначала нулевая матрица\n",
    "    text_feature_vecs = np.zeros((len(texts),num_features),dtype=\"float32\")\n",
    "    \n",
    "    # для каждого отдельного текста в выборке\n",
    "    for text in texts:\n",
    "        # потихоньку заполняю матрицу векторами-текстами\n",
    "        text_feature_vecs[counter] = get_feature_vec(text, model, num_features)\n",
    "        # итерируемся по строкам\n",
    "        counter = counter+1\n",
    "        \n",
    "    return text_feature_vecs"
   ]
  },
  {
   "cell_type": "code",
   "execution_count": 404,
   "metadata": {},
   "outputs": [],
   "source": [
    "# нужна отдельная матрица векторов-текстов, собираю из колонки, потом применяю w2v к каждому тексту\n",
    "train_data = [x for x in X_train.processed]\n",
    "train_data_vecs = np.nan_to_num(get_avg_vec(train_data, w2v, 300))\n",
    "\n",
    "test_data = [x for x in X_test.processed]\n",
    "test_data_vecs = np.nan_to_num(get_avg_vec(test_data, w2v, 300))"
   ]
  },
  {
   "cell_type": "code",
   "execution_count": 428,
   "metadata": {},
   "outputs": [
    {
     "data": {
      "application/vnd.jupyter.widget-view+json": {
       "model_id": "dc398dbab3db4242ad81835efa3b2f4e",
       "version_major": 2,
       "version_minor": 0
      },
      "text/plain": [
       "MetricVisualizer(layout=Layout(align_self='stretch', height='500px'))"
      ]
     },
     "metadata": {},
     "output_type": "display_data"
    },
    {
     "name": "stderr",
     "output_type": "stream",
     "text": [
      "\n",
      "KeyboardInterrupt\n",
      "\n"
     ]
    }
   ],
   "source": [
    "from catboost import CatBoostRegressor\n",
    "\n",
    "# теперь для регрессии\n",
    "w2v_model = CatBoostRegressor(loss_function=\"RMSE\", max_depth=9, iterations=100, random_state=671)\n",
    "w2v_model.fit(train_data_vecs, y_train.rating, plot=True, eval_set=(test_data_vecs, y_test.rating), verbose=False)\n",
    "y_pred_class = w2v_model.predict(testDataVecs)"
   ]
  },
  {
   "cell_type": "markdown",
   "metadata": {},
   "source": [
    "Дальше встаёт вопрос - а зачем я вообще всё это делал? Не знаю, но это был интересный опыт. Она не очень полезна, но если очень хочется, можно переводить буквенные отзывы в циферки, это иногда бывает забавно. Я думаю потом что-нибудь сюда ещё прикрутить. А пока можно оценивать например рекламные ролики и смотреть, насколько они (не)похвалили пиво. На этом всё"
   ]
  },
  {
   "cell_type": "code",
   "execution_count": 415,
   "metadata": {},
   "outputs": [],
   "source": [
    "pred_text = \"\"\"В пиве твоя сила и мудрость. Вот, пожалуйста, толстяк. Нормальное пиво. Пацанское, хули\n",
    ". Пить можно. Ну, как его похвалить, ну, заебись пиво. Пиздатое пиво. Как его ещё похвалить, блядь? Хе-хе.\n",
    "Невъебенное пиво. Вот оно, жидкое золото!\"\"\""
   ]
  },
  {
   "cell_type": "code",
   "execution_count": 421,
   "metadata": {},
   "outputs": [],
   "source": [
    "pred_text = \"\"\"Теперь пиво 'Невское' в новой оригинальной бутылке, но это не имеет никакого значения,\n",
    "потому что важен только неповторимый, мягкий вкус пива 'Невское', вкус истинного наслаждения.\n",
    "'Невское', главное - мягкий вкус\"\"\""
   ]
  },
  {
   "cell_type": "code",
   "execution_count": 427,
   "metadata": {},
   "outputs": [
    {
     "name": "stdout",
     "output_type": "stream",
     "text": [
      "[4.18061023]\n"
     ]
    },
    {
     "ename": "CatBoostError",
     "evalue": "There is no trained model to use predict(). Use fit() to train model. Then use this method.",
     "output_type": "error",
     "traceback": [
      "\u001b[1;31m---------------------------------------------------------------------------\u001b[0m",
      "\u001b[1;31mCatBoostError\u001b[0m                             Traceback (most recent call last)",
      "Input \u001b[1;32mIn [427]\u001b[0m, in \u001b[0;36m<cell line: 2>\u001b[1;34m()\u001b[0m\n\u001b[0;32m      1\u001b[0m \u001b[38;5;28mprint\u001b[39m(model\u001b[38;5;241m.\u001b[39mpredict(tfidf\u001b[38;5;241m.\u001b[39mtransform([\u001b[38;5;124m\"\u001b[39m\u001b[38;5;124m \u001b[39m\u001b[38;5;124m\"\u001b[39m\u001b[38;5;241m.\u001b[39mjoin(x \u001b[38;5;28;01mfor\u001b[39;00m x \u001b[38;5;129;01min\u001b[39;00m preprocess(pred_text))])))\n\u001b[1;32m----> 2\u001b[0m \u001b[43mw2v_model\u001b[49m\u001b[38;5;241;43m.\u001b[39;49m\u001b[43mpredict\u001b[49m\u001b[43m(\u001b[49m\u001b[43mtfidf\u001b[49m\u001b[38;5;241;43m.\u001b[39;49m\u001b[43mtransform\u001b[49m\u001b[43m(\u001b[49m\u001b[43m[\u001b[49m\u001b[38;5;124;43m\"\u001b[39;49m\u001b[38;5;124;43m \u001b[39;49m\u001b[38;5;124;43m\"\u001b[39;49m\u001b[38;5;241;43m.\u001b[39;49m\u001b[43mjoin\u001b[49m\u001b[43m(\u001b[49m\u001b[43mx\u001b[49m\u001b[43m \u001b[49m\u001b[38;5;28;43;01mfor\u001b[39;49;00m\u001b[43m \u001b[49m\u001b[43mx\u001b[49m\u001b[43m \u001b[49m\u001b[38;5;129;43;01min\u001b[39;49;00m\u001b[43m \u001b[49m\u001b[43mpreprocess\u001b[49m\u001b[43m(\u001b[49m\u001b[43mpred_text\u001b[49m\u001b[43m)\u001b[49m\u001b[43m)\u001b[49m\u001b[43m]\u001b[49m\u001b[43m)\u001b[49m\u001b[43m)\u001b[49m\n",
      "File \u001b[1;32m~\\AppData\\Local\\Programs\\Python\\Python310\\lib\\site-packages\\catboost\\core.py:5635\u001b[0m, in \u001b[0;36mCatBoostRegressor.predict\u001b[1;34m(self, data, prediction_type, ntree_start, ntree_end, thread_count, verbose, task_type)\u001b[0m\n\u001b[0;32m   5633\u001b[0m \u001b[38;5;28;01mif\u001b[39;00m prediction_type \u001b[38;5;129;01mis\u001b[39;00m \u001b[38;5;28;01mNone\u001b[39;00m:\n\u001b[0;32m   5634\u001b[0m     prediction_type \u001b[38;5;241m=\u001b[39m \u001b[38;5;28mself\u001b[39m\u001b[38;5;241m.\u001b[39m_get_default_prediction_type()\n\u001b[1;32m-> 5635\u001b[0m \u001b[38;5;28;01mreturn\u001b[39;00m \u001b[38;5;28;43mself\u001b[39;49m\u001b[38;5;241;43m.\u001b[39;49m\u001b[43m_predict\u001b[49m\u001b[43m(\u001b[49m\u001b[43mdata\u001b[49m\u001b[43m,\u001b[49m\u001b[43m \u001b[49m\u001b[43mprediction_type\u001b[49m\u001b[43m,\u001b[49m\u001b[43m \u001b[49m\u001b[43mntree_start\u001b[49m\u001b[43m,\u001b[49m\u001b[43m \u001b[49m\u001b[43mntree_end\u001b[49m\u001b[43m,\u001b[49m\u001b[43m \u001b[49m\u001b[43mthread_count\u001b[49m\u001b[43m,\u001b[49m\u001b[43m \u001b[49m\u001b[43mverbose\u001b[49m\u001b[43m,\u001b[49m\u001b[43m \u001b[49m\u001b[38;5;124;43m'\u001b[39;49m\u001b[38;5;124;43mpredict\u001b[39;49m\u001b[38;5;124;43m'\u001b[39;49m\u001b[43m,\u001b[49m\u001b[43m \u001b[49m\u001b[43mtask_type\u001b[49m\u001b[43m)\u001b[49m\n",
      "File \u001b[1;32m~\\AppData\\Local\\Programs\\Python\\Python310\\lib\\site-packages\\catboost\\core.py:2458\u001b[0m, in \u001b[0;36mCatBoost._predict\u001b[1;34m(self, data, prediction_type, ntree_start, ntree_end, thread_count, verbose, parent_method_name, task_type)\u001b[0m\n\u001b[0;32m   2456\u001b[0m \u001b[38;5;28;01mif\u001b[39;00m verbose \u001b[38;5;129;01mis\u001b[39;00m \u001b[38;5;28;01mNone\u001b[39;00m:\n\u001b[0;32m   2457\u001b[0m     verbose \u001b[38;5;241m=\u001b[39m \u001b[38;5;28;01mFalse\u001b[39;00m\n\u001b[1;32m-> 2458\u001b[0m data, data_is_single_object \u001b[38;5;241m=\u001b[39m \u001b[38;5;28;43mself\u001b[39;49m\u001b[38;5;241;43m.\u001b[39;49m\u001b[43m_process_predict_input_data\u001b[49m\u001b[43m(\u001b[49m\u001b[43mdata\u001b[49m\u001b[43m,\u001b[49m\u001b[43m \u001b[49m\u001b[43mparent_method_name\u001b[49m\u001b[43m,\u001b[49m\u001b[43m \u001b[49m\u001b[43mthread_count\u001b[49m\u001b[43m)\u001b[49m\n\u001b[0;32m   2459\u001b[0m \u001b[38;5;28mself\u001b[39m\u001b[38;5;241m.\u001b[39m_validate_prediction_type(prediction_type)\n\u001b[0;32m   2461\u001b[0m predictions \u001b[38;5;241m=\u001b[39m \u001b[38;5;28mself\u001b[39m\u001b[38;5;241m.\u001b[39m_base_predict(data, prediction_type, ntree_start, ntree_end, thread_count, verbose, task_type)\n",
      "File \u001b[1;32m~\\AppData\\Local\\Programs\\Python\\Python310\\lib\\site-packages\\catboost\\core.py:2434\u001b[0m, in \u001b[0;36mCatBoost._process_predict_input_data\u001b[1;34m(self, data, parent_method_name, thread_count, label)\u001b[0m\n\u001b[0;32m   2432\u001b[0m \u001b[38;5;28;01mdef\u001b[39;00m \u001b[38;5;21m_process_predict_input_data\u001b[39m(\u001b[38;5;28mself\u001b[39m, data, parent_method_name, thread_count, label\u001b[38;5;241m=\u001b[39m\u001b[38;5;28;01mNone\u001b[39;00m):\n\u001b[0;32m   2433\u001b[0m     \u001b[38;5;28;01mif\u001b[39;00m \u001b[38;5;129;01mnot\u001b[39;00m \u001b[38;5;28mself\u001b[39m\u001b[38;5;241m.\u001b[39mis_fitted() \u001b[38;5;129;01mor\u001b[39;00m \u001b[38;5;28mself\u001b[39m\u001b[38;5;241m.\u001b[39mtree_count_ \u001b[38;5;129;01mis\u001b[39;00m \u001b[38;5;28;01mNone\u001b[39;00m:\n\u001b[1;32m-> 2434\u001b[0m         \u001b[38;5;28;01mraise\u001b[39;00m CatBoostError((\u001b[38;5;124m\"\u001b[39m\u001b[38;5;124mThere is no trained model to use \u001b[39m\u001b[38;5;132;01m{}\u001b[39;00m\u001b[38;5;124m(). \u001b[39m\u001b[38;5;124m\"\u001b[39m\n\u001b[0;32m   2435\u001b[0m                              \u001b[38;5;124m\"\u001b[39m\u001b[38;5;124mUse fit() to train model. Then use this method.\u001b[39m\u001b[38;5;124m\"\u001b[39m)\u001b[38;5;241m.\u001b[39mformat(parent_method_name))\n\u001b[0;32m   2436\u001b[0m     is_single_object \u001b[38;5;241m=\u001b[39m _is_data_single_object(data)\n\u001b[0;32m   2437\u001b[0m     \u001b[38;5;28;01mif\u001b[39;00m \u001b[38;5;129;01mnot\u001b[39;00m \u001b[38;5;28misinstance\u001b[39m(data, Pool):\n",
      "\u001b[1;31mCatBoostError\u001b[0m: There is no trained model to use predict(). Use fit() to train model. Then use this method."
     ]
    }
   ],
   "source": [
    "print(model.predict(tfidf.transform([\" \".join(x for x in preprocess(pred_text))])))\n",
    "w2v_model.predict(tfidf.transform([\" \".join(x for x in preprocess(pred_text))]))"
   ]
  },
  {
   "cell_type": "code",
   "execution_count": 423,
   "metadata": {},
   "outputs": [
    {
     "name": "stderr",
     "output_type": "stream",
     "text": [
      "C:\\Users\\Maloy\\AppData\\Local\\Temp\\ipykernel_18100\\1776108400.py:17: RuntimeWarning: invalid value encountered in true_divide\n",
      "  feature_vec = np.divide(feature_vec, word_num)\n"
     ]
    },
    {
     "data": {
      "text/plain": [
       "3.876573064292061"
      ]
     },
     "execution_count": 423,
     "metadata": {},
     "output_type": "execute_result"
    }
   ],
   "source": [
    "model.predict(get_feature_vec([\" \".join(x for x in preprocess(pred_text))], w2v, 300))"
   ]
  }
 ],
 "metadata": {
  "colab": {
   "authorship_tag": "ABX9TyOhO9ANVm4SXK9q5vI0e+E4",
   "collapsed_sections": [],
   "name": "Hometask 1.ipynb",
   "provenance": []
  },
  "kernelspec": {
   "display_name": "Python 3 (ipykernel)",
   "language": "python",
   "name": "python3"
  },
  "language_info": {
   "codemirror_mode": {
    "name": "ipython",
    "version": 3
   },
   "file_extension": ".py",
   "mimetype": "text/x-python",
   "name": "python",
   "nbconvert_exporter": "python",
   "pygments_lexer": "ipython3",
   "version": "3.10.4"
  }
 },
 "nbformat": 4,
 "nbformat_minor": 4
}
