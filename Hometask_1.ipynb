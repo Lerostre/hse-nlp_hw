{
 "cells": [
  {
   "cell_type": "markdown",
   "metadata": {
    "colab": {},
    "colab_type": "code",
    "id": "LrdL__lCtr6M"
   },
   "source": [
    "## Базовые требования к домашкам\n",
    "\n",
    "1. Формат - jupyter-тетрадка или скрипт на питоне\n",
    "2. Мы запускаем ваши тетрадки с нуля, поэтому следите, чтобы не было \n",
    "- необъявленных переменных (удалили ячейку, а переменная продолжает использоваться)\n",
    "- лишних принтов отладочной информации\n",
    "3. Комментарии приветствуются!"
   ]
  },
  {
   "cell_type": "markdown",
   "metadata": {
    "colab_type": "text",
    "id": "r_CzjN-StydR"
   },
   "source": [
    "## Задание\n",
    "В рамках этого задания мы будем создавать программу, которая получая на вход отзыв, будет предсказывать, является отзыв положительным или отрицательным. Делать мы будем это таким образом: мы возьмём некоторое число заранее размеченных как положительные или отрицательные отзывов, выделим те слова, которые встречаются только в положительных или только в отрицательных отзывах, и будем считать, каких слов  в поступившем нам на проверку отзыве больше.\n",
    "\n",
    "\n",
    "Мы будем работать по заранее определённому пайплайну:\n",
    "\n",
    "1.  Сначала нам надо скачать дату -- соберите как минимум 60 (30 положительных  и 30 отрицательных) отзывов на похожие продукты (не надо мешать отзывы на отели с отзывами на ноутбуки) для составления \"тонального словаря\" (чем больше отзывов, тем лучше)  и 10 отзывов для проверки качества.   (2 балла в случае сбора путём парсинга, 1 - если найдете уже готовые данные или просто закопипастите без парсинга)"
   ]
  },
  {
   "cell_type": "markdown",
   "metadata": {},
   "source": [
    "В качестве данных я хотел взять отзывы на пиво. Для этого сперва потребуется импортировать всё для работы с сайтами"
   ]
  },
  {
   "cell_type": "code",
   "execution_count": 1,
   "metadata": {},
   "outputs": [],
   "source": [
    "import urllib.request\n",
    "import requests\n",
    "import re\n",
    "import os\n",
    "from bs4 import BeautifulSoup"
   ]
  },
  {
   "cell_type": "markdown",
   "metadata": {},
   "source": [
    "Отзывы я брал в первую очередь с сайта irecommend.ru, он банит соединение буквально через 5 запросов с одного айпи, поэтому мне нужен был прокси. Ниже все импорты, которые я использовал, когда приходилось парсить разные запрещённые сайты. Самое главное, что мне оттуда нужно - игнор ssl сертификата, некоторые прокси без этого не работают, библиотечка FreeProxy, которая берёт рандомный работающий прокси из пула и ошибки, чтобы их обрабатывать, хотя по-моему получилось справиться без них"
   ]
  },
  {
   "cell_type": "code",
   "execution_count": null,
   "metadata": {},
   "outputs": [],
   "source": [
    "import traceback\n",
    "import ssl\n",
    "import sqlite3\n",
    "from pprint import pprint\n",
    "from fake_useragent import UserAgent\n",
    "from fp.fp import FreeProxy\n",
    "from requests import ConnectTimeout, HTTPError, Timeout, ConnectionError\n",
    "\n",
    "from tqdm.auto import tqdm\n",
    "\n",
    "ssl.SSLContext.verify_mode = ssl.VerifyMode.CERT_OPTIONAL\n",
    "\n",
    "try:\n",
    "    _create_unverified_https_context = ssl._create_unverified_context\n",
    "except AttributeError:\n",
    "    pass\n",
    "else:\n",
    "    ssl._create_default_https_context = _create_unverified_https_context"
   ]
  },
  {
   "cell_type": "markdown",
   "metadata": {},
   "source": [
    "Дальше собираю все ссылки, которые мне нужны и создаю сессию. Ещё один сайт, который я брал - pivobzor.ru, там гораздо меньше обзоров, зато его удобнее парсить. Изначально я планировал ограничиться только им, но мне показалось, что выборка слишком маленькая. Кусок под комментом - как раз оттуда, остальное из irecommend.ru"
   ]
  },
  {
   "cell_type": "code",
   "execution_count": 3,
   "metadata": {},
   "outputs": [],
   "source": [
    "#urls = [f\"https://pivobzor.ru/category/beerreviews/page/{i}/\" for i in range(1, 28)]\n",
    "urls = [f\"https://irecommend.ru/catalog/reviews/938-3209\"]\n",
    "urls += [urls[-1]+f\"?page={i}\" for i in range(101)]\n",
    "\n",
    "session = requests.session()\n",
    "session.trust_env = False"
   ]
  },
  {
   "cell_type": "markdown",
   "metadata": {},
   "source": [
    "Чтобы было, куда записывать данные, нужен датафрейм. В него записываю уникальную ссылку, заголовок, текст и рейтинг. Я использовал разные csv, чтобы хранить результаты с разных сайтов, потом всё сконкатенировал в один, скорее всего код потерялся по пути, заново обкачивать сайты не хочется, это очень долго, если очень хочется, ссылки все сохранились, можно по ним походить"
   ]
  },
  {
   "cell_type": "code",
   "execution_count": 2,
   "metadata": {},
   "outputs": [],
   "source": [
    "import pandas as pd\n",
    "from tqdm import tqdm\n",
    "df = pd.DataFrame(columns=[\"href\", \"title\", \"text\", \"rating\"])"
   ]
  },
  {
   "cell_type": "markdown",
   "metadata": {},
   "source": [
    "Ниже кусок, которым я парсил irecommend. Выполняется, пока мне не надоест, потому что постоянно перезапускать его надоедает. Беру рандомный проки, если с ним всё ок, то выполняю код, если прокси не нашёлся, пробую ещё раз. Когда нашёл прокси, начинаю проход по всем ссылкам, где вытаскиваю всё, что мне интересно"
   ]
  },
  {
   "cell_type": "code",
   "execution_count": null,
   "metadata": {},
   "outputs": [],
   "source": [
    "while True:\n",
    "    # берём случайный прокси\n",
    "    proxy = FreeProxy().get()\n",
    "    proxies = {\n",
    "        \"https\": proxy,\n",
    "        \"http\": proxy\n",
    "    }\n",
    "    \n",
    "    try:\n",
    "        # если прокси ок\n",
    "        for url in tqdm(urls):\n",
    "            # парсим страницу\n",
    "            req = session.get(url, proxies=proxies, headers=headers)\n",
    "            page = req.text\n",
    "            soup = BeautifulSoup(page, 'html.parser')\n",
    "            \n",
    "            # если выкинуло на страницу с тех работами, прокси надо менять, это можно проверить по наличию TextSnippet'a\n",
    "            if not soup.select('div.reviewTextSnippet a[href]'):\n",
    "                break\n",
    "\n",
    "            # если нашёлся, то можно переходить на подстраницы отзывов по адресу в селекте\n",
    "            for a in tqdm(soup.select('div.reviewTextSnippet a[href]')):\n",
    "                try:\n",
    "                    href = \"https://irecommend.ru/\"+a['href']\n",
    "                    # проверяем, есть ли ссылка в базе, чтобы экономить время\n",
    "                    if href in df.href.values:\n",
    "                        continue\n",
    "                        \n",
    "                    # парсим подстраницу\n",
    "                    sub_req = session.get(\"https://irecommend.ru/\"+a['href'], proxies=proxies, headers=headers)\n",
    "                    sub_page = sub_req.text\n",
    "                    sub_soup = BeautifulSoup(sub_page, 'html.parser')\n",
    "\n",
    "                    # текст собираю по всем <p>\n",
    "                    text = \"\"\n",
    "                    for p in sub_soup.find_all('p'):\n",
    "                        raw = p.text\n",
    "                        text += raw.strip()+\" \"\n",
    "                        \n",
    "                    # заголовок для красоты    \n",
    "                    title = sub_soup.find(\"h2\", {\"class\": \"reviewTitle\"}).text\n",
    "                    # рейтинг напрямую не указан, считаю заполненные звёздочки срели всех звёздочек\n",
    "                    rating = sum(1 for tag in sub_soup.find_all(\"div\", {\"class\": \"star\"})[6:11] if \"on\" in str(tag))\n",
    "                    # запихиваю в датафрейм\n",
    "                    df = pd.concat([df, pd.DataFrame({\"href\": href, \"title\": title, \"rating\": rating, \"text\": text}, index=[0])])\n",
    "                    # записываю в csv на всякий случай\n",
    "                    df.to_csv(\"beer3.csv\")\n",
    "                except:\n",
    "                    continue\n",
    "    except:\n",
    "        pass\n"
   ]
  },
  {
   "cell_type": "markdown",
   "metadata": {},
   "source": [
    "Всего я обкачал где-то 50 страниц, это занимает очень долгое время из-за прокси. Вышло около 1000 отзывов"
   ]
  },
  {
   "cell_type": "markdown",
   "metadata": {},
   "source": [
    "Кусок с парсингом pivobzor'a я случайно стёр, зато данные конкретно с него у меня остались в отдельном датафрейме. Надеюсь, одного парсинга выше хватит, чтобы убедить в том, что я умею это делать"
   ]
  },
  {
   "cell_type": "code",
   "execution_count": 91,
   "metadata": {},
   "outputs": [
    {
     "data": {
      "text/html": [
       "<div>\n",
       "<style scoped>\n",
       "    .dataframe tbody tr th:only-of-type {\n",
       "        vertical-align: middle;\n",
       "    }\n",
       "\n",
       "    .dataframe tbody tr th {\n",
       "        vertical-align: top;\n",
       "    }\n",
       "\n",
       "    .dataframe thead th {\n",
       "        text-align: right;\n",
       "    }\n",
       "</style>\n",
       "<table border=\"1\" class=\"dataframe\">\n",
       "  <thead>\n",
       "    <tr style=\"text-align: right;\">\n",
       "      <th></th>\n",
       "      <th>title</th>\n",
       "      <th>text</th>\n",
       "      <th>rating</th>\n",
       "    </tr>\n",
       "  </thead>\n",
       "  <tbody>\n",
       "    <tr>\n",
       "      <th>0</th>\n",
       "      <td>ABK Hefeweizen АБК Хефевайцен (Германия)</td>\n",
       "      <td>ABK небольшая баварская пивоварня, с очень бол...</td>\n",
       "      <td>7.5</td>\n",
       "    </tr>\n",
       "    <tr>\n",
       "      <th>1</th>\n",
       "      <td>Бочонок Для Друзей (Россия)</td>\n",
       "      <td>Пусть вас не смущает разница в размере бокала ...</td>\n",
       "      <td>4.8</td>\n",
       "    </tr>\n",
       "    <tr>\n",
       "      <th>2</th>\n",
       "      <td>Минское Жигулевское (Беларусь)</td>\n",
       "      <td>На этикетке указано что пиво произведено в Бел...</td>\n",
       "      <td>5.2</td>\n",
       "    </tr>\n",
       "    <tr>\n",
       "      <th>3</th>\n",
       "      <td>Yelamu Double Ipa Елами Дабл ИПА (Великобритания)</td>\n",
       "      <td>Пивоварня Thornbridge не частый гость на росси...</td>\n",
       "      <td>7.5</td>\n",
       "    </tr>\n",
       "    <tr>\n",
       "      <th>4</th>\n",
       "      <td>Бергише Ландбир Bergisches Landbier (Германия)</td>\n",
       "      <td>Пиво редкое. Производится на маленькой немецко...</td>\n",
       "      <td>7.8</td>\n",
       "    </tr>\n",
       "  </tbody>\n",
       "</table>\n",
       "</div>"
      ],
      "text/plain": [
       "                                               title  \\\n",
       "0           ABK Hefeweizen АБК Хефевайцен (Германия)   \n",
       "1                        Бочонок Для Друзей (Россия)   \n",
       "2                     Минское Жигулевское (Беларусь)   \n",
       "3  Yelamu Double Ipa Елами Дабл ИПА (Великобритания)   \n",
       "4     Бергише Ландбир Bergisches Landbier (Германия)   \n",
       "\n",
       "                                                text  rating  \n",
       "0  ABK небольшая баварская пивоварня, с очень бол...     7.5  \n",
       "1  Пусть вас не смущает разница в размере бокала ...     4.8  \n",
       "2  На этикетке указано что пиво произведено в Бел...     5.2  \n",
       "3  Пивоварня Thornbridge не частый гость на росси...     7.5  \n",
       "4  Пиво редкое. Производится на маленькой немецко...     7.8  "
      ]
     },
     "execution_count": 91,
     "metadata": {},
     "output_type": "execute_result"
    }
   ],
   "source": [
    "df1 = pd.read_csv(\"beer.csv\", index_col=0)\n",
    "df1.head()[[\"title\", \"text\", \"rating\"]]"
   ]
  },
  {
   "cell_type": "markdown",
   "metadata": {},
   "source": [
    "Тогда я ещё не собирал ссылки, но опять же при желании можно всё это просмотреть хотя бы по заголовкам. Рейтинги на том сайте в 10-балльной вещественной шкале, нужно сперва привести к пятибалльной целочисленной"
   ]
  },
  {
   "cell_type": "code",
   "execution_count": 93,
   "metadata": {},
   "outputs": [],
   "source": [
    "df1.rating = df1.rating.apply(lambda x: round(x/2))"
   ]
  },
  {
   "cell_type": "markdown",
   "metadata": {},
   "source": [
    "Распределение баллов с pivobzora. Как видно, здесь разбиение достаточно разумное"
   ]
  },
  {
   "cell_type": "code",
   "execution_count": 96,
   "metadata": {},
   "outputs": [
    {
     "data": {
      "text/plain": [
       "count    214.000000\n",
       "mean       2.780374\n",
       "std        0.926089\n",
       "min        0.000000\n",
       "25%        2.000000\n",
       "50%        3.000000\n",
       "75%        3.000000\n",
       "max        5.000000\n",
       "Name: rating, dtype: float64"
      ]
     },
     "execution_count": 96,
     "metadata": {},
     "output_type": "execute_result"
    }
   ],
   "source": [
    "df1.rating.describe()"
   ]
  },
  {
   "cell_type": "markdown",
   "metadata": {},
   "source": [
    "Распределение баллов с irecommend. Здесь уже сильный перекос в сторону положительных отзывов, средний балл - около 4"
   ]
  },
  {
   "cell_type": "code",
   "execution_count": 98,
   "metadata": {},
   "outputs": [
    {
     "data": {
      "text/plain": [
       "count    1010.000000\n",
       "mean        3.970297\n",
       "std         1.218095\n",
       "min         1.000000\n",
       "25%         3.000000\n",
       "50%         4.000000\n",
       "75%         5.000000\n",
       "max         5.000000\n",
       "Name: rating, dtype: float64"
      ]
     },
     "execution_count": 98,
     "metadata": {},
     "output_type": "execute_result"
    }
   ],
   "source": [
    "df2 = pd.read_csv(\"beer2.csv\")\n",
    "df2.rating.describe()"
   ]
  },
  {
   "cell_type": "markdown",
   "metadata": {},
   "source": [
    "В следующем файле у меня уже собраны вместе все тексты и там же на самом деле хранится тональность отзыва и обработанный текст, поэтому нигде ниже я специально файл не дописываю. Я уже проследил, чтобы там не было нанов и дубликатов, но при дописывании обязательно надо учесть такой риск "
   ]
  },
  {
   "cell_type": "code",
   "execution_count": 3,
   "metadata": {},
   "outputs": [],
   "source": [
    "df = pd.read_csv(\"beer_data.csv\")"
   ]
  },
  {
   "cell_type": "code",
   "execution_count": null,
   "metadata": {},
   "outputs": [],
   "source": [
    "Суммарное распределение баллов"
   ]
  },
  {
   "cell_type": "code",
   "execution_count": 107,
   "metadata": {},
   "outputs": [],
   "source": [
    "%matplotlib inline\n",
    "import matplotlib as mpl\n",
    "import matplotlib.pyplot as plt\n",
    "import seaborn as sns\n",
    "\n",
    "# your code\n",
    "%config InlineBackend.figure_format = 'retina'\n",
    "plt.rcParams['figure.figsize'] = 8, 5\n",
    "plt.rcParams['font.size'] = 12\n",
    "mpl.rcParams['savefig.format'] = 'pdf'\n",
    "sns.set_style('darkgrid')"
   ]
  },
  {
   "cell_type": "code",
   "execution_count": 125,
   "metadata": {},
   "outputs": [
    {
     "data": {
      "text/plain": [
       "Text(0.5, 1.0, 'Rating distribution')"
      ]
     },
     "execution_count": 125,
     "metadata": {},
     "output_type": "execute_result"
    },
    {
     "data": {
      "image/png": "[encoded data removed]",
      "text/plain": [
       "<Figure size 576x360 with 1 Axes>"
      ]
     },
     "metadata": {
      "image/png": {
       "height": 337,
       "width": 503
      }
     },
     "output_type": "display_data"
    }
   ],
   "source": [
    "ax = df.rating.value_counts().plot.bar(rot=0, color=\"navy\")\n",
    "ax.set_xlabel(\"rating\")\n",
    "ax.set_ylabel(\"number\")\n",
    "ax.set_title(\"Rating distribution\")"
   ]
  },
  {
   "cell_type": "markdown",
   "metadata": {},
   "source": [
    "Возникает проблема - на всей выборке средний рейтинг почти, по большей части в целом не опускается ниже 3, судя по первому квартилю"
   ]
  },
  {
   "cell_type": "code",
   "execution_count": 119,
   "metadata": {},
   "outputs": [
    {
     "data": {
      "text/plain": [
       "count    1224.000000\n",
       "mean        3.762255\n",
       "std         1.256159\n",
       "min         0.000000\n",
       "25%         3.000000\n",
       "50%         4.000000\n",
       "75%         5.000000\n",
       "max         5.000000\n",
       "Name: rating, dtype: float64"
      ]
     },
     "execution_count": 119,
     "metadata": {},
     "output_type": "execute_result"
    }
   ],
   "source": [
    "df.rating.describe()"
   ]
  },
  {
   "cell_type": "markdown",
   "metadata": {},
   "source": [
    "Поскольку у нас задача бинарной классификации, я решил закодировать всё, что меньше 3, как отрицательный отзыв."
   ]
  },
  {
   "cell_type": "code",
   "execution_count": 127,
   "metadata": {},
   "outputs": [],
   "source": [
    "df[\"sentiment\"] = df.rating.apply(lambda x: 1 if x >= 4 else -1)"
   ]
  },
  {
   "cell_type": "code",
   "execution_count": 126,
   "metadata": {},
   "outputs": [
    {
     "data": {
      "text/plain": [
       "Text(0.5, 1.0, 'Rating distribution')"
      ]
     },
     "execution_count": 126,
     "metadata": {},
     "output_type": "execute_result"
    },
    {
     "data": {
      "image/png": "[encoded data removed]",
      "text/plain": [
       "<Figure size 576x360 with 1 Axes>"
      ]
     },
     "metadata": {
      "image/png": {
       "height": 337,
       "width": 503
      }
     },
     "output_type": "display_data"
    }
   ],
   "source": [
    "ax = df.rating.value_counts().plot.bar(rot=0, color=[\"teal\"]*2+[\"crimson\"]*4)\n",
    "ax.set_xlabel(\"rating\")\n",
    "ax.set_ylabel(\"number\")\n",
    "ax.set_title(\"Rating distribution\")"
   ]
  },
  {
   "cell_type": "markdown",
   "metadata": {},
   "source": [
    "В таком случае картина получается более-менее сбалансированной"
   ]
  },
  {
   "cell_type": "code",
   "execution_count": 128,
   "metadata": {},
   "outputs": [
    {
     "data": {
      "text/plain": [
       "Text(0.5, 1.0, 'Rating distribution')"
      ]
     },
     "execution_count": 128,
     "metadata": {},
     "output_type": "execute_result"
    },
    {
     "data": {
      "image/png": "[encoded data removed]",
      "text/plain": [
       "<Figure size 576x360 with 1 Axes>"
      ]
     },
     "metadata": {
      "image/png": {
       "height": 337,
       "width": 503
      }
     },
     "output_type": "display_data"
    }
   ],
   "source": [
    "ax = df.sentiment.value_counts().plot.bar(rot=0, color=[\"teal\", \"crimson\"])\n",
    "ax.set_xlabel(\"rating\")\n",
    "ax.set_ylabel(\"number\")\n",
    "ax.set_title(\"Rating distribution\")"
   ]
  },
  {
   "cell_type": "markdown",
   "metadata": {},
   "source": [
    "Ну и на самом деле отзывы с рейтингом около 3 довольно часто оказываются именно отрицательными, а не просто нейтральными. По крайней мере там часто есть именно критика, просто обычно в более мягкой форме, чем при рейтинге 2 или 1"
   ]
  },
  {
   "cell_type": "code",
   "execution_count": 140,
   "metadata": {},
   "outputs": [
    {
     "name": "stdout",
     "output_type": "stream",
     "text": [
      "це. Я не стала его пить без всего, потому что хотелось скорее перебить горечь пенного напитка.  Стоимость одной бутылки - 130 рублей. Цена, по-моему, несколько завышена. Но больше, конечно, в данном, случае отдаешь не за продукт, а за задумку. В общем, данный пенный напиток к покупке не рекомендую. \n",
      "\n",
      " на одном из заводов Балтики в РФ. \r\n",
      "Внешний вид прост. Бледное пиво, почти без пены. Пенной корки нет. Слабый солодовый, без каких либо оттенков. Но и без грязи.  Абсолютно пустое пиво. Чуть кислит. В послевкусии какое-то подобие хмеля.   Единственное достоинство - отсутствие больших недостатков.  \n",
      "\n",
      "есного от данного сорта явно не стоит. С другой стороны свою цену оно оправдывает, каких то явных косяков я в нём не обнаружил. Учитывая невысокую цену (49,90 рэ), легкодоступность и всё вышесказанное могу смело поставить этому сорту 3 балла. А пить его или не пить пусть каждый сам решает для себя. \n",
      "\n",
      "Да, волковскую ипу я считаю эталоном ип до 100 руб, но чувствуется что над апой потрудились меньше. Как будто это один и тот же напиток разной степени бавлености...) хотелось бы что нибудь пооригинальнее. Ну и поработать над питкостью - вторую бутылку я бы и выпил конечно, но с меньшим энтузиазмом. \n",
      "\n",
      "ную домашнюю еду Вывод Пиво я безумно люблю, оно всегда приносит мне удовольствие и спокойствие, но Calsberg не выполняет все мои требования к этому напитку, для меня крепковат, хоть и написано, что 4,7 градусов всего. Поэтому 3. Больше эксперементировать не буду. Спасибо за прочтение моего отзыва! \n",
      "\n"
     ]
    }
   ],
   "source": [
    "for i in df[df.rating == 3].text.sample(5):\n",
    "    print(i[-300:], end=\"\\n\\n\")"
   ]
  },
  {
   "cell_type": "markdown",
   "metadata": {},
   "source": [
    "2. Токенизируйте слова,  приведите их к нижнему регистру и к начальной форме  (1 балл за токенизацию, 1 - за начальную форму)"
   ]
  },
  {
   "cell_type": "code",
   "execution_count": null,
   "metadata": {},
   "outputs": [],
   "source": [
    "Для токенизации я взял обычные инструменты из nltk плюс немного pymorphy"
   ]
  },
  {
   "cell_type": "code",
   "execution_count": 21,
   "metadata": {},
   "outputs": [],
   "source": [
    "import nltk\n",
    "from nltk.corpus import stopwords\n",
    "from nltk.stem import WordNetLemmatizer\n",
    "from nltk.tokenize import RegexpTokenizer\n",
    "import pymorphy2\n",
    "import string\n",
    "\n",
    "morph = pymorphy2.MorphAnalyzer()\n",
    "# беру только буквы, без цифр\n",
    "tokenizer = RegexpTokenizer(r'[^\\d\\W]+')\n",
    "russian_stopwords = stopwords.words(\"russian\")"
   ]
  },
  {
   "cell_type": "code",
   "execution_count": null,
   "metadata": {},
   "outputs": [],
   "source": [
    "Ниже функция, котоой я превращаю отдельный текст в список лемм, от пунктуации чистить токенайзер, от стоп слов чищу сам в функции"
   ]
  },
  {
   "cell_type": "code",
   "execution_count": 22,
   "metadata": {},
   "outputs": [],
   "source": [
    "def preprocess(text):\n",
    "    tokens = tokenizer.tokenize(text)\n",
    "    lemmas = [morph.parse(x)[0].normal_form for x in tokens if x not in russian_stopwords]\n",
    "    return lemmas"
   ]
  },
  {
   "cell_type": "code",
   "execution_count": 141,
   "metadata": {},
   "outputs": [
    {
     "ename": "SyntaxError",
     "evalue": "invalid syntax (689518925.py, line 1)",
     "output_type": "error",
     "traceback": [
      "\u001b[1;36m  Input \u001b[1;32mIn [141]\u001b[1;36m\u001b[0m\n\u001b[1;33m    Применяю, получаю список, вношу его в колонку\u001b[0m\n\u001b[1;37m                      ^\u001b[0m\n\u001b[1;31mSyntaxError\u001b[0m\u001b[1;31m:\u001b[0m invalid syntax\n"
     ]
    }
   ],
   "source": [
    "Применяю, получаю список, вношу его в колонку"
   ]
  },
  {
   "cell_type": "code",
   "execution_count": 23,
   "metadata": {},
   "outputs": [],
   "source": [
    "df[\"processed\"] = df.text.apply(lambda x: preprocess(x))"
   ]
  },
  {
   "cell_type": "markdown",
   "metadata": {},
   "source": [
    "3. Составьте 2 множества - в одном будут слова, которые встречаются только в положительных отзывах, а в другом - встречающиеся только в отрицательных. Попробуйте поиграть с частотностями и исключить шум (к примеру, выбросить слова, встречающиеся 1-2 раза) (2 балла) (если у вас получились пустые множества, уберите фильтр по частотности или увеличьте выборку)"
   ]
  },
  {
   "cell_type": "markdown",
   "metadata": {},
   "source": [
    "Сперва я делю на трейн и тест. Если я хочу получить положительные и отрицательные слова, в идеале они должны быть взяты из трейна, чтобы оценка качества была наиболее правдоподобной"
   ]
  },
  {
   "cell_type": "code",
   "execution_count": 6,
   "metadata": {},
   "outputs": [],
   "source": [
    "from sklearn.model_selection import train_test_split\n",
    "from sklearn.metrics import accuracy_score\n",
    "from collections import Counter\n",
    "\n",
    "y = df.sentiment\n",
    "X = df.drop(\"sentiment\", axis=1)\n",
    "\n",
    "X_train, X_test, y_train, y_test = train_test_split(X, y, random_state=671, shuffle=True, test_size=10)"
   ]
  },
  {
   "cell_type": "code",
   "execution_count": null,
   "metadata": {},
   "outputs": [],
   "source": [
    "Чтобы получить поляризованные слова, нужно сперва взять просто списки слов из соответствующих подмножеств, засунуть их в какой-нибудь хешируемый объект и взять симметрическую разность"
   ]
  },
  {
   "cell_type": "code",
   "execution_count": 186,
   "metadata": {},
   "outputs": [],
   "source": [
    "def get_words(X_train, y_train):\n",
    "    # слова берутся для тренировочной подвыборки\n",
    "    \n",
    "    # сперва сливаю X и y обратно, чтобы отделить хорошие и плохие отзывы\n",
    "    concatted = pd.concat([X_train, y_train], axis=1)\n",
    "    # беру колонку с леммами\n",
    "    good_words = concatted[concatted.sentiment == 1].processed\n",
    "    bad_words = concatted[concatted.sentiment == -1].processed\n",
    "    \n",
    "    # суммирую, чтобы получить один большой массив, беру каунтер\n",
    "    good = Counter(good_words.sum())\n",
    "    bad = Counter(bad_words.sum())\n",
    "\n",
    "    # беру разность двух множеств и заново заполняю каунтер,\n",
    "    # при обычной разности будут вычитаться именно каунты, а я хочу их сохранить\n",
    "    bad_words = Counter({k : bad[k] for k in set(bad) - set(good)})\n",
    "    good_words = Counter({k : good[k] for k in set(good) - set(bad)})\n",
    "    \n",
    "    return good_words, bad_words"
   ]
  },
  {
   "cell_type": "code",
   "execution_count": 204,
   "metadata": {},
   "outputs": [],
   "source": [
    "good_words, bad_words = get_words(X_train, y_train)"
   ]
  },
  {
   "cell_type": "code",
   "execution_count": null,
   "metadata": {},
   "outputs": [],
   "source": [
    "Можно дополнительно исключить слишком частые или слишком редкие слова. Я на самом деле думаю, что совсем исключать их не стоит, но об этом в следующем пункте"
   ]
  },
  {
   "cell_type": "code",
   "execution_count": 205,
   "metadata": {},
   "outputs": [],
   "source": [
    "good_words_filt = Counter({x: good_words[x] for x in good_words if good_words[x] in range(4, 15)})\n",
    "bad_words_filt = Counter({x: good_words[x] for x in good_words if good_words[x] in range(4, 15)})"
   ]
  },
  {
   "cell_type": "markdown",
   "metadata": {},
   "source": [
    "4. Создайте функцию, которая будет определять, положительный ли отзыв или отрицательный в зависимости от того, какие слова встретились в нём, и посчитайте качество при помощи accuracy (1  - за коректно работающую функцию, 1 - за подсчёт accuracy)"
   ]
  },
  {
   "cell_type": "markdown",
   "metadata": {},
   "source": [
    "Я надеюсь, что я правильно понял, что от нас требуется. Если так, то достаточно делает две проверки: прибавлять скор, если слово хорошее, или отнимать. В конце просто возьму максимум между знаком и -1, если положительных слов больше, очевидно он будет 1"
   ]
  },
  {
   "cell_type": "code",
   "execution_count": 206,
   "metadata": {},
   "outputs": [],
   "source": [
    "def sign(num):\n",
    "    # не импортировал, потому что 0 я видеть не хочу, а на такое допущение придётся пойти\n",
    "    # считаем, что нейтральных отзывов не бывает, пока\n",
    "    return -1 if num <= 0 else 1"
   ]
  },
  {
   "cell_type": "code",
   "execution_count": 209,
   "metadata": {},
   "outputs": [],
   "source": [
    "def sentiment_prediction(lemmas):\n",
    "    score = 0\n",
    "    \n",
    "    for lemma in lemmas:\n",
    "        if lemma in good_words:\n",
    "            score += 1\n",
    "        elif lemma in bad_words:\n",
    "            score += -1\n",
    "        \n",
    "    return sign(score)"
   ]
  },
  {
   "cell_type": "code",
   "execution_count": 210,
   "metadata": {},
   "outputs": [
    {
     "data": {
      "text/plain": [
       "0.7"
      ]
     },
     "execution_count": 210,
     "metadata": {},
     "output_type": "execute_result"
    }
   ],
   "source": [
    "y_pred = X_test.processed.apply(lambda x: sentiment_prediction(x))\n",
    "accuracy_score(y_pred, y_test)"
   ]
  },
  {
   "cell_type": "markdown",
   "metadata": {},
   "source": [
    "Учитывая, что алгоритм супер простой, это наверное неплохо, но если взять тестовую выборку нормального размера, то будет видно, что предсказание довольно грустно. Вспоминаем, что классы у нас несбалансированы, можно было бы брать константный прогноз, было бы не сильно хуже"
   ]
  },
  {
   "cell_type": "code",
   "execution_count": 240,
   "metadata": {},
   "outputs": [
    {
     "data": {
      "text/plain": [
       "0.6831683168316832"
      ]
     },
     "execution_count": 240,
     "metadata": {},
     "output_type": "execute_result"
    }
   ],
   "source": [
    "X_train, X_test, y_train, y_test = train_test_split(X, y, random_state=671, shuffle=True, test_size=.3)\n",
    "good_words, bad_words = get_words(X_train, y_train)\n",
    "\n",
    "y_pred = X_test.processed.apply(lambda x: sentiment_prediction(x))\n",
    "accuracy_score(y_pred, y_test)"
   ]
  },
  {
   "cell_type": "code",
   "execution_count": 726,
   "metadata": {},
   "outputs": [
    {
     "data": {
      "text/plain": [
       "0.6775510204081633"
      ]
     },
     "execution_count": 726,
     "metadata": {},
     "output_type": "execute_result"
    }
   ],
   "source": [
    "y_pred = X_test.processed.apply(lambda x: weighted_sentiment_prediction(x))\n",
    "accuracy_score(y_pred, y_test)"
   ]
  },
  {
   "cell_type": "markdown",
   "metadata": {},
   "source": [
    "5. Предложите как минимум 2 способа улучшить эту программу с помощью добавления к ней любых мулек (1 балл за описание словами, 2 - если реализуете хотя бы один способ)"
   ]
  },
  {
   "cell_type": "markdown",
   "metadata": {},
   "source": [
    "Можно сделать много чего:\n",
    "\n",
    "1. Выборка не очень большая, вполне возможно, что какие-то \"хорошие\" или \"плохие\" слова мы не учли, или учли что-то лишнее, это решается просто - надо скачать побольше. Но возможность того, что слово употреблено в каком-то другом значении остаётся. Решение: взять ещё отзывов, можно докачать irecommend, там остановка где-то на 57 странице, или взять отзывы с otzovika, там тоже наберётся где-то 1000, но с ним та же проблема - опять искать прокси\n",
    "2. Попробовать улучшить текущий алгоритм. Сейчас в нём никак не учитывается собственно частотность слов. Решение: придумать функцию весов. Я уже говорил выше, что радикальный фильтр мне не очень нравится. Я предполагаю, что самые важные слова действительно имеют среднюю частотность - где-то в районе 10, но остальные тоже сойдут, можно учесть.\n",
    "3. Получившийся алгоритм слишком простой. На самом деле тональность не делится строго бинарно, она может быть смешанная, может быть наполовину негативная и т.д. В таком случае как раз могут помочь рейтинги, которые я тоже собирал, по ним можно построить регрессию и делать не просто оценку тональности, а оценку по 5-балльной шкале. Решение: сделать нормальные эмбеддинги и собрать сложную модель:\n",
    "1) обучить w2v, но выборка не очень большая, обучение будет поверхностным\n",
    "2) обучить какой-нибудь векторайзер из sklearn, выборка вроде бы достаточно большая, чтобы вышло что-то осмысленное"
   ]
  },
  {
   "cell_type": "markdown",
   "metadata": {},
   "source": [
    "Сперва попробуем добавить веса. Я хотел придумать что-нибудь, что будет нормально относится к каунтам близким к 10, сильно обрубать меньший каунт (слишком редкие, чтобы влиять), больший каунт обрубать не так быстро (не знаем точно, стоп-слово или просто частое). Для этого я модифицировал сигмоиду - она почти пологая слева, то, что нужно, прибавил к ней x^2 в знаменателе, чтобы после достижения пика, функция начала убывать примерно как парабола, это не очень быстро с учётом экспоненты, но достаточно, чтобы затухнуть где-то после 20. На графике должно быть достаточно ясно"
   ]
  },
  {
   "cell_type": "code",
   "execution_count": 238,
   "metadata": {},
   "outputs": [
    {
     "data": {
      "text/plain": [
       "Text(0.5, 0.98, 'Weight function')"
      ]
     },
     "execution_count": 238,
     "metadata": {},
     "output_type": "execute_result"
    },
    {
     "data": {
      "image/png": "[encoded data removed]",
      "text/plain": [
       "<Figure size 576x360 with 1 Axes>"
      ]
     },
     "metadata": {
      "image/png": {
       "height": 340,
       "width": 484
      }
     },
     "output_type": "display_data"
    }
   ],
   "source": [
    "import math\n",
    "import numpy as np\n",
    "\n",
    "weight = lambda x: 100 * (1/(x**2 + math.e**(-x+11)))\n",
    "x_range = range(30)\n",
    "x_arange = np.arange(0, 30, 0.01)\n",
    "\n",
    "plt.scatter(x_range, [weight(i) for i in x_range], color=\"indigo\")\n",
    "plt.plot(x_arange, [weight(i) for i in x_arange], color=\"indigo\", alpha=0.2)\n",
    "plt.suptitle(\"Weight function\")"
   ]
  },
  {
   "cell_type": "code",
   "execution_count": null,
   "metadata": {},
   "outputs": [],
   "source": [
    "Теперь посмотрим на результат после взвешивания"
   ]
  },
  {
   "cell_type": "code",
   "execution_count": 239,
   "metadata": {},
   "outputs": [],
   "source": [
    "def weighted_sentiment_prediction(lemmas):\n",
    "    score = 0\n",
    "    \n",
    "    for lemma in lemmas:\n",
    "        if lemma in good_words:\n",
    "            score += weight(good_words[lemma])*1\n",
    "        elif lemma in bad_words:\n",
    "            score += -weight(bad_words[lemma])*1\n",
    "        \n",
    "    return sign(score)"
   ]
  },
  {
   "cell_type": "code",
   "execution_count": 243,
   "metadata": {},
   "outputs": [
    {
     "data": {
      "text/plain": [
       "'До: 0.6831683168316832'"
      ]
     },
     "execution_count": 243,
     "metadata": {},
     "output_type": "execute_result"
    }
   ],
   "source": [
    "y_pred = X_test.processed.apply(lambda x: sentiment_prediction(x))\n",
    "f\"До: {accuracy_score(y_pred, y_test)}\""
   ]
  },
  {
   "cell_type": "code",
   "execution_count": 244,
   "metadata": {},
   "outputs": [
    {
     "data": {
      "text/plain": [
       "'После: 0.7062706270627063'"
      ]
     },
     "execution_count": 244,
     "metadata": {},
     "output_type": "execute_result"
    }
   ],
   "source": [
    "y_pred = X_test.processed.apply(lambda x: weighted_sentiment_prediction(x))\n",
    "f\"После: {accuracy_score(y_pred, y_test)}\""
   ]
  },
  {
   "cell_type": "markdown",
   "metadata": {},
   "source": [
    "Результат налицо, но этого всё равно мало. Делать нечего, нужны эмбеддинги. Да и задача понимания рейтинга по тексту гораздо интереснее скучной бинарной классификации, там такая функция точно не сработает. Но сперва разберёмся с классификацией"
   ]
  },
  {
   "cell_type": "code",
   "execution_count": 30,
   "metadata": {},
   "outputs": [],
   "source": [
    "# возьмём другой таргет\n",
    "\n",
    "y = df[[\"rating\", \"sentiment\"]]\n",
    "X = df.drop([\"rating\", \"sentiment\"], axis=1)\n",
    "\n",
    "X_train, X_test, y_train, y_test = train_test_split(X, y, random_state=671, shuffle=True, test_size=0.2)"
   ]
  },
  {
   "cell_type": "code",
   "execution_count": 77,
   "metadata": {},
   "outputs": [
    {
     "data": {
      "text/plain": [
       "267    Приветствую! Этот отзыв для достигших 18+ лет....\n",
       "521    Сегодня играет сборная России по футболу, а зн...\n",
       "485    Сегодняшний отзыв о моем любимчике. Я не спец ...\n",
       "57     В начале 2022г. пивгигант \"Балтика\", входящая ...\n",
       "537    Привет любителям пенного, а также сочувствующи...\n",
       "                             ...                        \n",
       "664    Зашло, очень неплохой вкус, по сравнению с мно...\n",
       "687    Пиво Францисканер Вайсбир, на мой взгляд, одно...\n",
       "735    Здравствуйте. С наступлением тепла у многих от...\n",
       "289    Всем нам бывает иногда либо хочеться алкоголя,...\n",
       "691    Чуть было не прошел мимо. Купил и не пожалел. ...\n",
       "Name: text, Length: 805, dtype: object"
      ]
     },
     "execution_count": 77,
     "metadata": {},
     "output_type": "execute_result"
    }
   ],
   "source": [
    "X_train.text"
   ]
  },
  {
   "cell_type": "markdown",
   "metadata": {},
   "source": [
    "Я довольно долго сидел и подбирал параметры, так что везде, где можно было бы взять друой векторайзер, нормализовать, взять другой гиперпараметр в модели и всё такое прочее - да, можно, но скорее всего будет работать хуже. Ниже оптимальные модели, которые нашёл я"
   ]
  },
  {
   "cell_type": "code",
   "execution_count": 31,
   "metadata": {},
   "outputs": [],
   "source": [
    "from sklearn.feature_extraction.text import TfidfVectorizer\n",
    "\n",
    "tfidf = TfidfVectorizer(ngram_range=(1,2))\n",
    "# важно помнить, что текст у меня в отдельной колонке, из неё нужно собрать новую матрицу\n",
    "X_train_tfidf = tfidf.fit_transform(X_train.processed.apply(lambda x: \" \".join(i for i in x)))\n",
    "X_test_tfidf = tfidf.transform(X_test.processed.apply(lambda x: \" \".join(i for i in x)))"
   ]
  },
  {
   "cell_type": "code",
   "execution_count": 78,
   "metadata": {},
   "outputs": [],
   "source": [
    "tfidf = TfidfVectorizer(ngram_range=(1,2), stop_words=russian_stopwords)\n",
    "# важно помнить, что текст у меня в отдельной колонке, из неё нужно собрать новую матрицу\n",
    "X_train_tfidf = tfidf.fit_transform(X_train.text,)\n",
    "X_test_tfidf = tfidf.transform(X_test.text)"
   ]
  },
  {
   "cell_type": "code",
   "execution_count": 79,
   "metadata": {},
   "outputs": [
    {
     "data": {
      "text/plain": [
       "<805x115329 sparse matrix of type '<class 'numpy.float64'>'\n",
       "\twith 222268 stored elements in Compressed Sparse Row format>"
      ]
     },
     "execution_count": 79,
     "metadata": {},
     "output_type": "execute_result"
    }
   ],
   "source": [
    "X_train_tfidf"
   ]
  },
  {
   "cell_type": "code",
   "execution_count": null,
   "metadata": {},
   "outputs": [],
   "source": [
    "Сперва так или иначе нужно векторизовать. Tfidf в целом даёт результат чуть получше, но будет обучаться гораздо дольше, так что при проверке придётся немного посидеть. В качестве модели я пробовал logreg, svm с разными ядрами и параметрами, random forest, adaboost и наконец catboost. Лучше всего, и приятнее всего работает последний, его даже объяснять особо не надо, я только надеюсь, что картинка не сломается, когда я сдам тетрадку"
   ]
  },
  {
   "cell_type": "code",
   "execution_count": 49,
   "metadata": {
    "scrolled": true
   },
   "outputs": [
    {
     "data": {
      "application/vnd.jupyter.widget-view+json": {
       "model_id": "9f8f05adec684ee593d4e8deb96bc1e8",
       "version_major": 2,
       "version_minor": 0
      },
      "text/plain": [
       "MetricVisualizer(layout=Layout(align_self='stretch', height='500px'))"
      ]
     },
     "metadata": {},
     "output_type": "display_data"
    }
   ],
   "source": [
    "from catboost import CatBoostRegressor, CatBoostClassifier\n",
    "\n",
    "# разбираемся с классификацией\n",
    "model = CatBoostClassifier(max_depth=9, iterations=200, random_state=671, use_best_model=True)\n",
    "model.fit(X_train_tfidf, y_train.sentiment, plot=True, eval_set=(X_test_tfidf, y_test.sentiment), verbose=False)\n",
    "y_pred_class = model.predict(X_test_tfidf)"
   ]
  },
  {
   "cell_type": "code",
   "execution_count": null,
   "metadata": {},
   "outputs": [],
   "source": [
    "Что в итоге получилось:"
   ]
  },
  {
   "cell_type": "code",
   "execution_count": 50,
   "metadata": {},
   "outputs": [
    {
     "data": {
      "text/plain": [
       "'До: 0.7772277227722773'"
      ]
     },
     "execution_count": 50,
     "metadata": {},
     "output_type": "execute_result"
    }
   ],
   "source": [
    "f\"До: {accuracy_score(y_pred_class, y_test.sentiment)}\""
   ]
  },
  {
   "cell_type": "code",
   "execution_count": null,
   "metadata": {},
   "outputs": [],
   "source": [
    "Это уже гораздо лучше, теперь попробуем для рейтинга в целом"
   ]
  },
  {
   "cell_type": "code",
   "execution_count": 51,
   "metadata": {
    "scrolled": true
   },
   "outputs": [
    {
     "data": {
      "application/vnd.jupyter.widget-view+json": {
       "model_id": "4feb0146b2bb48889d1e1f3143ff8b60",
       "version_major": 2,
       "version_minor": 0
      },
      "text/plain": [
       "MetricVisualizer(layout=Layout(align_self='stretch', height='500px'))"
      ]
     },
     "metadata": {},
     "output_type": "display_data"
    }
   ],
   "source": [
    "from catboost import CatBoostRegressor\n",
    "\n",
    "# теперь для регрессии\n",
    "model = CatBoostRegressor(loss_function=\"RMSE\", max_depth=9, iterations=300, random_state=671)\n",
    "model.fit(X_train_tfidf, y_train.rating, plot=True, eval_set=(X_test_tfidf, y_test.rating), verbose=False)\n",
    "y_pred_class = model.predict(X_test_tfidf)"
   ]
  },
  {
   "cell_type": "code",
   "execution_count": 65,
   "metadata": {},
   "outputs": [
    {
     "data": {
      "text/plain": [
       "0.21462765654174776"
      ]
     },
     "execution_count": 65,
     "metadata": {},
     "output_type": "execute_result"
    }
   ],
   "source": [
    "from sklearn.metrics import mean_squared_error\n",
    "mean_squared_error(y_pred_class, y_test.rating)**(1/2)/5 # беру NRMSE"
   ]
  },
  {
   "cell_type": "code",
   "execution_count": null,
   "metadata": {},
   "outputs": [],
   "source": [
    "Если я понимаю, то это означает, что предсказание рейтинга ошибается примерно на 21%. Если так, то это вполне неплохо. Я думаю, что качество можно увеличить ещё больше, сделать RMSE меньше 1, но совсем чуть-чуть. В любом случае мне надоело крутить параметры, скорее всего это максимум, который можно отсюда выжать без нейросеток. Я бы и её состряпал тоже, но мне уже надоело, да и сел я поздновато"
   ]
  },
  {
   "cell_type": "code",
   "execution_count": null,
   "metadata": {},
   "outputs": [],
   "source": [
    "Кстати, если потом вернуть всё в бинарное поле, то точность чуть-чуть увеличится"
   ]
  },
  {
   "cell_type": "code",
   "execution_count": 75,
   "metadata": {},
   "outputs": [
    {
     "data": {
      "text/plain": [
       "0.7871287128712872"
      ]
     },
     "execution_count": 75,
     "metadata": {},
     "output_type": "execute_result"
    }
   ],
   "source": [
    "vfunc = np.vectorize(lambda x: -1 if x <=3 else 1)\n",
    "accuracy_score(vfunc(y_pred_class), y_test.sentiment)"
   ]
  },
  {
   "cell_type": "code",
   "execution_count": null,
   "metadata": {},
   "outputs": [],
   "source": [
    "Впрочем, w2v я всё-так обучил, посмотрим, сделает ли он жизнь лучше"
   ]
  },
  {
   "cell_type": "code",
   "execution_count": 54,
   "metadata": {},
   "outputs": [],
   "source": [
    "pred_text = \"\"\"В пиве твоя сила и мудрость. Вот, пожалуйста, толстяк. Нормальное пиво. Пацанское, хули. Пить можно. Ну, как его похвалить, ну, заебись пиво. Пиздатое пиво. Как его ещё похвалить, блядь? Хе-хе. Невъебенное пиво. Вот оно, жидкое золото!\"\"\""
   ]
  },
  {
   "cell_type": "code",
   "execution_count": 60,
   "metadata": {},
   "outputs": [],
   "source": [
    "pred_text = \"\"\"Теперь пиво 'Невское' в новой оригинальной бутылке, но это не имеет никакого значения, потому что важен только неповторимый, мягкий вкус пива 'Невское', вкус истинного наслаждения. 'Невское', главное - мягкий вкус\"\"\""
   ]
  },
  {
   "cell_type": "code",
   "execution_count": 61,
   "metadata": {},
   "outputs": [
    {
     "data": {
      "text/plain": [
       "array([4.42758075])"
      ]
     },
     "execution_count": 61,
     "metadata": {},
     "output_type": "execute_result"
    }
   ],
   "source": [
    "model.predict(tfidf.transform([\" \".join(x for x in preprocess(pred_text))]))"
   ]
  },
  {
   "cell_type": "code",
   "execution_count": 85,
   "metadata": {},
   "outputs": [],
   "source": [
    "import gensim"
   ]
  },
  {
   "cell_type": "code",
   "execution_count": 4,
   "metadata": {},
   "outputs": [],
   "source": [
    "y = df.rating\n",
    "X = df.drop(\"rating\", axis=1)"
   ]
  },
  {
   "cell_type": "code",
   "execution_count": 835,
   "metadata": {},
   "outputs": [
    {
     "data": {
      "text/plain": [
       "5    463\n",
       "4    311\n",
       "3    229\n",
       "2    142\n",
       "1     75\n",
       "0      4\n",
       "Name: rating, dtype: int64"
      ]
     },
     "execution_count": 835,
     "metadata": {},
     "output_type": "execute_result"
    }
   ],
   "source": [
    "df.rating.value_counts()"
   ]
  },
  {
   "cell_type": "code",
   "execution_count": 496,
   "metadata": {},
   "outputs": [],
   "source": [
    "train_data, test_data = train_test_split(df, random_state=671, shuffle=True, test_size=.2)"
   ]
  },
  {
   "cell_type": "code",
   "execution_count": 104,
   "metadata": {},
   "outputs": [
    {
     "data": {
      "text/plain": [
       "(5614768, 6456400)"
      ]
     },
     "execution_count": 104,
     "metadata": {},
     "output_type": "execute_result"
    }
   ],
   "source": [
    "w2v = gensim.models.Word2Vec(\n",
    "            df.processed,\n",
    "            vector_size=300, # desired no. of features/independent variables\n",
    "            window=10, # context window size\n",
    "            min_count=2, # Ignores all words with total frequency lower than 2.                                  \n",
    "            sg = 1, # 1 for skip-gram model\n",
    "            hs = 0,\n",
    "            negative = 5, # for negative sampling\n",
    "            workers= 32, # no.of cores\n",
    "            seed = 34\n",
    ")\n",
    "\n",
    "w2v.train(X_train.processed, total_examples=len(df.processed), epochs=50)"
   ]
  },
  {
   "cell_type": "code",
   "execution_count": 982,
   "metadata": {},
   "outputs": [
    {
     "data": {
      "text/plain": [
       "[('тунеядец', 0.8316137194633484),\n",
       " ('трезвенник', 0.8281012773513794),\n",
       " ('огонёк', 0.8229807019233704),\n",
       " ('дворовый', 0.8210955262184143),\n",
       " ('пополняться', 0.7978492975234985),\n",
       " ('передаться', 0.7912670373916626),\n",
       " ('sarry', 0.7865998148918152),\n",
       " ('случаем', 0.7854784727096558),\n",
       " ('пригодиться', 0.7807559370994568),\n",
       " ('брам', 0.7742180228233337)]"
      ]
     },
     "execution_count": 982,
     "metadata": {},
     "output_type": "execute_result"
    }
   ],
   "source": [
    "w2v.wv.most_similar(\"пивоман\")"
   ]
  },
  {
   "cell_type": "code",
   "execution_count": 990,
   "metadata": {},
   "outputs": [
    {
     "data": {
      "text/plain": [
       "[('болеть', 0.673523485660553),\n",
       " ('сушняк', 0.6695348024368286),\n",
       " ('похмелие', 0.6685926914215088),\n",
       " ('боль', 0.6593685746192932),\n",
       " ('утром', 0.6555420756340027),\n",
       " ('слабость', 0.6552209854125977),\n",
       " ('просыпаться', 0.6525158286094666),\n",
       " ('наутро', 0.6392948031425476),\n",
       " ('побаливать', 0.6218733787536621),\n",
       " ('гудеть', 0.6156499981880188)]"
      ]
     },
     "execution_count": 990,
     "metadata": {},
     "output_type": "execute_result"
    }
   ],
   "source": [
    "w2v.wv.most_similar(\"утро\")"
   ]
  },
  {
   "cell_type": "code",
   "execution_count": 995,
   "metadata": {},
   "outputs": [
    {
     "data": {
      "text/plain": [
       "[('тунеядец', 0.7770566344261169),\n",
       " ('пивоман', 0.7537947297096252),\n",
       " ('начинающий', 0.7358443737030029),\n",
       " ('дворовый', 0.7196391820907593),\n",
       " ('заядлый', 0.6799221634864807),\n",
       " ('трезвенник', 0.6675390005111694),\n",
       " ('случаем', 0.6595489978790283),\n",
       " ('пьянство', 0.6405438184738159),\n",
       " ('потребность', 0.6299386024475098),\n",
       " ('огонёк', 0.6250547170639038)]"
      ]
     },
     "execution_count": 995,
     "metadata": {},
     "output_type": "execute_result"
    }
   ],
   "source": [
    "w2v.wv.most_similar(\"алкоголик\")"
   ]
  },
  {
   "cell_type": "code",
   "execution_count": 1017,
   "metadata": {},
   "outputs": [
    {
     "data": {
      "text/plain": [
       "[('рулить', 0.7115566730499268),\n",
       " ('трудный', 0.7040287852287292),\n",
       " ('посидеть', 0.6895173788070679),\n",
       " ('молодёжь', 0.6876687407493591),\n",
       " ('огород', 0.684447169303894),\n",
       " ('нарваться', 0.663922131061554),\n",
       " ('вечерком', 0.6598960161209106),\n",
       " ('диван', 0.6598218083381653),\n",
       " ('вечером', 0.6513352394104004),\n",
       " ('поболтать', 0.6489312052726746)]"
      ]
     },
     "execution_count": 1017,
     "metadata": {},
     "output_type": "execute_result"
    }
   ],
   "source": [
    "w2v.wv.most_similar(\"пятница\")"
   ]
  },
  {
   "cell_type": "code",
   "execution_count": 1084,
   "metadata": {},
   "outputs": [
    {
     "data": {
      "text/plain": [
       "[('этиловый', 0.6411498188972473),\n",
       " ('перебродить', 0.5464438199996948),\n",
       " ('доля', 0.5423698425292969),\n",
       " ('порошок', 0.5349884033203125),\n",
       " ('нету', 0.5349371433258057),\n",
       " ('бархотистый', 0.5343549847602844),\n",
       " ('кратковременный', 0.5287690758705139),\n",
       " ('нагнать', 0.5279044508934021),\n",
       " ('слабоватый', 0.5222694277763367),\n",
       " ('суррогатный', 0.5198664665222168)]"
      ]
     },
     "execution_count": 1084,
     "metadata": {},
     "output_type": "execute_result"
    }
   ],
   "source": [
    "w2v.wv.most_similar(\"спирт\")"
   ]
  },
  {
   "cell_type": "code",
   "execution_count": 81,
   "metadata": {},
   "outputs": [],
   "source": [
    "def featureVecMethod(words, model, num_features):\n",
    "    # сначала нулевой вектор\n",
    "    featureVec = np.zeros(num_features, dtype=\"float32\")\n",
    "    nwords = 0\n",
    "    \n",
    "    # сет для скорости\n",
    "    index2word_set = set(model.wv.index_to_key)\n",
    "    \n",
    "    # для всех слов в тексте\n",
    "    for word in words:\n",
    "        if word in index2word_set:\n",
    "            # если слово есть в словаре, увеличиваем каунт и компоненту вектора\n",
    "            nwords = nwords + 1\n",
    "            featureVec = np.add(featureVec, model.wv[word])\n",
    "    \n",
    "    # нормализую по количеству слов\n",
    "    featureVec = np.divide(featureVec, nwords)\n",
    "    return featureVec"
   ]
  },
  {
   "cell_type": "code",
   "execution_count": 82,
   "metadata": {},
   "outputs": [],
   "source": [
    "def getAvgFeatureVecs(reviews, model, num_features):\n",
    "    counter = 0\n",
    "    # сначала нулевая матрица\n",
    "    reviewFeatureVecs = np.zeros((len(reviews),num_features),dtype=\"float32\")\n",
    "    \n",
    "    # для каждого отдельного текста в выборке\n",
    "    for review in reviews:\n",
    "        # потихоньку заполняю матрицу векторами-текстами\n",
    "        reviewFeatureVecs[counter] = featureVecMethod(review, model, num_features)\n",
    "        # итерируемся по строкам\n",
    "        counter = counter+1\n",
    "        \n",
    "    return reviewFeatureVecs"
   ]
  },
  {
   "cell_type": "code",
   "execution_count": 105,
   "metadata": {},
   "outputs": [],
   "source": [
    "clean_train_reviews = []\n",
    "for review in X_train.processed:\n",
    "    clean_train_reviews.append(review)\n",
    "    \n",
    "trainDataVecs = getAvgFeatureVecs(clean_train_reviews, w2v, 300)"
   ]
  },
  {
   "cell_type": "code",
   "execution_count": 106,
   "metadata": {},
   "outputs": [],
   "source": [
    "test_reviews = []\n",
    "for review in X_test.processed:\n",
    "    test_reviews.append(review)\n",
    "    \n",
    "testDataVecs = getAvgFeatureVecs(test_reviews, w2v, 300)"
   ]
  },
  {
   "cell_type": "code",
   "execution_count": 107,
   "metadata": {},
   "outputs": [],
   "source": [
    "trainDataVecs = np.nan_to_num(trainDataVecs)\n",
    "testDataVecs = np.nan_to_num(testDataVecs)"
   ]
  },
  {
   "cell_type": "code",
   "execution_count": 576,
   "metadata": {},
   "outputs": [
    {
     "name": "stdout",
     "output_type": "stream",
     "text": [
      "Fitting random forest to training data....\n"
     ]
    }
   ],
   "source": [
    "from sklearn.ensemble import RandomForestClassifier\n",
    "forest = RandomForestClassifier(n_estimators = 100)\n",
    "    \n",
    "print(\"Fitting random forest to training data....\")    \n",
    "forest = forest.fit(trainDataVecs, y_train)"
   ]
  },
  {
   "cell_type": "code",
   "execution_count": 91,
   "metadata": {},
   "outputs": [],
   "source": [
    "from sklearn.svm import LinearSVC"
   ]
  },
  {
   "cell_type": "code",
   "execution_count": 108,
   "metadata": {},
   "outputs": [
    {
     "data": {
      "application/vnd.jupyter.widget-view+json": {
       "model_id": "7ebf13cae1084dbd99c022c2fd130e34",
       "version_major": 2,
       "version_minor": 0
      },
      "text/plain": [
       "MetricVisualizer(layout=Layout(align_self='stretch', height='500px'))"
      ]
     },
     "metadata": {},
     "output_type": "display_data"
    }
   ],
   "source": [
    "from catboost import CatBoostRegressor\n",
    "\n",
    "# теперь для регрессии\n",
    "model = CatBoostRegressor(loss_function=\"RMSE\", max_depth=9, iterations=300, random_state=671)\n",
    "model.fit(trainDataVecs, y_train.rating, plot=True, eval_set=(testDataVecs, y_test.rating), verbose=False)\n",
    "y_pred_class = model.predict(testDataVecs)"
   ]
  },
  {
   "cell_type": "code",
   "execution_count": 98,
   "metadata": {},
   "outputs": [
    {
     "data": {
      "text/plain": [
       "1.1187943480843994"
      ]
     },
     "execution_count": 98,
     "metadata": {},
     "output_type": "execute_result"
    }
   ],
   "source": [
    "from sklearn.metrics import mean_squared_error\n",
    "mean_squared_error(y_pred_class, y_test.rating)**(1/2)"
   ]
  },
  {
   "cell_type": "code",
   "execution_count": 219,
   "metadata": {},
   "outputs": [],
   "source": [
    "from sklearn.linear_model import LogisticRegression\n",
    "from sklearn.model_selection import train_test_split\n",
    "from sklearn.metrics import f1_score\n",
    "from sklearn.preprocessing import MinMaxScaler"
   ]
  },
  {
   "cell_type": "code",
   "execution_count": 504,
   "metadata": {},
   "outputs": [],
   "source": [
    "X_train, X_test, y_train, y_test = train_test_split(X, y, random_state=671, shuffle=True, test_size=0.2)"
   ]
  },
  {
   "cell_type": "code",
   "execution_count": 413,
   "metadata": {},
   "outputs": [
    {
     "data": {
      "text/plain": [
       "torch.Size([300])"
      ]
     },
     "execution_count": 413,
     "metadata": {},
     "output_type": "execute_result"
    }
   ],
   "source": [
    "torch.Tensor(train_vecs_w2v)[0].shape"
   ]
  },
  {
   "cell_type": "code",
   "execution_count": 416,
   "metadata": {},
   "outputs": [
    {
     "data": {
      "text/plain": [
       "()"
      ]
     },
     "execution_count": 416,
     "metadata": {},
     "output_type": "execute_result"
    }
   ],
   "source": [
    "Y_train[0].shape"
   ]
  },
  {
   "cell_type": "code",
   "execution_count": 462,
   "metadata": {},
   "outputs": [],
   "source": [
    "Y_train = torch.Tensor(Y_train).unsqueeze(1).type(torch.FloatTensor)"
   ]
  },
  {
   "cell_type": "code",
   "execution_count": 510,
   "metadata": {},
   "outputs": [
    {
     "name": "stdout",
     "output_type": "stream",
     "text": [
      "Top ten occuring words : [('пиво', 7696), ('вкус', 2601), ('это', 2200), ('напиток', 1501), ('очень', 1406), ('в', 1374), ('5', 951), ('который', 906), ('светлый', 898), ('бутылка', 857)]\n"
     ]
    }
   ],
   "source": [
    "all_words = X.processed.sum()\n",
    "count_words = Counter(all_words)\n",
    "total_words=len(all_words)\n",
    "sorted_words=count_words.most_common(total_words)\n",
    "print(\"Top ten occuring words : \"+str(sorted_words[:10]))"
   ]
  },
  {
   "cell_type": "code",
   "execution_count": null,
   "metadata": {},
   "outputs": [],
   "source": [
    "vocab_to_int={w:i+1 for i,(w,c) in enumerate(sorted_words)}\n",
    "print(vocab_to_int)"
   ]
  },
  {
   "cell_type": "code",
   "execution_count": 344,
   "metadata": {},
   "outputs": [],
   "source": [
    "lreg = LogisticRegression(solver='lbfgs', max_iter=1000) \n",
    "\n",
    "lreg.fit(train_vecs_w2v, y_train)\n",
    "\n",
    "#test naive bayes accuracy\n",
    "testLabelsPredicted=list(lreg.predict(test_vecs_w2v))"
   ]
  },
  {
   "cell_type": "code",
   "execution_count": 345,
   "metadata": {},
   "outputs": [
    {
     "data": {
      "text/plain": [
       "0.726530612244898"
      ]
     },
     "execution_count": 345,
     "metadata": {},
     "output_type": "execute_result"
    }
   ],
   "source": [
    "accuracy_score(lreg.predict(test_vecs_w2v), y_test)"
   ]
  },
  {
   "cell_type": "code",
   "execution_count": 335,
   "metadata": {},
   "outputs": [
    {
     "data": {
      "text/plain": [
       "TfidfVectorizer()"
      ]
     },
     "execution_count": 335,
     "metadata": {},
     "output_type": "execute_result"
    }
   ],
   "source": [
    "scaler = MinMaxScaler()\n",
    "\n",
    "vectorizer = TfidfVectorizer()\n",
    "vectorizer.fit(X_train.processed.sum())\n",
    "\n"
   ]
  },
  {
   "cell_type": "code",
   "execution_count": 339,
   "metadata": {},
   "outputs": [
    {
     "data": {
      "text/plain": [
       "<979x1889 sparse matrix of type '<class 'numpy.float64'>'\n",
       "\twith 93102 stored elements in Compressed Sparse Row format>"
      ]
     },
     "execution_count": 339,
     "metadata": {},
     "output_type": "execute_result"
    }
   ],
   "source": [
    "matrix"
   ]
  }
 ],
 "metadata": {
  "colab": {
   "authorship_tag": "ABX9TyOhO9ANVm4SXK9q5vI0e+E4",
   "collapsed_sections": [],
   "name": "Hometask 1.ipynb",
   "provenance": []
  },
  "kernelspec": {
   "display_name": "Python 3 (ipykernel)",
   "language": "python",
   "name": "python3"
  },
  "language_info": {
   "codemirror_mode": {
    "name": "ipython",
    "version": 3
   },
   "file_extension": ".py",
   "mimetype": "text/x-python",
   "name": "python",
   "nbconvert_exporter": "python",
   "pygments_lexer": "ipython3",
   "version": "3.10.4"
  }
 },
 "nbformat": 4,
 "nbformat_minor": 4
}
