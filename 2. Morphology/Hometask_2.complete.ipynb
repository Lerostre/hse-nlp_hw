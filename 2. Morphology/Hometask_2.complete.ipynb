{
 "cells": [
  {
   "cell_type": "markdown",
   "id": "6eb06a48-e0e2-4660-b1dc-ebd4da143721",
   "metadata": {},
   "source": [
    "## Домашнее задание номер 2\n",
    "\n",
    "На последнем семинаре мы проанализировали несколько различных морфологических теггеров. Как же узнать, какой использовать? Давайте сравним их качество!\n",
    "\n",
    "В этой домашке вам будет нужно найти тексты на русском языке (размер корпуса не менее 200 слов), \n",
    "в которых  будут какие-то трудные или неоднозначные для POS теггинга моменты и разметить их вручную \n",
    "– с помощью этих текстов мы будем оценивать качество работы наших теггеров. В текстах размечаем только части речи, ничего больше!"
   ]
  },
  {
   "cell_type": "markdown",
   "id": "ff7de839-59a1-4f38-b3a1-ecf3e4ca3017",
   "metadata": {},
   "source": [
    "### 1. Корпус\n",
    "1. (1 балл) Создание, разметка корпуса и объяснение того, \n",
    "почему этот текст подходит для оценки (какие моменты вы тут считаете трудными для автоматического посттеггинга и почему, в этом вам может помочь второй ридинг).\n",
    "Не забывайте, что разные теггеры могут использовать разные тегсеты: напишите комментарий о том, какой тегсет вы берёте для разметки и почему."
   ]
  },
  {
   "cell_type": "markdown",
   "id": "b6b8961b-2598-48b7-86e0-141e8e80d840",
   "metadata": {},
   "source": [
    "Я, к сожалению, не смог найти ничего смешного, что бы одновременно подходило под условие задачи, поэтому тексты я брал примерно такие же, как в ридинге, а именно: образцы детской речи вот отсюда - \"https://www.maam.ru/detskijsad/slovotvorchestvo-v-detskoi-rechi-na-materiale-rechi-detei-ot-3-h-do-7-mi-let.html\", предложение с новыми лексемами отсюда - https://ru.wikipedia.org/wiki/Глокая_куздра, стихотворения Велемира Хлебникова, они вообще довольно уникальны оказались в плане словотворчества, стихотворение, в котором много слов со сложными словами и основами, - https://lit-ra.su/stihi-futurizm/moy-vozlyublennyy-kiborg, стихотворение, в котором куча омонимичных слов - https://www.culture.ru/poems/15870/na-prudu и рецепт, в котором есть существующие, но очень экзотические слова - https://www.gastronom.ru/recipe/26289/frittata-de-pazi. Таким образом, все эти случаи более-менее неоднозначные, там теггер, и тем более я, может ошибиться"
   ]
  },
  {
   "cell_type": "markdown",
   "id": "5e180a7a-4ea2-4ca4-8309-25a043d8cd48",
   "metadata": {},
   "source": [
    "Поскольку мне было лень заводить отдельный документ, а потом оттуда всё читать, все тексты и ссылки я записал в ячейки. Можно их скипать. Формально они уже записаны в csv, я оставил, чтобы ход моего решения был понятен с самой его задумки"
   ]
  },
  {
   "cell_type": "code",
   "execution_count": 1,
   "id": "53461d9b-f720-4570-a890-09f6105cfe1d",
   "metadata": {},
   "outputs": [],
   "source": [
    "text1 = \"\"\"Ну она и воручелла у нас! Всегда на нас ворчит!\n",
    "Мама, давай кошечку пригрудим, а то ведь ей голодновато на улице\n",
    "У них на даче много порхунов и порхахалей?\n",
    "Мама вчера весь дом передрыкала\"\"\"\n",
    "ref1 = \"https://www.maam.ru/detskijsad/slovotvorchestvo-v-detskoi-rechi-na-materiale-rechi-detei-ot-3-h-do-7-mi-let.html\""
   ]
  },
  {
   "cell_type": "code",
   "execution_count": 2,
   "id": "ac92c6d4-8fb3-4881-a044-2b818f2ee57a",
   "metadata": {},
   "outputs": [],
   "source": [
    "text2 = \"\"\"Чайнело… Мильные бокры\n",
    "Юлись и дрырлись к поросе,\n",
    "И глокой куздры развихры\n",
    "Курдячились по белесе.\"\"\"\n",
    "ref2 = \"Л.Кэрролл. Алиса за зеркалом. Пер. Е. Клюева\""
   ]
  },
  {
   "cell_type": "code",
   "execution_count": 3,
   "id": "bec6501d-cfb4-402d-97b6-ac56e378bcf4",
   "metadata": {},
   "outputs": [],
   "source": [
    "text3 = \"\"\"Ты белых лебедей кормила,\n",
    "Откинув тяжесть черных кос…\n",
    "Я рядом плыл; сошлись кормила;\n",
    "Закатный луч был странно-кос.\n",
    "По небу полосы синели,\n",
    "Вечеровой багрец кроя;\n",
    "В цветах черемух и синели\n",
    "Скрывались водные края.\n",
    "Все формы были строго-четки,\n",
    "Миг ранил сердце сотней жал…\n",
    "Я, как аскет сжимает четки,\n",
    "В руке весло невольно жал.\n",
    "Вдруг лебедей метнулась пара…\n",
    "Не знаю, чья была вина…\n",
    "Закат замлел за дымкой пара,\n",
    "Алея, как поток вина.\n",
    "Была то правда ли, мечта ли, —\n",
    "Уста двоих слились в одно.\n",
    "Две лодки, как и мы, мечтали,\n",
    "Как будто вонзены во дно.\n",
    "Я свято помню эту встречу:\n",
    "Пруд, берег, неба яркий плат…\n",
    "Миг тот же если вновь я встречу, —\n",
    "И жизнь ничтожная из плат!\"\"\"\n",
    "ref3 = \"В. Брюсов. На пруду\""
   ]
  },
  {
   "cell_type": "code",
   "execution_count": 4,
   "id": "31e4f448-8ae9-496d-91c4-9f340dce80b2",
   "metadata": {},
   "outputs": [],
   "source": [
    "text4 = \"\"\"О, рассмейтесь, смехачи!\n",
    "О, засмейтесь, смехачи!\n",
    "Что смеются смехами, что смеянствуют смеяльно,\n",
    "О, засмейтесь усмеяльно!\n",
    "О, рассмешищ надсмеяльных – смех усмейных смехачей!\n",
    "О, иссмейся рассмеяльно, смех надсмейных смеячей!\n",
    "Смейево, смейево,\n",
    "Усмей, осмей, смешики, смешики,\n",
    "Смеюнчики, смеюнчики.\n",
    "О, рассмейтесь, смехачи!\n",
    "О, засмейтесь, смехачи!\"\"\"\n",
    "ref4 = \"В. Хлебников. Заклятие смехом\""
   ]
  },
  {
   "cell_type": "code",
   "execution_count": 5,
   "id": "240add41-77f8-47a3-9878-79ddea18b18a",
   "metadata": {},
   "outputs": [],
   "source": [
    "text5 = \"\"\"Мой возлюбленный Киборг! Я хочу быть с тобой!\n",
    "В электросатисфакции целовать твоё тело стальное\n",
    "Мой возлюбленный киборг! Вижу в твоём теле огонь.\n",
    "Как трансформатор сердце гудит — электронное и живое!\n",
    "\n",
    "Электричество насквозь в организме расцветает,\n",
    "Я дышу, как Смерть в тумане, превращаясь в чистый лист.\n",
    "В небесах моей судьбы пеплом-снегом дух спадает\n",
    "Искра Божья как звезда озаряет футуризм.\n",
    "\n",
    "Снова зачат в электроне, тело Киборга живое\n",
    "Окружает сталью дух, в сердце взрыв мотора стук.\n",
    "Электричество — мой друг, я в него давно влюблён\n",
    "И теперь всецело в кибер, в электроны погружён.\n",
    "\n",
    "Я познал себя во всём, что касается белка,\n",
    "А теперь мой дух- нейрон и нейтрино — душа моя\n",
    "Разум — цифровой аналог, в сердце-ток и пустота,\n",
    "Эры кибердемиургов надвигается заря!\n",
    "\n",
    "А любовь моя проста — это киберкрасота,\n",
    "Виртуальная нирвана раскрывает мне Врата\n",
    "В бесконечную миграцию сквозь познание себя,\n",
    "И в глазах импринтинг звёздный — детонирующая пустота!\n",
    "\n",
    "Там любовь свою я встретил, — Звезду трудно не заметить!\n",
    "\n",
    "Роскошная девушка из лучших металлических сплавов\n",
    "Её тело — квинтенсенция межгалактических металлов,\n",
    "В её духе — латентная детонация унивёрсума,\n",
    "В сердце — мощнейший процессор, в глазах — тайна звёздная.\n",
    "\"\"\"\n",
    "ref5 = \"https://lit-ra.su/stihi-futurizm/moy-vozlyublennyy-kiborg\""
   ]
  },
  {
   "cell_type": "code",
   "execution_count": 6,
   "id": "96aa03b2-7d2f-42b2-a0df-adb425d014a8",
   "metadata": {},
   "outputs": [],
   "source": [
    "text6 = \"\"\"Фриттата, в переводе с ладино – языка сефардских евреев, означает «тушеная». Пази – мангольд, листовая свекла.\n",
    "Это очень простое блюдо пришло из жарких стран, и сейчас оно особенно популярно у иерусалимских сефардских хозяек, которые\n",
    "начинают его готовить в Песах, а последние фриттаты подают на стол уже в конце осени – в Суккот. В знойную погоду она\n",
    "насыщает, но не оставляет ощущения тяжести.\"\"\"\n",
    "ref6 = \"https://www.gastronom.ru/recipe/26289/frittata-de-pazi\""
   ]
  },
  {
   "cell_type": "markdown",
   "id": "ff9145f5-85d5-49ab-ad9a-00b9982b3981",
   "metadata": {},
   "source": [
    "Части речи я размечал так: брал по 50 объектов из датафрейма, пристально смотрел и назначал тег. Не претендую на истинность, опирался прежде всего на интуцицию. Тегсет я выбрал от пайморфи, потому что он 1) достаточно простой, остальные сложнее, потом их придётся приводить к моему и, очевидно, редуцировать что-то проще, 2) вполне компактный, основные категории в нём кодируются одной буквой, я и так устал всё это писать. Опять же, привожу полными списками для ясности того, как я всё делал"
   ]
  },
  {
   "cell_type": "code",
   "execution_count": 7,
   "id": "8088af88-a516-49d0-857d-d502e19d1cbe",
   "metadata": {},
   "outputs": [],
   "source": [
    "pos1 = [\"PART\", \"SPRO\", \"INTJ\", \"S\", \"PR\", \"SPRO\", \"ADV\", \"PR\", \"SPRO\",\n",
    "       \"V\", \"S\", \"V\", \"S\", \"V\", \"CONJ\", \"CONJ\",\n",
    "      \"PART\", \"SPRO\", \"ADV\", \"PR\", \"S\", \"PR\", \"SPRO\", \"PR\",\n",
    "      \"S\", \"ADV\", \"S\", \"CONJ\", \"S\", \"S\", \"ADV\",\n",
    "      \"APRO\", \"S\", \"V\", \"V\", \"A\", \"S\",\n",
    "      \"V\", \"CONJ\", \"V\", \"PR\", \"S\", \"CONJ\", \"A\", \"S\",\n",
    "      \"S\", \"V\", \"PR\", \"S\", \"SPRO\"]"
   ]
  },
  {
   "cell_type": "code",
   "execution_count": 8,
   "id": "d16afa22-89c7-48f5-b706-5486be0ed889",
   "metadata": {},
   "outputs": [],
   "source": [
    "pos2 = [\"A\", \"S\", \"V\", \"V\", \"S\", \"A\", \"S\", \"SPRO\", \"ADV\", \"V\", \"V\", \"S\", \"A\",\n",
    "       \"S\", \"V\", \"A\", \"PR\", \"S\", \"S\", \"V\",\n",
    "       \"A\", \"S\", \"V\", \"PR\", \"S\", \"S\", \"CONJ\",\n",
    "       \"S\", \"V\", \"A\", \"S\", \"APRO\", \"S\", \"V\",\n",
    "       \"A\", \"S\", \"V\", \"S\", \"NUM\", \"S\", \"SPRO\",\n",
    "       \"ADVPRO\", \"S\", \"V\", \"S\", \"PR\", \"S\", \"S\",\n",
    "       \"ADV\", \"V\"]"
   ]
  },
  {
   "cell_type": "code",
   "execution_count": 9,
   "id": "71f32edc-beaa-4d0e-810c-b1746453160d",
   "metadata": {},
   "outputs": [],
   "source": [
    "pos3 = [\"ADV\", \"S\", \"V\", \"S\", \"PART\", \"V\", \"APRO\",\n",
    "       \"V\", \"S\", \"S\", \"V\", \"PR\", \"S\", \"S\",\n",
    "       \"V\", \"ADVPRO\", \"S\", \"S\", \"V\", \"SPRO\", \"S\", \"PART\",\n",
    "       \"S\", \"PART\", \"\", \"S\", \"NUM\", \"V\", \"PR\", \"NUM\",\n",
    "       \"NUM\", \"S\", \"ADVPRO\", \"CONJ\", \"SPRO\", \"V\", \"ADVPRO\", \"PART\",\n",
    "       \"V\", \"PR\", \"S\", \"SPRO\", \"ADV\", \"V\", \"APRO\", \"S\",\n",
    "       \"S\", \"S\", \"S\", \"A\"]"
   ]
  },
  {
   "cell_type": "code",
   "execution_count": 10,
   "id": "b5b3004c-df43-4a9c-ad26-14ee738d3eb4",
   "metadata": {},
   "outputs": [],
   "source": [
    "pos4 = [\"S\", \"S\", \"APRO\", \"PART\", \"CONJ\", \"ADV\", \"SPRO\", \"V\", \"\",\n",
    "       \"CONJ\", \"S\", \"A\", \"PR\", \"S\", \"INTJ\", \"V\", \"S\", \"INTJ\", \"V\", \"S\", \"CONJ\", \"V\",\n",
    "       \"S\", \"CONJ\", \"V\", \"ADV\", \"INTJ\", \"V\",\n",
    "       \"ADV\", \"INTJ\", \"S\", \"A\", \"\", \"S\",\n",
    "       \"ADV\", \"S\", \"INTJ\", \"V\", \"ADV\", \"S\",\n",
    "       \"A\", \"S\", \"ADV\", \"ADV\", \"V\",\n",
    "       \"V\", \"S\", \"S\", \"S\", \"S\"]"
   ]
  },
  {
   "cell_type": "code",
   "execution_count": 11,
   "id": "fdcddc58-e947-4579-931e-8dc91abbdc50",
   "metadata": {},
   "outputs": [],
   "source": [
    "pos5 = [\"INTJ\", \"V\", \"S\", \"INTJ\", \"V\", \"S\",\n",
    "       \"APRO\", \"A\", \"S\", \"SPRO\", \"V\", \"V\", \"PR\",\n",
    "       \"SPRO\", \"PR\", \"S\", \"V\", \"APRO\", \"S\",\n",
    "       \"A\", \"APRO\", \"A\", \"S\", \"V\", \"PR\", \"APRO\",\n",
    "       \"S\", \"S\", \"ADVPRO\", \"S\", \"S\", \"V\", \"\",\n",
    "       \"A\", \"CONJ\", \"A\", \"S\", \"ADV\", \"PR\",\n",
    "       \"S\", \"V\", \"SPRO\", \"V\", \"ADVPRO\", \"S\", \"PR\",\n",
    "       \"S\", \"V\", \"PR\", \"A\"]"
   ]
  },
  {
   "cell_type": "code",
   "execution_count": 12,
   "id": "96e7ad75-9326-424a-9f0a-59c2fceb69f8",
   "metadata": {},
   "outputs": [],
   "source": [
    "pos6 = [\"S\", \"PR\", \"S\", \"APRO\", \"S\", \"S\", \"S\",\n",
    "       \"V\", \"S\", \"A\", \"ADVPRO\", \"S\", \"V\",\n",
    "       \"S\", \"ADV\", \"V\", \"PR\", \"S\", \"S\",\n",
    "       \"S\", \"A\", \"V\", \"S\", \"S\", \"PR\", \"S\",\n",
    "       \"S\", \"S\", \"S\", \"S\", \"\",\"APRO\", \"S\",\n",
    "       \"SPRO\", \"PR\", \"SPRO\", \"ADV\", \"V\", \"CONJ\", \"ADV\", \"ADV\",\n",
    "       \"PR\", \"S\", \"PR\", \"S\", \"V\", \"SPRO\", \"V\",\n",
    "       \"SPRO\", \"PR\"]"
   ]
  },
  {
   "cell_type": "code",
   "execution_count": 13,
   "id": "cc86e769-6890-45d5-8724-5cfeebcb48e3",
   "metadata": {},
   "outputs": [],
   "source": [
    "pos7 = [\"SPRO\", \"CONJ\", \"V\", \"S\", \"CONJ\", \"ADV\", \"APRO\", \"S\",\n",
    "       \"S\", \"CONJ\", \"S\", \"\", \"S\", \"S\", \"S\", \"\",\n",
    "       \"A\", \"S\", \"PR\", \"S\", \"CONJ\", \"S\", \"S\",\n",
    "       \"S\", \"V\", \"S\", \"CONJ\", \"S\", \"APRO\",\n",
    "       \"A\", \"\", \"SPRO\", \"S\", \"A\", \"S\",\n",
    "       \"V\", \"SPRO\", \"S\", \"PR\", \"A\", \"S\",\n",
    "       \"ADV\", \"S\", \"SPRO\", \"CONJ\", \"PR\", \"S\", \"S\",\n",
    "       \"A\", \"\"]"
   ]
  },
  {
   "cell_type": "code",
   "execution_count": 14,
   "id": "f3cc2666-ba94-41fa-b99a-4b7420dc9d89",
   "metadata": {},
   "outputs": [],
   "source": [
    "pos8 = [\"A\", \"S\", \"ADV\", \"S\", \"APRO\", \"SPRO\",\n",
    "       \"V\", \"\", \"S\", \"ADV\", \"PART\", \"V\",\n",
    "       \"A\", \"S\", \"PR\", \"A\", \"A\", \"S\",\n",
    "       \"APRO\", \"S\", \"\", \"S\", \"A\",\n",
    "       \"S\", \"PR\", \"APRO\", \"S\", \"\",\"A\", \"S\",\n",
    "       \"S\", \"PR\", \"S\", \"\", \"A\", \"S\", \"PR\",\n",
    "       \"S\", \"\", \"S\", \"A\", \"S\", \"PR\", \"S\",\n",
    "       \"PR\", \"S\", \"\", \"S\", \"A\", \"S\",]"
   ]
  },
  {
   "cell_type": "code",
   "execution_count": 15,
   "id": "7746770a-9005-430a-b2d5-d626e9e9ad5b",
   "metadata": {},
   "outputs": [],
   "source": [
    "pos9 = [\"V\", \"A\", \"S\", \"\", \"S\", \"A\", \"S\", \"SPRO\", \"ADV\", \"A\", \"S\", \"V\", \"PR\",\n",
    "        \"A\", \"S\", \"CONJ\", \"ADV\", \"SPRO\", \"ADV\", \"A\",\n",
    "        \"PR\", \"A\", \"A\", \"S\", \"CONJ\",\n",
    "        \"V\", \"SPRO\", \"V\", \"PR\", \"S\", \"CONJ\", \"A\",\n",
    "        \"S\", \"V\", \"PR\", \"S\", \"A\", \"PR\", \"S\", \"S\",\n",
    "        \"\", \"PR\", \"S\", \"PR\", \"A\", \"S\", \"SPRO\", \"V\",\n",
    "        \"CONJ\", \"PART\", \"V\", \"S\", \"S\"]"
   ]
  },
  {
   "cell_type": "code",
   "execution_count": 16,
   "id": "62138214-ca1a-485b-a68c-ec36e52d8bae",
   "metadata": {},
   "outputs": [],
   "source": [
    "pos = pos1+pos2+pos3+pos4+pos5+pos6+pos7+pos8+pos9"
   ]
  },
  {
   "cell_type": "markdown",
   "id": "c3ed47db-3e6d-4ed6-b26e-281fcb494b3e",
   "metadata": {},
   "source": [
    "Затем я их все разбил на токены (пока что необработанные, потому что для морфоанализа мне леммы не нужны) и составил их список. Источники просто собрал в список"
   ]
  },
  {
   "cell_type": "code",
   "execution_count": 17,
   "id": "ea211e68-e42f-489f-9de1-3b3aed30e053",
   "metadata": {},
   "outputs": [],
   "source": [
    "texts = map(lambda x: x.split(), [text1, text2, text3, text4, text5, text6])\n",
    "sources = [ref1, ref2, ref3, ref4, ref5, ref6]"
   ]
  },
  {
   "cell_type": "markdown",
   "id": "281acfcb-8547-44b3-a9bf-5c8b017cd359",
   "metadata": {},
   "source": [
    "Текст я доставал в несколько этапов. Сначала делал датафрейм, в котором указывал ссылку на источник и необработанный текст"
   ]
  },
  {
   "cell_type": "code",
   "execution_count": 18,
   "id": "43af5aef-2887-4b74-a47f-0be7741e7439",
   "metadata": {},
   "outputs": [],
   "source": [
    "import pandas as pd\n",
    "from tqdm import tqdm\n",
    "df = pd.DataFrame({\"source\": sources, \"text\": texts})"
   ]
  },
  {
   "cell_type": "markdown",
   "id": "3c7feeed-ce8e-4b17-8a3f-3f484b3de4a7",
   "metadata": {},
   "source": [
    "Копировал текст в колонку токенов, потому что потом токены я получу через explode, а текст пригодится отдельно"
   ]
  },
  {
   "cell_type": "code",
   "execution_count": 19,
   "id": "3e7df91c-e1ea-48b4-8566-ab7a212ebe06",
   "metadata": {},
   "outputs": [],
   "source": [
    "df[\"token\"] = df.text\n",
    "df = df.explode(\"token\")"
   ]
  },
  {
   "cell_type": "markdown",
   "id": "95f46b4c-2386-45c8-ad59-18f10d7187f8",
   "metadata": {},
   "source": [
    "Каждый токен и каждый текст прогонял через токенайзер, чтобы избавиться от знаков препинания, привести всё к нижнему регистру и всё прочее. Для токенов просто применял функцию, для текста склеивал его обратно, он мне потом пригодится"
   ]
  },
  {
   "cell_type": "code",
   "execution_count": 20,
   "id": "3a75366d-292f-4748-9146-a3ccb2af6e64",
   "metadata": {},
   "outputs": [],
   "source": [
    "import nltk\n",
    "from nltk.stem import WordNetLemmatizer\n",
    "from nltk.tokenize import RegexpTokenizer\n",
    "from nltk.corpus import stopwords\n",
    "import pymorphy2\n",
    "import string\n",
    "import re\n",
    "\n",
    "morph = pymorphy2.MorphAnalyzer()\n",
    "# беру только буквы, без цифр\n",
    "tokenizer = RegexpTokenizer(r'[^\\d\\W]+')\n",
    "russian_stopwords = stopwords.words(\"russian\")"
   ]
  },
  {
   "cell_type": "code",
   "execution_count": 21,
   "id": "99c7d097-f712-4057-8bc6-9e8832324c34",
   "metadata": {},
   "outputs": [],
   "source": [
    "def get_token(x):\n",
    "    token = tokenizer.tokenize(x)\n",
    "    return token[0] if token else \"\""
   ]
  },
  {
   "cell_type": "code",
   "execution_count": 22,
   "id": "b7825621-f798-4e6a-b25f-c3b09d40ba5e",
   "metadata": {},
   "outputs": [],
   "source": [
    "df[\"text\"] = df.text.apply(lambda x: \" \".join(get_token(y.lower()) for y in x))\n",
    "df[\"token\"] = df.token.apply(lambda x: get_token(x.lower()))"
   ]
  },
  {
   "cell_type": "markdown",
   "id": "bb21c93a-9f37-4136-a94a-45ee395bf01b",
   "metadata": {},
   "source": [
    "Специально выношу индексы, потому что по ним я потом буду клеить колонки, чтобы пощадить свой рассудок в будущем и не издеваться с merge. Если честно, по-моему я это делал как раз, чтобы мёрдж был как надо, но потом от него вообще избавился, а код остался. Но я считаю, что, как говорится, не надо чинить не сломанное. В любом случае это не тот код, который надо постоянно запускать, когда уже есть готовый датафрейм"
   ]
  },
  {
   "cell_type": "code",
   "execution_count": 23,
   "id": "40564054-e03d-476e-bd74-97545f696d29",
   "metadata": {},
   "outputs": [],
   "source": [
    "df = df.reset_index(drop=True)"
   ]
  },
  {
   "cell_type": "markdown",
   "id": "f4fa0582-fca1-4633-b78b-38dc396251d6",
   "metadata": {},
   "source": [
    "Части речи уже мною размечены, каждое слово точно сопоставлено, можно присоединять без проблем. Те, которые не имеют части речи, можно выкидывать"
   ]
  },
  {
   "cell_type": "code",
   "execution_count": 24,
   "id": "f11b56db-1e1e-4866-a838-eee91c1f8bf5",
   "metadata": {},
   "outputs": [],
   "source": [
    "df[\"pos\"] = pd.Series(pos)\n",
    "df = df[df.pos != \"\"]"
   ]
  },
  {
   "cell_type": "code",
   "execution_count": 25,
   "id": "ed19f5c8-b25e-4a0d-900d-948f96aeaad5",
   "metadata": {},
   "outputs": [],
   "source": [
    "df.to_csv(\"pos.csv\", index=0)\n",
    "df = df.reset_index()"
   ]
  },
  {
   "cell_type": "markdown",
   "id": "e0194727-ec55-456a-b436-ebd163111159",
   "metadata": {},
   "source": [
    "Вот так выглядел датафрейм после махинаций. Не очень красиво, надо бы закодировать текст и источники, можно через LabelEncoder, запихнуть их в отдельную БД, но мне было лень, это всё равно промежуточный этап"
   ]
  },
  {
   "cell_type": "code",
   "execution_count": 26,
   "id": "824be97c-342a-4fcb-a782-0471419db1d6",
   "metadata": {},
   "outputs": [
    {
     "data": {
      "text/html": [
       "<div>\n",
       "<style scoped>\n",
       "    .dataframe tbody tr th:only-of-type {\n",
       "        vertical-align: middle;\n",
       "    }\n",
       "\n",
       "    .dataframe tbody tr th {\n",
       "        vertical-align: top;\n",
       "    }\n",
       "\n",
       "    .dataframe thead th {\n",
       "        text-align: right;\n",
       "    }\n",
       "</style>\n",
       "<table border=\"1\" class=\"dataframe\">\n",
       "  <thead>\n",
       "    <tr style=\"text-align: right;\">\n",
       "      <th></th>\n",
       "      <th>index</th>\n",
       "      <th>source</th>\n",
       "      <th>text</th>\n",
       "      <th>token</th>\n",
       "      <th>pos</th>\n",
       "    </tr>\n",
       "  </thead>\n",
       "  <tbody>\n",
       "    <tr>\n",
       "      <th>0</th>\n",
       "      <td>0</td>\n",
       "      <td>https://www.maam.ru/detskijsad/slovotvorchestv...</td>\n",
       "      <td>ну она и воручелла у нас всегда на нас ворчит ...</td>\n",
       "      <td>ну</td>\n",
       "      <td>PART</td>\n",
       "    </tr>\n",
       "    <tr>\n",
       "      <th>1</th>\n",
       "      <td>1</td>\n",
       "      <td>https://www.maam.ru/detskijsad/slovotvorchestv...</td>\n",
       "      <td>ну она и воручелла у нас всегда на нас ворчит ...</td>\n",
       "      <td>она</td>\n",
       "      <td>SPRO</td>\n",
       "    </tr>\n",
       "    <tr>\n",
       "      <th>2</th>\n",
       "      <td>2</td>\n",
       "      <td>https://www.maam.ru/detskijsad/slovotvorchestv...</td>\n",
       "      <td>ну она и воручелла у нас всегда на нас ворчит ...</td>\n",
       "      <td>и</td>\n",
       "      <td>INTJ</td>\n",
       "    </tr>\n",
       "    <tr>\n",
       "      <th>3</th>\n",
       "      <td>3</td>\n",
       "      <td>https://www.maam.ru/detskijsad/slovotvorchestv...</td>\n",
       "      <td>ну она и воручелла у нас всегда на нас ворчит ...</td>\n",
       "      <td>воручелла</td>\n",
       "      <td>S</td>\n",
       "    </tr>\n",
       "    <tr>\n",
       "      <th>4</th>\n",
       "      <td>4</td>\n",
       "      <td>https://www.maam.ru/detskijsad/slovotvorchestv...</td>\n",
       "      <td>ну она и воручелла у нас всегда на нас ворчит ...</td>\n",
       "      <td>у</td>\n",
       "      <td>PR</td>\n",
       "    </tr>\n",
       "    <tr>\n",
       "      <th>...</th>\n",
       "      <td>...</td>\n",
       "      <td>...</td>\n",
       "      <td>...</td>\n",
       "      <td>...</td>\n",
       "      <td>...</td>\n",
       "    </tr>\n",
       "    <tr>\n",
       "      <th>431</th>\n",
       "      <td>448</td>\n",
       "      <td>https://www.gastronom.ru/recipe/26289/frittata...</td>\n",
       "      <td>фриттата в переводе с ладино  языка сефардских...</td>\n",
       "      <td>но</td>\n",
       "      <td>CONJ</td>\n",
       "    </tr>\n",
       "    <tr>\n",
       "      <th>432</th>\n",
       "      <td>449</td>\n",
       "      <td>https://www.gastronom.ru/recipe/26289/frittata...</td>\n",
       "      <td>фриттата в переводе с ладино  языка сефардских...</td>\n",
       "      <td>не</td>\n",
       "      <td>PART</td>\n",
       "    </tr>\n",
       "    <tr>\n",
       "      <th>433</th>\n",
       "      <td>450</td>\n",
       "      <td>https://www.gastronom.ru/recipe/26289/frittata...</td>\n",
       "      <td>фриттата в переводе с ладино  языка сефардских...</td>\n",
       "      <td>оставляет</td>\n",
       "      <td>V</td>\n",
       "    </tr>\n",
       "    <tr>\n",
       "      <th>434</th>\n",
       "      <td>451</td>\n",
       "      <td>https://www.gastronom.ru/recipe/26289/frittata...</td>\n",
       "      <td>фриттата в переводе с ладино  языка сефардских...</td>\n",
       "      <td>ощущения</td>\n",
       "      <td>S</td>\n",
       "    </tr>\n",
       "    <tr>\n",
       "      <th>435</th>\n",
       "      <td>452</td>\n",
       "      <td>https://www.gastronom.ru/recipe/26289/frittata...</td>\n",
       "      <td>фриттата в переводе с ладино  языка сефардских...</td>\n",
       "      <td>тяжести</td>\n",
       "      <td>S</td>\n",
       "    </tr>\n",
       "  </tbody>\n",
       "</table>\n",
       "<p>436 rows × 5 columns</p>\n",
       "</div>"
      ],
      "text/plain": [
       "     index                                             source  \\\n",
       "0        0  https://www.maam.ru/detskijsad/slovotvorchestv...   \n",
       "1        1  https://www.maam.ru/detskijsad/slovotvorchestv...   \n",
       "2        2  https://www.maam.ru/detskijsad/slovotvorchestv...   \n",
       "3        3  https://www.maam.ru/detskijsad/slovotvorchestv...   \n",
       "4        4  https://www.maam.ru/detskijsad/slovotvorchestv...   \n",
       "..     ...                                                ...   \n",
       "431    448  https://www.gastronom.ru/recipe/26289/frittata...   \n",
       "432    449  https://www.gastronom.ru/recipe/26289/frittata...   \n",
       "433    450  https://www.gastronom.ru/recipe/26289/frittata...   \n",
       "434    451  https://www.gastronom.ru/recipe/26289/frittata...   \n",
       "435    452  https://www.gastronom.ru/recipe/26289/frittata...   \n",
       "\n",
       "                                                  text      token   pos  \n",
       "0    ну она и воручелла у нас всегда на нас ворчит ...         ну  PART  \n",
       "1    ну она и воручелла у нас всегда на нас ворчит ...        она  SPRO  \n",
       "2    ну она и воручелла у нас всегда на нас ворчит ...          и  INTJ  \n",
       "3    ну она и воручелла у нас всегда на нас ворчит ...  воручелла     S  \n",
       "4    ну она и воручелла у нас всегда на нас ворчит ...          у    PR  \n",
       "..                                                 ...        ...   ...  \n",
       "431  фриттата в переводе с ладино  языка сефардских...         но  CONJ  \n",
       "432  фриттата в переводе с ладино  языка сефардских...         не  PART  \n",
       "433  фриттата в переводе с ладино  языка сефардских...  оставляет     V  \n",
       "434  фриттата в переводе с ладино  языка сефардских...   ощущения     S  \n",
       "435  фриттата в переводе с ладино  языка сефардских...    тяжести     S  \n",
       "\n",
       "[436 rows x 5 columns]"
      ]
     },
     "execution_count": 26,
     "metadata": {},
     "output_type": "execute_result"
    }
   ],
   "source": [
    "df"
   ]
  },
  {
   "cell_type": "markdown",
   "id": "4ca06ad2-8e8a-4d79-95a4-55bfd363bf3f",
   "metadata": {},
   "source": [
    "### 2. Теггинг\n",
    "2. (3 балла) Потом вам будет нужно взять три  POS теггера для русского языка (udpipe, stanza, natasha, pymorphy, mystem, spacy, deeppavlov) и «прогнать» текст через каждый из них."
   ]
  },
  {
   "cell_type": "markdown",
   "id": "a4ef378d-c19c-4000-9d6f-05618e3365ea",
   "metadata": {},
   "source": [
    "Сперва я хотел разобраться с наташей. К сожалению, с ней возникает проблема, ведь она учитывает контекст, поэтому нужно парсить весь текст, для этого я их и сохранял"
   ]
  },
  {
   "cell_type": "code",
   "execution_count": 27,
   "id": "3377b1f4-5bd0-4bdd-9a2a-a4ef6fe4cb5e",
   "metadata": {},
   "outputs": [],
   "source": [
    "from natasha import (\n",
    "    Segmenter,\n",
    "    NewsEmbedding,\n",
    "    NewsMorphTagger,\n",
    "    NewsSyntaxParser,\n",
    "    MorphVocab,\n",
    "    Doc\n",
    ")\n",
    "\n",
    "segmenter = Segmenter()\n",
    "morph_vocab = MorphVocab()\n",
    "emb = NewsEmbedding()\n",
    "morph_tagger = NewsMorphTagger(emb)\n",
    "syntax_parser = NewsSyntaxParser(emb)"
   ]
  },
  {
   "cell_type": "code",
   "execution_count": 28,
   "id": "f3b12fa9-33e3-4b00-bc82-fb5a2f6d3c95",
   "metadata": {},
   "outputs": [],
   "source": [
    "natasha = pd.DataFrame(columns=[\"token\", \"natasha\"])\n",
    "\n",
    "for text in df.text.unique():\n",
    "\n",
    "    doc = Doc(text)\n",
    "    doc.segment(segmenter)\n",
    "    doc.tag_morph(morph_tagger)\n",
    "\n",
    "    natasha = pd.concat([natasha, pd.DataFrame([{\"token\": x.text, \"natasha\": x.pos} for x in doc.tokens])])"
   ]
  },
  {
   "cell_type": "markdown",
   "id": "1503a722-b02c-4487-8ee7-b73f88828522",
   "metadata": {},
   "source": [
    "За индексами опять же слежу, их должно быть ровно столько же, сколько в основном датафрейме"
   ]
  },
  {
   "cell_type": "code",
   "execution_count": 29,
   "id": "871b129a-9046-4023-975c-73d06b21b1cb",
   "metadata": {},
   "outputs": [
    {
     "data": {
      "text/html": [
       "<div>\n",
       "<style scoped>\n",
       "    .dataframe tbody tr th:only-of-type {\n",
       "        vertical-align: middle;\n",
       "    }\n",
       "\n",
       "    .dataframe tbody tr th {\n",
       "        vertical-align: top;\n",
       "    }\n",
       "\n",
       "    .dataframe thead th {\n",
       "        text-align: right;\n",
       "    }\n",
       "</style>\n",
       "<table border=\"1\" class=\"dataframe\">\n",
       "  <thead>\n",
       "    <tr style=\"text-align: right;\">\n",
       "      <th></th>\n",
       "      <th>token</th>\n",
       "      <th>natasha</th>\n",
       "    </tr>\n",
       "  </thead>\n",
       "  <tbody>\n",
       "    <tr>\n",
       "      <th>0</th>\n",
       "      <td>ну</td>\n",
       "      <td>PART</td>\n",
       "    </tr>\n",
       "    <tr>\n",
       "      <th>1</th>\n",
       "      <td>она</td>\n",
       "      <td>PRON</td>\n",
       "    </tr>\n",
       "    <tr>\n",
       "      <th>2</th>\n",
       "      <td>и</td>\n",
       "      <td>PART</td>\n",
       "    </tr>\n",
       "    <tr>\n",
       "      <th>3</th>\n",
       "      <td>воручелла</td>\n",
       "      <td>VERB</td>\n",
       "    </tr>\n",
       "    <tr>\n",
       "      <th>4</th>\n",
       "      <td>у</td>\n",
       "      <td>ADP</td>\n",
       "    </tr>\n",
       "    <tr>\n",
       "      <th>...</th>\n",
       "      <td>...</td>\n",
       "      <td>...</td>\n",
       "    </tr>\n",
       "    <tr>\n",
       "      <th>54</th>\n",
       "      <td>но</td>\n",
       "      <td>CCONJ</td>\n",
       "    </tr>\n",
       "    <tr>\n",
       "      <th>55</th>\n",
       "      <td>не</td>\n",
       "      <td>PART</td>\n",
       "    </tr>\n",
       "    <tr>\n",
       "      <th>56</th>\n",
       "      <td>оставляет</td>\n",
       "      <td>VERB</td>\n",
       "    </tr>\n",
       "    <tr>\n",
       "      <th>57</th>\n",
       "      <td>ощущения</td>\n",
       "      <td>NOUN</td>\n",
       "    </tr>\n",
       "    <tr>\n",
       "      <th>58</th>\n",
       "      <td>тяжести</td>\n",
       "      <td>NOUN</td>\n",
       "    </tr>\n",
       "  </tbody>\n",
       "</table>\n",
       "<p>436 rows × 2 columns</p>\n",
       "</div>"
      ],
      "text/plain": [
       "        token natasha\n",
       "0          ну    PART\n",
       "1         она    PRON\n",
       "2           и    PART\n",
       "3   воручелла    VERB\n",
       "4           у     ADP\n",
       "..        ...     ...\n",
       "54         но   CCONJ\n",
       "55         не    PART\n",
       "56  оставляет    VERB\n",
       "57   ощущения    NOUN\n",
       "58    тяжести    NOUN\n",
       "\n",
       "[436 rows x 2 columns]"
      ]
     },
     "execution_count": 29,
     "metadata": {},
     "output_type": "execute_result"
    }
   ],
   "source": [
    "natasha"
   ]
  },
  {
   "cell_type": "markdown",
   "id": "64fdbbb6-5902-48cd-904e-43c8288025f0",
   "metadata": {},
   "source": [
    "С майстемом аналогичная история, анализирую весь текст, слежу за индексом"
   ]
  },
  {
   "cell_type": "code",
   "execution_count": 30,
   "id": "264c5f88-5555-4a2a-ba9e-200235997aeb",
   "metadata": {},
   "outputs": [],
   "source": [
    "from pymystem3 import Mystem\n",
    "m = Mystem()\n",
    "mystem = []"
   ]
  },
  {
   "cell_type": "code",
   "execution_count": 31,
   "id": "ba5ed1ea-a0dc-4067-9ee9-87cf7b5de8d9",
   "metadata": {},
   "outputs": [],
   "source": [
    "mystem = pd.DataFrame(columns=[\"token\", \"mystem\"])\n",
    "\n",
    "for text in df.text.unique():\n",
    "\n",
    "    ana = m.analyze(text)\n",
    "    for word in ana:\n",
    "        if 'analysis' in word:\n",
    "            gr = word['analysis'][0]['gr']\n",
    "            pos = gr.split('=')[0].split(',')[0]\n",
    "            mystem = pd.concat([mystem, pd.DataFrame({\"token\": [word['text']], \"mystem\": [pos]})])"
   ]
  },
  {
   "cell_type": "code",
   "execution_count": 32,
   "id": "5247b62e-29e2-458a-a9af-25a591df9436",
   "metadata": {},
   "outputs": [],
   "source": [
    "natasha = natasha.reset_index(drop=True)\n",
    "mystem = mystem.reset_index(drop=True)"
   ]
  },
  {
   "cell_type": "markdown",
   "id": "6f5e6cbe-27d0-4764-b895-a2590fc8d924",
   "metadata": {},
   "source": [
    "Ну а pymorphy можно сразу добавлять"
   ]
  },
  {
   "cell_type": "code",
   "execution_count": 33,
   "id": "74eefe02-6869-4a81-acdc-4dd1daf4e18a",
   "metadata": {},
   "outputs": [],
   "source": [
    "df[\"pymorphy\"] = df.token.apply(lambda x: morph.parse(x)[0].tag.POS)"
   ]
  },
  {
   "cell_type": "markdown",
   "id": "02702a57-298b-4671-9e5d-37cb772c0a93",
   "metadata": {},
   "source": [
    "Теперь спокойно объявляю новые колонки"
   ]
  },
  {
   "cell_type": "code",
   "execution_count": 34,
   "id": "49d0a202-d4d0-4b2f-aca7-72317c82a61a",
   "metadata": {},
   "outputs": [],
   "source": [
    "df[\"natasha\"] = natasha.natasha\n",
    "df[\"mystem\"] = mystem.mystem"
   ]
  },
  {
   "cell_type": "markdown",
   "id": "3e4ec639-e35b-497b-9e14-8b93330619d0",
   "metadata": {},
   "source": [
    "Смотрим на число объектов - всё, как надо, значит, всё ок"
   ]
  },
  {
   "cell_type": "code",
   "execution_count": 35,
   "id": "727125ed-cb8d-47a1-a415-25ce38e2ef20",
   "metadata": {},
   "outputs": [
    {
     "data": {
      "text/html": [
       "<div>\n",
       "<style scoped>\n",
       "    .dataframe tbody tr th:only-of-type {\n",
       "        vertical-align: middle;\n",
       "    }\n",
       "\n",
       "    .dataframe tbody tr th {\n",
       "        vertical-align: top;\n",
       "    }\n",
       "\n",
       "    .dataframe thead th {\n",
       "        text-align: right;\n",
       "    }\n",
       "</style>\n",
       "<table border=\"1\" class=\"dataframe\">\n",
       "  <thead>\n",
       "    <tr style=\"text-align: right;\">\n",
       "      <th></th>\n",
       "      <th>index</th>\n",
       "      <th>source</th>\n",
       "      <th>text</th>\n",
       "      <th>token</th>\n",
       "      <th>pos</th>\n",
       "      <th>pymorphy</th>\n",
       "      <th>natasha</th>\n",
       "      <th>mystem</th>\n",
       "    </tr>\n",
       "  </thead>\n",
       "  <tbody>\n",
       "    <tr>\n",
       "      <th>0</th>\n",
       "      <td>0</td>\n",
       "      <td>https://www.maam.ru/detskijsad/slovotvorchestv...</td>\n",
       "      <td>ну она и воручелла у нас всегда на нас ворчит ...</td>\n",
       "      <td>ну</td>\n",
       "      <td>PART</td>\n",
       "      <td>PRCL</td>\n",
       "      <td>PART</td>\n",
       "      <td>PART</td>\n",
       "    </tr>\n",
       "    <tr>\n",
       "      <th>1</th>\n",
       "      <td>1</td>\n",
       "      <td>https://www.maam.ru/detskijsad/slovotvorchestv...</td>\n",
       "      <td>ну она и воручелла у нас всегда на нас ворчит ...</td>\n",
       "      <td>она</td>\n",
       "      <td>SPRO</td>\n",
       "      <td>NPRO</td>\n",
       "      <td>PRON</td>\n",
       "      <td>SPRO</td>\n",
       "    </tr>\n",
       "    <tr>\n",
       "      <th>2</th>\n",
       "      <td>2</td>\n",
       "      <td>https://www.maam.ru/detskijsad/slovotvorchestv...</td>\n",
       "      <td>ну она и воручелла у нас всегда на нас ворчит ...</td>\n",
       "      <td>и</td>\n",
       "      <td>INTJ</td>\n",
       "      <td>CONJ</td>\n",
       "      <td>PART</td>\n",
       "      <td>CONJ</td>\n",
       "    </tr>\n",
       "    <tr>\n",
       "      <th>3</th>\n",
       "      <td>3</td>\n",
       "      <td>https://www.maam.ru/detskijsad/slovotvorchestv...</td>\n",
       "      <td>ну она и воручелла у нас всегда на нас ворчит ...</td>\n",
       "      <td>воручелла</td>\n",
       "      <td>S</td>\n",
       "      <td>NOUN</td>\n",
       "      <td>VERB</td>\n",
       "      <td>S</td>\n",
       "    </tr>\n",
       "    <tr>\n",
       "      <th>4</th>\n",
       "      <td>4</td>\n",
       "      <td>https://www.maam.ru/detskijsad/slovotvorchestv...</td>\n",
       "      <td>ну она и воручелла у нас всегда на нас ворчит ...</td>\n",
       "      <td>у</td>\n",
       "      <td>PR</td>\n",
       "      <td>PREP</td>\n",
       "      <td>ADP</td>\n",
       "      <td>PR</td>\n",
       "    </tr>\n",
       "    <tr>\n",
       "      <th>...</th>\n",
       "      <td>...</td>\n",
       "      <td>...</td>\n",
       "      <td>...</td>\n",
       "      <td>...</td>\n",
       "      <td>...</td>\n",
       "      <td>...</td>\n",
       "      <td>...</td>\n",
       "      <td>...</td>\n",
       "    </tr>\n",
       "    <tr>\n",
       "      <th>431</th>\n",
       "      <td>448</td>\n",
       "      <td>https://www.gastronom.ru/recipe/26289/frittata...</td>\n",
       "      <td>фриттата в переводе с ладино  языка сефардских...</td>\n",
       "      <td>но</td>\n",
       "      <td>CONJ</td>\n",
       "      <td>CONJ</td>\n",
       "      <td>CCONJ</td>\n",
       "      <td>CONJ</td>\n",
       "    </tr>\n",
       "    <tr>\n",
       "      <th>432</th>\n",
       "      <td>449</td>\n",
       "      <td>https://www.gastronom.ru/recipe/26289/frittata...</td>\n",
       "      <td>фриттата в переводе с ладино  языка сефардских...</td>\n",
       "      <td>не</td>\n",
       "      <td>PART</td>\n",
       "      <td>PRCL</td>\n",
       "      <td>PART</td>\n",
       "      <td>PART</td>\n",
       "    </tr>\n",
       "    <tr>\n",
       "      <th>433</th>\n",
       "      <td>450</td>\n",
       "      <td>https://www.gastronom.ru/recipe/26289/frittata...</td>\n",
       "      <td>фриттата в переводе с ладино  языка сефардских...</td>\n",
       "      <td>оставляет</td>\n",
       "      <td>V</td>\n",
       "      <td>VERB</td>\n",
       "      <td>VERB</td>\n",
       "      <td>V</td>\n",
       "    </tr>\n",
       "    <tr>\n",
       "      <th>434</th>\n",
       "      <td>451</td>\n",
       "      <td>https://www.gastronom.ru/recipe/26289/frittata...</td>\n",
       "      <td>фриттата в переводе с ладино  языка сефардских...</td>\n",
       "      <td>ощущения</td>\n",
       "      <td>S</td>\n",
       "      <td>NOUN</td>\n",
       "      <td>NOUN</td>\n",
       "      <td>S</td>\n",
       "    </tr>\n",
       "    <tr>\n",
       "      <th>435</th>\n",
       "      <td>452</td>\n",
       "      <td>https://www.gastronom.ru/recipe/26289/frittata...</td>\n",
       "      <td>фриттата в переводе с ладино  языка сефардских...</td>\n",
       "      <td>тяжести</td>\n",
       "      <td>S</td>\n",
       "      <td>NOUN</td>\n",
       "      <td>NOUN</td>\n",
       "      <td>S</td>\n",
       "    </tr>\n",
       "  </tbody>\n",
       "</table>\n",
       "<p>436 rows × 8 columns</p>\n",
       "</div>"
      ],
      "text/plain": [
       "     index                                             source  \\\n",
       "0        0  https://www.maam.ru/detskijsad/slovotvorchestv...   \n",
       "1        1  https://www.maam.ru/detskijsad/slovotvorchestv...   \n",
       "2        2  https://www.maam.ru/detskijsad/slovotvorchestv...   \n",
       "3        3  https://www.maam.ru/detskijsad/slovotvorchestv...   \n",
       "4        4  https://www.maam.ru/detskijsad/slovotvorchestv...   \n",
       "..     ...                                                ...   \n",
       "431    448  https://www.gastronom.ru/recipe/26289/frittata...   \n",
       "432    449  https://www.gastronom.ru/recipe/26289/frittata...   \n",
       "433    450  https://www.gastronom.ru/recipe/26289/frittata...   \n",
       "434    451  https://www.gastronom.ru/recipe/26289/frittata...   \n",
       "435    452  https://www.gastronom.ru/recipe/26289/frittata...   \n",
       "\n",
       "                                                  text      token   pos  \\\n",
       "0    ну она и воручелла у нас всегда на нас ворчит ...         ну  PART   \n",
       "1    ну она и воручелла у нас всегда на нас ворчит ...        она  SPRO   \n",
       "2    ну она и воручелла у нас всегда на нас ворчит ...          и  INTJ   \n",
       "3    ну она и воручелла у нас всегда на нас ворчит ...  воручелла     S   \n",
       "4    ну она и воручелла у нас всегда на нас ворчит ...          у    PR   \n",
       "..                                                 ...        ...   ...   \n",
       "431  фриттата в переводе с ладино  языка сефардских...         но  CONJ   \n",
       "432  фриттата в переводе с ладино  языка сефардских...         не  PART   \n",
       "433  фриттата в переводе с ладино  языка сефардских...  оставляет     V   \n",
       "434  фриттата в переводе с ладино  языка сефардских...   ощущения     S   \n",
       "435  фриттата в переводе с ладино  языка сефардских...    тяжести     S   \n",
       "\n",
       "    pymorphy natasha mystem  \n",
       "0       PRCL    PART   PART  \n",
       "1       NPRO    PRON   SPRO  \n",
       "2       CONJ    PART   CONJ  \n",
       "3       NOUN    VERB      S  \n",
       "4       PREP     ADP     PR  \n",
       "..       ...     ...    ...  \n",
       "431     CONJ   CCONJ   CONJ  \n",
       "432     PRCL    PART   PART  \n",
       "433     VERB    VERB      V  \n",
       "434     NOUN    NOUN      S  \n",
       "435     NOUN    NOUN      S  \n",
       "\n",
       "[436 rows x 8 columns]"
      ]
     },
     "execution_count": 35,
     "metadata": {},
     "output_type": "execute_result"
    }
   ],
   "source": [
    "df"
   ]
  },
  {
   "cell_type": "code",
   "execution_count": 36,
   "id": "dc1e2a22-c1de-42ff-ab2d-1fd65a4c5271",
   "metadata": {},
   "outputs": [],
   "source": [
    "df.to_csv(\"pos.csv\", index=0)"
   ]
  },
  {
   "cell_type": "markdown",
   "id": "7c88aafb-f4f2-4144-8e80-48c1e4dce9b1",
   "metadata": {},
   "source": [
    "Осталось сконвертировать всё в тот же формат, что и у меня. Для этого я смотрел на разницу во множествах, вроде бы ничего не упустил. Изменения всегда в сторону упрощения, соответствие должно быть однозначно"
   ]
  },
  {
   "cell_type": "code",
   "execution_count": 37,
   "id": "9b2d8e5b-a305-4984-b884-052f3e0cad92",
   "metadata": {},
   "outputs": [],
   "source": [
    "convert = {\"NPRO\" : \"SPRO\", \"NOUN\": \"S\", \"PREP\": \"PR\", \"ADP\": \"PR\",\n",
    "              \"VERB\" : \"V\", \"PRON\": \"SPRO\", \"ADJ\" : \"A\", \"ADJF\" : \"A\",\n",
    "              \"ADVB\": \"ADV\", \"CCONJ\": \"CONJ\", \"DET\": \"APRO\", \"SCONJ\": \"CONJ\",\n",
    "              \"INFN\": \"V\", \"PRTS\": \"V\", \"PRCL\": \"PART\", \"AUX\": \"V\", \"PUNCT\": \"\",\n",
    "          \"ADJS\": \"A\", \"GRND\": \"V\", \"NUMR\": \"NUM\", None: \"\", \"PRTF\": \"V\",\n",
    "          \"ANUM\": \"NUM\"}\n",
    "\n",
    "\n",
    "def convert_tag(x):\n",
    "    return x.apply(lambda y: convert[y] if y in convert else y)\n",
    "\n",
    "\n",
    "old_cols = [\"mystem\", \"natasha\", \"pymorphy\"]\n",
    "new_cols = [\"mystem_f\", \"natasha_f\", \"pymorphy_f\"]\n",
    "cross_cols = [j for i in zip(old_cols, new_cols) for j in i]\n",
    "df[new_cols] = df[old_cols].applymap(lambda x: convert[x] if x in convert else x)"
   ]
  },
  {
   "cell_type": "markdown",
   "id": "b82f929b-d0ff-49b5-85b8-933561e76447",
   "metadata": {},
   "source": [
    "Вот теперь я отсекаю всё, что мне не нужно и оставляю только токены и результаты работы теггера, до и после конвертации"
   ]
  },
  {
   "cell_type": "code",
   "execution_count": 38,
   "id": "51acca67-8de6-4508-aba6-fbabebec1bad",
   "metadata": {},
   "outputs": [],
   "source": [
    "df[[\"token\", \"pos\"] + cross_cols].to_csv(\"clean_pos.csv\", index=0)\n",
    "df = pd.read_csv(\"clean_pos.csv\")"
   ]
  },
  {
   "cell_type": "code",
   "execution_count": 39,
   "id": "4923e5ab-7c8b-4c70-bc4f-d0811a09a7dd",
   "metadata": {},
   "outputs": [
    {
     "data": {
      "text/html": [
       "<div>\n",
       "<style scoped>\n",
       "    .dataframe tbody tr th:only-of-type {\n",
       "        vertical-align: middle;\n",
       "    }\n",
       "\n",
       "    .dataframe tbody tr th {\n",
       "        vertical-align: top;\n",
       "    }\n",
       "\n",
       "    .dataframe thead th {\n",
       "        text-align: right;\n",
       "    }\n",
       "</style>\n",
       "<table border=\"1\" class=\"dataframe\">\n",
       "  <thead>\n",
       "    <tr style=\"text-align: right;\">\n",
       "      <th></th>\n",
       "      <th>token</th>\n",
       "      <th>pos</th>\n",
       "      <th>mystem</th>\n",
       "      <th>mystem_f</th>\n",
       "      <th>natasha</th>\n",
       "      <th>natasha_f</th>\n",
       "      <th>pymorphy</th>\n",
       "      <th>pymorphy_f</th>\n",
       "    </tr>\n",
       "  </thead>\n",
       "  <tbody>\n",
       "    <tr>\n",
       "      <th>0</th>\n",
       "      <td>ну</td>\n",
       "      <td>PART</td>\n",
       "      <td>PART</td>\n",
       "      <td>PART</td>\n",
       "      <td>PART</td>\n",
       "      <td>PART</td>\n",
       "      <td>PRCL</td>\n",
       "      <td>PART</td>\n",
       "    </tr>\n",
       "    <tr>\n",
       "      <th>1</th>\n",
       "      <td>она</td>\n",
       "      <td>SPRO</td>\n",
       "      <td>SPRO</td>\n",
       "      <td>SPRO</td>\n",
       "      <td>PRON</td>\n",
       "      <td>SPRO</td>\n",
       "      <td>NPRO</td>\n",
       "      <td>SPRO</td>\n",
       "    </tr>\n",
       "    <tr>\n",
       "      <th>2</th>\n",
       "      <td>и</td>\n",
       "      <td>INTJ</td>\n",
       "      <td>CONJ</td>\n",
       "      <td>CONJ</td>\n",
       "      <td>PART</td>\n",
       "      <td>PART</td>\n",
       "      <td>CONJ</td>\n",
       "      <td>CONJ</td>\n",
       "    </tr>\n",
       "    <tr>\n",
       "      <th>3</th>\n",
       "      <td>воручелла</td>\n",
       "      <td>S</td>\n",
       "      <td>S</td>\n",
       "      <td>S</td>\n",
       "      <td>VERB</td>\n",
       "      <td>V</td>\n",
       "      <td>NOUN</td>\n",
       "      <td>S</td>\n",
       "    </tr>\n",
       "    <tr>\n",
       "      <th>4</th>\n",
       "      <td>у</td>\n",
       "      <td>PR</td>\n",
       "      <td>PR</td>\n",
       "      <td>PR</td>\n",
       "      <td>ADP</td>\n",
       "      <td>PR</td>\n",
       "      <td>PREP</td>\n",
       "      <td>PR</td>\n",
       "    </tr>\n",
       "  </tbody>\n",
       "</table>\n",
       "</div>"
      ],
      "text/plain": [
       "       token   pos mystem mystem_f natasha natasha_f pymorphy pymorphy_f\n",
       "0         ну  PART   PART     PART    PART      PART     PRCL       PART\n",
       "1        она  SPRO   SPRO     SPRO    PRON      SPRO     NPRO       SPRO\n",
       "2          и  INTJ   CONJ     CONJ    PART      PART     CONJ       CONJ\n",
       "3  воручелла     S      S        S    VERB         V     NOUN          S\n",
       "4          у    PR     PR       PR     ADP        PR     PREP         PR"
      ]
     },
     "execution_count": 39,
     "metadata": {},
     "output_type": "execute_result"
    }
   ],
   "source": [
    "df[[\"token\", \"pos\"] + cross_cols].head()"
   ]
  },
  {
   "cell_type": "markdown",
   "id": "9a7c7a60-efa9-44b5-abf2-70401fe9abae",
   "metadata": {},
   "source": [
    "Совсем итог:"
   ]
  },
  {
   "cell_type": "code",
   "execution_count": 40,
   "id": "a5275738-e834-4798-ad23-4b9da97df6fc",
   "metadata": {},
   "outputs": [
    {
     "data": {
      "text/html": [
       "<div>\n",
       "<style scoped>\n",
       "    .dataframe tbody tr th:only-of-type {\n",
       "        vertical-align: middle;\n",
       "    }\n",
       "\n",
       "    .dataframe tbody tr th {\n",
       "        vertical-align: top;\n",
       "    }\n",
       "\n",
       "    .dataframe thead th {\n",
       "        text-align: right;\n",
       "    }\n",
       "</style>\n",
       "<table border=\"1\" class=\"dataframe\">\n",
       "  <thead>\n",
       "    <tr style=\"text-align: right;\">\n",
       "      <th></th>\n",
       "      <th>token</th>\n",
       "      <th>pos</th>\n",
       "      <th>mystem_f</th>\n",
       "      <th>natasha_f</th>\n",
       "      <th>pymorphy_f</th>\n",
       "    </tr>\n",
       "  </thead>\n",
       "  <tbody>\n",
       "    <tr>\n",
       "      <th>0</th>\n",
       "      <td>ну</td>\n",
       "      <td>PART</td>\n",
       "      <td>PART</td>\n",
       "      <td>PART</td>\n",
       "      <td>PART</td>\n",
       "    </tr>\n",
       "    <tr>\n",
       "      <th>1</th>\n",
       "      <td>она</td>\n",
       "      <td>SPRO</td>\n",
       "      <td>SPRO</td>\n",
       "      <td>SPRO</td>\n",
       "      <td>SPRO</td>\n",
       "    </tr>\n",
       "    <tr>\n",
       "      <th>2</th>\n",
       "      <td>и</td>\n",
       "      <td>INTJ</td>\n",
       "      <td>CONJ</td>\n",
       "      <td>PART</td>\n",
       "      <td>CONJ</td>\n",
       "    </tr>\n",
       "    <tr>\n",
       "      <th>3</th>\n",
       "      <td>воручелла</td>\n",
       "      <td>S</td>\n",
       "      <td>S</td>\n",
       "      <td>V</td>\n",
       "      <td>S</td>\n",
       "    </tr>\n",
       "    <tr>\n",
       "      <th>4</th>\n",
       "      <td>у</td>\n",
       "      <td>PR</td>\n",
       "      <td>PR</td>\n",
       "      <td>PR</td>\n",
       "      <td>PR</td>\n",
       "    </tr>\n",
       "    <tr>\n",
       "      <th>5</th>\n",
       "      <td>нас</td>\n",
       "      <td>SPRO</td>\n",
       "      <td>SPRO</td>\n",
       "      <td>SPRO</td>\n",
       "      <td>SPRO</td>\n",
       "    </tr>\n",
       "    <tr>\n",
       "      <th>6</th>\n",
       "      <td>всегда</td>\n",
       "      <td>ADV</td>\n",
       "      <td>ADVPRO</td>\n",
       "      <td>ADV</td>\n",
       "      <td>ADV</td>\n",
       "    </tr>\n",
       "    <tr>\n",
       "      <th>7</th>\n",
       "      <td>на</td>\n",
       "      <td>PR</td>\n",
       "      <td>PR</td>\n",
       "      <td>PR</td>\n",
       "      <td>PR</td>\n",
       "    </tr>\n",
       "    <tr>\n",
       "      <th>8</th>\n",
       "      <td>нас</td>\n",
       "      <td>SPRO</td>\n",
       "      <td>SPRO</td>\n",
       "      <td>SPRO</td>\n",
       "      <td>SPRO</td>\n",
       "    </tr>\n",
       "    <tr>\n",
       "      <th>9</th>\n",
       "      <td>ворчит</td>\n",
       "      <td>V</td>\n",
       "      <td>V</td>\n",
       "      <td>S</td>\n",
       "      <td>V</td>\n",
       "    </tr>\n",
       "  </tbody>\n",
       "</table>\n",
       "</div>"
      ],
      "text/plain": [
       "       token   pos mystem_f natasha_f pymorphy_f\n",
       "0         ну  PART     PART      PART       PART\n",
       "1        она  SPRO     SPRO      SPRO       SPRO\n",
       "2          и  INTJ     CONJ      PART       CONJ\n",
       "3  воручелла     S        S         V          S\n",
       "4          у    PR       PR        PR         PR\n",
       "5        нас  SPRO     SPRO      SPRO       SPRO\n",
       "6     всегда   ADV   ADVPRO       ADV        ADV\n",
       "7         на    PR       PR        PR         PR\n",
       "8        нас  SPRO     SPRO      SPRO       SPRO\n",
       "9     ворчит     V        V         S          V"
      ]
     },
     "execution_count": 40,
     "metadata": {},
     "output_type": "execute_result"
    }
   ],
   "source": [
    "df[[\"token\", \"pos\"] + new_cols].head(10)"
   ]
  },
  {
   "cell_type": "markdown",
   "id": "f2191c79-696b-47da-b7ae-383c384223b0",
   "metadata": {},
   "source": [
    "### 3. Сравнение\n",
    "3. (2 балла) Затем оценим accuracy для каждого теггера. \n",
    "Заметьте, что в разных системах имена тегов и части речи  могут отличаться, – вам надо будет свести это всё к единому стандарту с помощью какой-то функции-конвертера и сравнить с вашим размеченным руками эталоном - тоже с помощью какого-то кода или функции."
   ]
  },
  {
   "cell_type": "markdown",
   "id": "da8b754f-2996-4207-9275-c7dd72bf8cc0",
   "metadata": {},
   "source": [
    "Сравнивать можно сразу колонками, попарно. А сконвертировал я в предыдущем пункте, поэтому что мне так показалось логичнее"
   ]
  },
  {
   "cell_type": "code",
   "execution_count": 41,
   "id": "9f47ecd6-90a8-4efa-83f2-7a4fd0fa9b6f",
   "metadata": {},
   "outputs": [],
   "source": [
    "from sklearn.metrics import accuracy_score"
   ]
  },
  {
   "cell_type": "code",
   "execution_count": 42,
   "id": "9287b557-cd53-44c4-8e0f-d887adad2443",
   "metadata": {},
   "outputs": [
    {
     "name": "stdout",
     "output_type": "stream",
     "text": [
      "mystem accuracy - 0.8899082568807339\n",
      "natasha accuracy - 0.7844036697247706\n",
      "pymorphy accuracy - 0.841743119266055\n"
     ]
    }
   ],
   "source": [
    "for pos_tagger in [\"mystem_f\", \"natasha_f\", \"pymorphy_f\"]:\n",
    "    print(f\"{pos_tagger[:-2]} accuracy - {accuracy_score(df.pos, df[pos_tagger])}\")"
   ]
  },
  {
   "cell_type": "markdown",
   "id": "b260a817-af1d-451b-bceb-cdd45f2acaab",
   "metadata": {},
   "source": [
    "Итого вышло, что mystem самый лучший, но это и неудивительно"
   ]
  },
  {
   "cell_type": "markdown",
   "id": "148aefcf-7347-4778-8147-2f50dcd2434c",
   "metadata": {},
   "source": [
    "### 4. Имплементация\n",
    "4. (4 балла) Дальше вам нужно взять лучший теггер для русского языка и с его помощью написать функцию (chunker), \n",
    "которая выделяет из размеченного текста 3 типа n-грамм, соответствующих какому-то шаблону (к примеру не + какая-то часть речи или NP или сущ.+ наречие и тд) \n",
    "В предыдущем дз многие из вас справедливо заметили, что если бы мы могли класть в словарь не только отдельные слова, но и словосочетания, \n",
    "то программа работала бы лучше. Предложите 3 шаблона (слово + POS-тег / POS-тег + POS-тег) запись которых в словарь, по вашему мнению, \n",
    "улучшила бы качество работы программы из предыдущей домашки. \n",
    "Балл за объяснение того, почему именно эти группы вы взяли, балл за создание такого рода чанкера, балл за  за встраивание функции в программу из предыдущей домашки, \n",
    "балл за сравнение качества предсказания тональности с улучшением и без (это бонусный одиннадцатый балл)."
   ]
  },
  {
   "cell_type": "markdown",
   "id": "19b9ab93-9b80-4ff6-baa1-4344b6de5106",
   "metadata": {},
   "source": [
    "В качестве паттернов, который могут быть полезны, я взял, очевидно, сочетания с отрицательной частицей. Поскольку она всё-таки довольно уникальна, я выделил её отдельно, думаю, что это не критично, хотя в идеале её бы надо отделять и в приставках. Учитываю, если следующий токен будет наречием, прилагательным или глаголом, считаю, что это таким образом отражает их скор в обратную сторону. Затем можно считать, что слово после сочинительного союза имеет большую важность по сравнению с самым коньюнктом, я не уверен, что это так, это просто предположение. Но с другой стороны бытует мнение, что в русском релевантная информация каким-то образом выделяется. С точки зрения просодии, это верно скорее про финальное слово, чем про начальное. Наконец, можно считать, что частицы стоящие после глаголов (же, будь, ли) как бы усиливают его важность, вопрос лишь насколько, ну тут надо покрутить параметры в любом случае."
   ]
  },
  {
   "cell_type": "markdown",
   "id": "969525f2-207d-41a9-90a0-5f652c6cda6e",
   "metadata": {},
   "source": [
    "Для этого я написал чанкер, который делает список списков, каждый элемент - 1 или 2-грамма, если это 2-грамма, то третьим элементом я специально записываю множитель скора, на него я потом домножу каждый элемент чанка и таким образом учту их более точно."
   ]
  },
  {
   "cell_type": "markdown",
   "id": "b3b661d3-3453-4d1f-80e6-25eaa82d6597",
   "metadata": {},
   "source": [
    "Сперва в любом случае нужно обработать весь текст обзора, опять же, из-за майстема, так что придётся заново лемматизировать. Для этого я выделил код сверху в отдельную функцию, которая вернёт списочек в формате словаря. Так во-первых удобнее глазу, не нужно думать, за что отвечает какой-то индекс, во-вторых это быстрее, а скорость потом пригодится. Старался написать и максимально коротко, и оптимально по времени, но комментарии везде имеются"
   ]
  },
  {
   "cell_type": "code",
   "execution_count": 43,
   "id": "6eda8e02-47fd-4b1a-b5cc-1ff4209e3c42",
   "metadata": {},
   "outputs": [],
   "source": [
    "def get_token_pos(text):\n",
    "    \"\"\"Берёт текст, обрабатывает его майстемом, возвращает пару лемма-часть речи, словарём для читаемости\"\"\"\n",
    "    with Mystem() as m:\n",
    "        ana = m.analyze(text)\n",
    "        token_pos = []\n",
    "        for word in ana:\n",
    "            if 'analysis' in word and word[\"analysis\"]:\n",
    "                gr = word['analysis'][0]['gr']\n",
    "                pos = gr.split('=')[0].split(',')[0]\n",
    "                token_pos.append({\"token\": morph.parse(word['text'])[0].normal_form, \"pos\": pos})\n",
    "        return token_pos"
   ]
  },
  {
   "cell_type": "markdown",
   "id": "0767932b-5283-4c3f-a55e-2d430860f5cb",
   "metadata": {},
   "source": [
    "Строго говоря можно было бы анализ тональность сделать одной сложной функцией и пройтись по леммам один раз, записывать не чанк, а сразу скор, я думаю, понятно, как это реализовать. Итерируюсь таким же образом, обращаюсь точно так же к i-тому токену/позу, но не добавляю в список, а прибавляю скор, домножаю на скор чанка. Но поскольку в задании просили именно написать функцию, которая на эти чанки разбивает, я её и сделал, но надо понимать, что это неэффективно"
   ]
  },
  {
   "cell_type": "code",
   "execution_count": 44,
   "id": "c779a678-230e-4926-84bc-225b77e63aee",
   "metadata": {},
   "outputs": [],
   "source": [
    "def get_chunks(text):\n",
    "    \"\"\"Берёт исходный текст, извлекает пары токен-часть речи, выделяет из них\n",
    "    чанки в соответствии с паттернами, возвращает их словари токены-вес чанка\"\"\"\n",
    "    ngrams = []\n",
    "    i = 0\n",
    "\n",
    "    # сперва обрабатываю текст, привожу к нижнему регистру без пунктуации\n",
    "    clean_text = \" \".join(tokenizer.tokenize(text))\n",
    "    # пользуюсь ранней функцией, выделяю часть речи\n",
    "    token_pos = get_token_pos(clean_text)\n",
    "\n",
    "    while i < len(token_pos):\n",
    "        # пока не кончится исходный список лемм\n",
    "        # в чанке всегда лежит сам токен, если он не был скипнут, но может быть скипнут\n",
    "        chunk = {\"tokens\": [token_pos[i][\"token\"]],\"weight\": 1}\n",
    "        # обрабатываю первый паттерн с отрицанием\n",
    "        if i < len(token_pos)-1:  # при условии, что это не конец списка, иначе ошибка, очевидно\n",
    "            # проверяю двойным условием свои паттерны, точно так, как и описывал, должно быть понятно\n",
    "            if (token_pos[i][\"token\"] == \"не\") and (token_pos[i+1][\"pos\"] in [\"A\", \"ADV\", \"V\"]):\n",
    "                chunk[\"weight\"] = -1  # добавляю вес чанка\n",
    "\n",
    "            # далее аналогично для двух других паттернов\n",
    "            elif token_pos[i][\"pos\"] == \"CONJ\":\n",
    "                chunk[\"weight\"] = 1.5\n",
    "            elif (token_pos[i][\"pos\"] == \"V\") and (token_pos[i+1][\"pos\"] == \"PART\"):\n",
    "                chunk[\"weight\"] = 5\n",
    "            # не смог сократить использование elif, match/case тоже довольно громоздкий\n",
    "\n",
    "            # тут очень удобно, смотрю на вес чанка, если он не 1, как при одном слове, то добавляю\n",
    "            # следующее слово в токены, увеличиваю счётчик и пропускаю добавленное слово\n",
    "            if chunk[\"weight\"] != 1:\n",
    "                chunk[\"tokens\"].append(token_pos[i+1][\"token\"])\n",
    "                i += 1\n",
    "\n",
    "        # добавляем чанк в список нграм, итерируюсь обыкновенно по i\n",
    "        ngrams.append(chunk)\n",
    "        i += 1\n",
    "\n",
    "    return ngrams"
   ]
  },
  {
   "cell_type": "markdown",
   "id": "fbfff626-e21e-4c52-8681-e723337decfa",
   "metadata": {},
   "source": [
    "Вот, как это работает на пробном примере"
   ]
  },
  {
   "cell_type": "code",
   "execution_count": 45,
   "id": "c7365b83-9b80-42d0-9ca7-9e9516bb48fb",
   "metadata": {},
   "outputs": [],
   "source": [
    "text = \"Алкоголь в напитке почти3 не! чувствуется. Также не чувствуется горечи от пива, а бы даже отнесла напиток не к пивному, а больше к коктейлям, и даже подумала бы не.\""
   ]
  },
  {
   "cell_type": "code",
   "execution_count": 46,
   "id": "195a523d-581d-4f35-8716-52043b00512c",
   "metadata": {},
   "outputs": [
    {
     "data": {
      "text/plain": [
       "[{'tokens': ['алкоголь'], 'weight': 1},\n",
       " {'tokens': ['в'], 'weight': 1},\n",
       " {'tokens': ['напиток'], 'weight': 1},\n",
       " {'tokens': ['почти'], 'weight': 1},\n",
       " {'tokens': ['не', 'чувствоваться'], 'weight': -1},\n",
       " {'tokens': ['также'], 'weight': 1},\n",
       " {'tokens': ['не', 'чувствоваться'], 'weight': -1},\n",
       " {'tokens': ['горечь'], 'weight': 1},\n",
       " {'tokens': ['от'], 'weight': 1},\n",
       " {'tokens': ['пиво'], 'weight': 1},\n",
       " {'tokens': ['а', 'бы'], 'weight': 1.5},\n",
       " {'tokens': ['даже'], 'weight': 1},\n",
       " {'tokens': ['отнести'], 'weight': 1},\n",
       " {'tokens': ['напиток'], 'weight': 1},\n",
       " {'tokens': ['не'], 'weight': 1},\n",
       " {'tokens': ['к'], 'weight': 1},\n",
       " {'tokens': ['пивной'], 'weight': 1},\n",
       " {'tokens': ['а', 'большой'], 'weight': 1.5},\n",
       " {'tokens': ['к'], 'weight': 1},\n",
       " {'tokens': ['коктейль'], 'weight': 1},\n",
       " {'tokens': ['и', 'даже'], 'weight': 1.5},\n",
       " {'tokens': ['подумать', 'бы'], 'weight': 5},\n",
       " {'tokens': ['не'], 'weight': 1}]"
      ]
     },
     "execution_count": 46,
     "metadata": {},
     "output_type": "execute_result"
    }
   ],
   "source": [
    "get_chunks(text)"
   ]
  },
  {
   "cell_type": "markdown",
   "id": "9dc3324a-5af4-450e-a14f-3e2712ab3543",
   "metadata": {},
   "source": [
    "Как видно, всё отделяется, веса назначаются, должно работать"
   ]
  },
  {
   "cell_type": "markdown",
   "id": "a62dcca4-b715-473e-b520-2621a302651f",
   "metadata": {},
   "source": [
    "Следующий апргейд, который я хотел сделать, касается списка хороших и плохих слов. Чтобы сделать код почище, можно объединить их в один словарь, просто приписать знак соответствющим весам, правда тогда нужно сделать функцию весов для слов нечётной, благо это несложно, подробности на графике"
   ]
  },
  {
   "cell_type": "code",
   "execution_count": 47,
   "id": "66e5c827-c8ae-49f3-857a-3b16da4b8ff5",
   "metadata": {},
   "outputs": [],
   "source": [
    "def get_words(X_train, y_train):\n",
    "    # слова берутся для тренировочной подвыборки\n",
    "\n",
    "    # сперва сливаю X и y обратно, чтобы отделить хорошие и плохие отзывы\n",
    "    concatted = pd.concat([X_train, y_train], axis=1)\n",
    "    # беру колонку с леммами\n",
    "    good_words = concatted[concatted.sentiment == 1].processed\n",
    "    bad_words = concatted[concatted.sentiment == -1].processed\n",
    "\n",
    "    # суммирую, чтобы получить один большой массив, беру каунтер\n",
    "    good = Counter(good_words.sum())\n",
    "    bad = Counter(bad_words.sum())\n",
    "\n",
    "    # беру разность двух множеств и заново заполняю каунтер,\n",
    "    # при обычной разности будут вычитаться именно каунты, а я хочу их сохранить\n",
    "    bad_words = Counter({k: -bad[k] for k in set(bad) - set(good)})\n",
    "    good_words = Counter({k: good[k] for k in set(good) - set(bad)})\n",
    "\n",
    "    sent_dict = Counter(good_words, **bad_words)\n",
    "\n",
    "    return sent_dict"
   ]
  },
  {
   "cell_type": "code",
   "execution_count": 48,
   "id": "2297443b-81f4-4a75-8e07-56471878b5fe",
   "metadata": {},
   "outputs": [],
   "source": [
    "%matplotlib inline\n",
    "import matplotlib as mpl\n",
    "import matplotlib.pyplot as plt\n",
    "import seaborn as sns\n",
    "\n",
    "# код для красивых графиков\n",
    "%config InlineBackend.figure_format = 'retina'\n",
    "plt.rcParams['figure.figsize'] = 8, 5\n",
    "plt.rcParams['font.size'] = 12\n",
    "mpl.rcParams['savefig.format'] = 'pdf'\n",
    "sns.set_style('darkgrid')"
   ]
  },
  {
   "cell_type": "code",
   "execution_count": 49,
   "id": "b8582afb-fbf2-4571-ba67-1744a2265721",
   "metadata": {},
   "outputs": [],
   "source": [
    "def piece(x):\n",
    "    # функция весов из дз1, здесь это только правая ветвь\n",
    "    return 100 * (1/(x**2 + math.e**(-x+11)))"
   ]
  },
  {
   "cell_type": "code",
   "execution_count": 50,
   "id": "78f751c5-a7ca-4b09-8ff9-a7c1b65fc320",
   "metadata": {},
   "outputs": [],
   "source": [
    "def weight(x):\n",
    "    # новая функция весов, правая ветвь плюс её отражение по двум осям\n",
    "    return piece(x) if x > 0 else -piece(-x)"
   ]
  },
  {
   "cell_type": "code",
   "execution_count": 51,
   "id": "eb264481-0ffc-4e0e-b620-8160667a2090",
   "metadata": {},
   "outputs": [
    {
     "data": {
      "image/png": "[encoded data removed]",
      "text/plain": [
       "<Figure size 1280x400 with 1 Axes>"
      ]
     },
     "metadata": {
      "image/png": {
       "height": 377,
       "width": 1042
      }
     },
     "output_type": "display_data"
    }
   ],
   "source": [
    "import math\n",
    "import numpy as np\n",
    "from matplotlib.pyplot import figure\n",
    "from collections import Counter\n",
    "from functools import reduce\n",
    "\n",
    "figure(figsize=(16, 5), dpi=80)\n",
    "x_range = range(-30, 30)\n",
    "x_arange = np.arange(-30, 30, 0.01)\n",
    "\n",
    "plt.scatter(x_range, [weight(i) for i in x_range], color=\"indigo\",\n",
    "            label=r\"\"\"$\\pm{\\frac{100}{x^2 + e^{\\pm{x}+11}}}$\"\"\")\n",
    "plt.plot(x_arange, [weight(i) for i in x_arange], color=\"indigo\", alpha=0.2)\n",
    "plt.legend()\n",
    "plt.axhline(y=0, color='k', alpha=0.2)\n",
    "plt.axvline(x=0, color='k', alpha=0.2)\n",
    "plt.suptitle(\"Adjusted weight function\")\n",
    "plt.show()"
   ]
  },
  {
   "cell_type": "markdown",
   "id": "fff2c12e-14ce-49f1-a0aa-5ee74e058210",
   "metadata": {},
   "source": [
    "И уже теперь можно применять подправленную функцию"
   ]
  },
  {
   "cell_type": "code",
   "execution_count": 52,
   "id": "fc1274e9-a68d-41c2-b5ad-56534ebe5b71",
   "metadata": {},
   "outputs": [],
   "source": [
    "def sign(num):\n",
    "    return -1 if num <= 0 else 1"
   ]
  },
  {
   "cell_type": "code",
   "execution_count": 53,
   "id": "ff0d9ef9-8fef-41a8-ba50-40b2639e4dc4",
   "metadata": {},
   "outputs": [],
   "source": [
    "def weighted_sentiment_prediction(lemmas, sents):\n",
    "    score = 0\n",
    "\n",
    "    for lemma in lemmas:\n",
    "        if lemma in sents:\n",
    "            score += weight(sents[lemma])\n",
    "\n",
    "    return sign(score)"
   ]
  },
  {
   "cell_type": "code",
   "execution_count": 54,
   "id": "6511d1ac-96b6-4840-b672-87fc89e4944c",
   "metadata": {},
   "outputs": [],
   "source": [
    "def w_pattern_sentiment_prediction(chunks, sents):\n",
    "    score = 0\n",
    "\n",
    "    def get_score(x):\n",
    "        return weight(sents[x]) if x in sents else 0\n",
    "\n",
    "    for chunk in chunks:\n",
    "        # суммирую веса каждого слова в токенах, проверяя его в общем словаре\n",
    "        # тональностей, домножаю на вес чанка, прибавляю к скору\n",
    "        score += sum(map(lambda x: get_score(x), chunk[\"tokens\"]))*chunk[\"weight\"]\n",
    "\n",
    "    return sign(score)"
   ]
  },
  {
   "cell_type": "markdown",
   "id": "ed78963f-d0fa-446d-a179-1aead38a1113",
   "metadata": {},
   "source": [
    "Теперь осталось скачать данные, превратить строку в список и начать проверять"
   ]
  },
  {
   "cell_type": "code",
   "execution_count": 55,
   "id": "3e651f80-b3d2-44a3-a3e8-9a09faf86b6d",
   "metadata": {},
   "outputs": [],
   "source": [
    "import ast\n",
    "from sklearn.model_selection import train_test_split\n",
    "\n",
    "data = pd.read_csv(\"beer_data.csv\")\n",
    "data.processed = data.processed.apply(lambda s: ast.literal_eval(s))"
   ]
  },
  {
   "cell_type": "markdown",
   "id": "47423a51-0857-4a83-927c-eca8ec707b7e",
   "metadata": {},
   "source": [
    "Проверять буду на точно той же выборке, что и раньше"
   ]
  },
  {
   "cell_type": "code",
   "execution_count": 56,
   "id": "1fa52b5c-2510-46f9-9dcd-54820d01400a",
   "metadata": {},
   "outputs": [],
   "source": [
    "y = data.sentiment\n",
    "X = data.drop(\"sentiment\", axis=1)\n",
    "X_train, X_test, y_train, y_test = train_test_split(X, y, random_state=671, shuffle=True, test_size=.3)\n",
    "sent_dict = get_words(X_train, y_train)"
   ]
  },
  {
   "cell_type": "markdown",
   "id": "840d938e-ce8d-46f3-8411-4216629aadd0",
   "metadata": {},
   "source": [
    "Мне нужны только тестовые чанки, модель ничему не учится, как я уже до этого писал в дз1, разве что словарь составляется на трейне. Это долгий процесс, так что придётся подождать"
   ]
  },
  {
   "cell_type": "code",
   "execution_count": null,
   "id": "51367651-e99d-4f8f-960b-00824abe2b0e",
   "metadata": {},
   "outputs": [
    {
     "name": "stderr",
     "output_type": "stream",
     "text": [
      " 83%|██████████████████████████████████████████████████████████████████              | 302/366 [04:16<00:52,  1.21it/s]"
     ]
    }
   ],
   "source": [
    "from sklearn.metrics import roc_auc_score, accuracy_score\n",
    "from tqdm import tqdm\n",
    "\n",
    "tqdm.pandas()\n",
    "test_chunks = X_test.text.progress_apply(get_chunks)"
   ]
  },
  {
   "cell_type": "markdown",
   "id": "261b3e4f-6e2e-4ad7-8c1e-735f78867b44",
   "metadata": {},
   "source": [
    "И осталось только посмотреть"
   ]
  },
  {
   "cell_type": "code",
   "execution_count": null,
   "id": "7808ecc9-cf49-41f3-b737-ff25ddeae2da",
   "metadata": {},
   "outputs": [],
   "source": [
    "y_pred = X_test.processed.apply(lambda x: weighted_sentiment_prediction(x, sent_dict))\n",
    "print(\"До\")\n",
    "print(\"accuracy\", accuracy_score(y_pred, y_test))\n",
    "print(\"roc\", roc_auc_score(y_pred, y_test))"
   ]
  },
  {
   "cell_type": "code",
   "execution_count": null,
   "id": "8a996803-c198-4e70-96dc-339d69309786",
   "metadata": {},
   "outputs": [],
   "source": [
    "y_pred = test_chunks.apply(lambda x: w_pattern_sentiment_prediction(x, sent_dict))\n",
    "print(\"После\")\n",
    "print(\"accuracy\", accuracy_score(y_pred, y_test))\n",
    "print(\"roc\", roc_auc_score(y_pred, y_test))"
   ]
  },
  {
   "cell_type": "markdown",
   "id": "d66426c8-b28f-439d-b7bd-6514f45aff3e",
   "metadata": {},
   "source": [
    "Как видно, что-то где-то работает, стало чуть-чуть получше. Но всё равно учитывается только малая доля биграмм, существенного прироста нет. Не говоря уже о том, что я должен был учесть вообще все возможные биграммы в дз1, потому что и в tfidf, и в w2v я их все брал, так что это всё было довольно бесполезно ("
   ]
  }
 ],
 "metadata": {
  "kernelspec": {
   "display_name": "Python 3 (ipykernel)",
   "language": "python",
   "name": "python3"
  },
  "language_info": {
   "codemirror_mode": {
    "name": "ipython",
    "version": 3
   },
   "file_extension": ".py",
   "mimetype": "text/x-python",
   "name": "python",
   "nbconvert_exporter": "python",
   "pygments_lexer": "ipython3",
   "version": "3.10.4"
  }
 },
 "nbformat": 4,
 "nbformat_minor": 5
}
