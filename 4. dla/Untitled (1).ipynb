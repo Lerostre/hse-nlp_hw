{
 "cells": [
  {
   "cell_type": "markdown",
   "id": "eceb28de-4584-4fe9-90ee-5c3059c87232",
   "metadata": {},
   "source": [
    "# Домашнее задание 2. Сравнение систем автоматического распознавания речи.\n",
    "\n",
    "В этом задании вам нужно будет сравнить автоматические субтитры YouTube с другими системами.\n",
    "Можно использовать любой способ скачивания данных, который вам удобен.\n",
    "\n",
    "Скорее всего, вам будет удобнее работать в Google Colab.\n",
    "\n",
    "### Формат сдачи задания:\n",
    "\n",
    "Jupyter-notebook на гитхабе.\n",
    "\n",
    "### Дедлайн: \n",
    "\n",
    "### Описание задания:\n",
    "\n",
    "#### Загрузка видео\n",
    "\n",
    "1. Выберите любое видео на YouTube, где есть речь (на любом известном вам языке) \n",
    "и автоматические субтитры - при выборе языка субтитров будет написано \"создано автоматически\".\n",
    "Пример видео с автоматическими субтитрами https://www.youtube.com/watch?v=f3mhds1z3rE\n",
    "<br/>Скачайте звук видео и субтитры любым удобным способом. Рекомендованный способ - [youtube-dl](https://github.com/ytdl-org/youtube-dl).\n",
    "Вы также можете воспользоваться расширениями для браузера и т.п. - напишите в тетрадке, как скачаны файлы.\n",
    "Сами файлы добавьте в ваш репозиторий с домашкой. - максимум 2 балла при использовании youtube-dl или другой библиотеки"
   ]
  },
  {
   "cell_type": "markdown",
   "id": "4714f696-823c-4b00-950f-339644e4b1a5",
   "metadata": {},
   "source": [
    "У меня нет сил искать что-то интересное, поэтому я взял ещё одно видео с котами... Ну оно неплохое, и на французском. А то на английском ютуб вообще не ошибается, так хоть немного интересно\n",
    "\n",
    "Я возьму `pytube`, потому что он ставится через пип, у меня нет прав, чтобы делать через curl. Звук можно достать через библиотеку, а текст через bs4, если парсить xml. Можно и json конечно, но он сложнее. Всё закинул в отедльные файлики, но там в любом случае быстро"
   ]
  },
  {
   "cell_type": "code",
   "execution_count": 2,
   "id": "70cff6ed-7a1d-470f-b3bc-7288653fbe7b",
   "metadata": {
    "tags": []
   },
   "outputs": [],
   "source": [
    "!pip install -q pytube"
   ]
  },
  {
   "cell_type": "code",
   "execution_count": 72,
   "id": "03093229-dd28-453a-82d7-e02d4c82ccac",
   "metadata": {
    "tags": []
   },
   "outputs": [
    {
     "name": "stderr",
     "output_type": "stream",
     "text": [
      "/tmp/ipykernel_227/2366014069.py:7: DeprecationWarning: Call to deprecated function all (This object can be treated as a list, all() is useless).\n",
      "  sound = yt.streams.filter(only_audio=True).all()[0]\n",
      "/home/user/conda/lib/python3.9/site-packages/bs4/builder/__init__.py:545: XMLParsedAsHTMLWarning: It looks like you're parsing an XML document using an HTML parser. If this really is an HTML document (maybe it's XHTML?), you can ignore or filter this warning. If it's XML, you should know that using an XML parser will be more reliable. To parse this document as XML, make sure you have the lxml package installed, and pass the keyword argument `features=\"xml\"` into the BeautifulSoup constructor.\n",
      "  warnings.warn(\n"
     ]
    }
   ],
   "source": [
    "from pytube import YouTube\n",
    "from bs4 import BeautifulSoup\n",
    "import pandas as pd\n",
    "\n",
    "yt = YouTube('https://www.youtube.com/watch?v=Z0QvSQ2sgp4')\n",
    "\n",
    "sound = yt.streams.filter(only_audio=True).all()[0]\n",
    "sound.download(filename=\"sound.mp4\")\n",
    "\n",
    "captions = yt.captions[\"a.fr\"]\n",
    "soup = BeautifulSoup(captions.xml_captions, 'lxml')\n",
    "youtube_audio = [p.text for p in soup.find_all(\"p\") if p.text != \"\\n\"]\n",
    "youtube_audio = \" \".join(youtube_audio)\n",
    "pd.to_pickle(youtube_audio, \"youtube_audio.pkl\")"
   ]
  },
  {
   "cell_type": "code",
   "execution_count": 4,
   "id": "0f6b4f6c-4f4f-40ab-8a7a-28acca6013a4",
   "metadata": {
    "tags": []
   },
   "outputs": [
    {
     "name": "stderr",
     "output_type": "stream",
     "text": [
      "ffmpeg version 4.4.2-0ubuntu0.22.04.1 Copyright (c) 2000-2021 the FFmpeg developers\n",
      "  built with gcc 11 (Ubuntu 11.2.0-19ubuntu1)\n",
      "  configuration: --prefix=/usr --extra-version=0ubuntu0.22.04.1 --toolchain=hardened --libdir=/usr/lib/x86_64-linux-gnu --incdir=/usr/include/x86_64-linux-gnu --arch=amd64 --enable-gpl --disable-stripping --enable-gnutls --enable-ladspa --enable-libaom --enable-libass --enable-libbluray --enable-libbs2b --enable-libcaca --enable-libcdio --enable-libcodec2 --enable-libdav1d --enable-libflite --enable-libfontconfig --enable-libfreetype --enable-libfribidi --enable-libgme --enable-libgsm --enable-libjack --enable-libmp3lame --enable-libmysofa --enable-libopenjpeg --enable-libopenmpt --enable-libopus --enable-libpulse --enable-librabbitmq --enable-librubberband --enable-libshine --enable-libsnappy --enable-libsoxr --enable-libspeex --enable-libsrt --enable-libssh --enable-libtheora --enable-libtwolame --enable-libvidstab --enable-libvorbis --enable-libvpx --enable-libwebp --enable-libx265 --enable-libxml2 --enable-libxvid --enable-libzimg --enable-libzmq --enable-libzvbi --enable-lv2 --enable-omx --enable-openal --enable-opencl --enable-opengl --enable-sdl2 --enable-pocketsphinx --enable-librsvg --enable-libmfx --enable-libdc1394 --enable-libdrm --enable-libiec61883 --enable-chromaprint --enable-frei0r --enable-libx264 --enable-shared\n",
      "  libavutil      56. 70.100 / 56. 70.100\n",
      "  libavcodec     58.134.100 / 58.134.100\n",
      "  libavformat    58. 76.100 / 58. 76.100\n",
      "  libavdevice    58. 13.100 / 58. 13.100\n",
      "  libavfilter     7.110.100 /  7.110.100\n",
      "  libswscale      5.  9.100 /  5.  9.100\n",
      "  libswresample   3.  9.100 /  3.  9.100\n",
      "  libpostproc    55.  9.100 / 55.  9.100\n",
      "Input #0, mov,mp4,m4a,3gp,3g2,mj2, from 'sound.mp4':\n",
      "  Metadata:\n",
      "    major_brand     : dash\n",
      "    minor_version   : 0\n",
      "    compatible_brands: iso6mp41\n",
      "    creation_time   : 2023-11-29T20:29:20.000000Z\n",
      "  Duration: 00:02:19.83, start: 0.000000, bitrate: 48 kb/s\n",
      "  Stream #0:0(und): Audio: aac (HE-AAC) (mp4a / 0x6134706D), 44100 Hz, stereo, fltp, 3 kb/s (default)\n",
      "    Metadata:\n",
      "      creation_time   : 2023-11-29T20:29:20.000000Z\n",
      "      handler_name    : ISO Media file produced by Google Inc.\n",
      "      vendor_id       : [0][0][0][0]\n",
      "File 'sound.wav' already exists. Overwrite? [y/N] Not overwriting - exiting\n"
     ]
    },
    {
     "data": {
      "text/plain": [
       "1"
      ]
     },
     "execution_count": 4,
     "metadata": {},
     "output_type": "execute_result"
    }
   ],
   "source": [
    "import subprocess\n",
    "\n",
    "command = \"ffmpeg -i sound.mp4 -ab 160k -ac 2 -ar 44100 -vn sound.wav\"\n",
    "subprocess.call(command, shell=True)"
   ]
  },
  {
   "cell_type": "markdown",
   "id": "94177fc7-9b6c-4311-a096-544e2313038a",
   "metadata": {
    "tags": []
   },
   "source": [
    "#### Прогон ASR\n",
    "\n",
    "2. Выберите 3 системы ASR и примените их к вашему файлу со звуком. Используйте разные библиотеки -\n",
    "те, которые упоминались в семинаре, или любые другие. За использование 2 разных библиотек - 4 балла.\n",
    "Если вы прогоняете через 3 системы с использованием одной библиотеки (например, SpeechRecognition) - это 2 балла."
   ]
  },
  {
   "cell_type": "markdown",
   "id": "6333a261-2ffc-4d8c-88bf-0ed9c2bc21c7",
   "metadata": {},
   "source": [
    "Я если честно не знаю, что считать системой ASR, время как обычно 21:55, но в тетрадке к занятию полно разных методов это здесь, в том числе с разными библиотеками, так что поехали"
   ]
  },
  {
   "cell_type": "markdown",
   "id": "27886fda-63fb-495c-8bcf-e487314a9d41",
   "metadata": {},
   "source": [
    "##### 1. `Whisper`"
   ]
  },
  {
   "cell_type": "markdown",
   "id": "43cf9c61-0e4c-4e39-ab9e-d3150757958e",
   "metadata": {},
   "source": [
    "Это делается довольно просто, там уже есть свой класс и мультиязычная моделька"
   ]
  },
  {
   "cell_type": "code",
   "execution_count": 5,
   "id": "757e69a2-2393-48e2-af8b-3f3634ca5eda",
   "metadata": {
    "tags": []
   },
   "outputs": [],
   "source": [
    "!pip install -q SpeechRecognition pocketsphinx\n",
    "!pip install -q git+https://github.com/openai/whisper.git soundfile"
   ]
  },
  {
   "cell_type": "code",
   "execution_count": 6,
   "id": "2d47a1c2-d63c-44b0-b531-2bd430a0d5dc",
   "metadata": {
    "tags": []
   },
   "outputs": [],
   "source": [
    "import whisper\n",
    "\n",
    "model = whisper.load_model(\"base\")\n",
    "result = model.transcribe(\"sound.mp4\")\n",
    "whisper_audio = result[\"text\"]"
   ]
  },
  {
   "cell_type": "code",
   "execution_count": 82,
   "id": "f5ca36c8-10ce-40a8-8d60-279c4251dc48",
   "metadata": {
    "tags": []
   },
   "outputs": [
    {
     "data": {
      "text/plain": [
       "\" On dit toujours que les chats sont indépendants, autonomes, voire qu'ils en ont que pour leur gueul\""
      ]
     },
     "execution_count": 82,
     "metadata": {},
     "output_type": "execute_result"
    }
   ],
   "source": [
    "whisper_audio[:100]"
   ]
  },
  {
   "cell_type": "markdown",
   "id": "33d5c5da-4bac-4ec8-be4e-7ae6b99c74d6",
   "metadata": {},
   "source": [
    "##### 2. `Vosk`"
   ]
  },
  {
   "cell_type": "markdown",
   "id": "89ca1cff-787f-40f1-90ad-24cdee171382",
   "metadata": {},
   "source": [
    "Тут уже не так просто, потому что нормально он работает только из терминала, но тоже ничего сложного"
   ]
  },
  {
   "cell_type": "code",
   "execution_count": null,
   "id": "027feaf4-1ee1-4b67-a6c4-cf5e4241434b",
   "metadata": {
    "tags": []
   },
   "outputs": [],
   "source": [
    "!wget https://alphacephei.com/vosk/models/vosk-model-small-fr-0.22.zip\n",
    "!unzip vosk-model-small-fr-0.22.zip.1\n",
    "!mv vosk-model-small-fr-0.22 model\n",
    "!pip install -q vosk"
   ]
  },
  {
   "cell_type": "markdown",
   "id": "6c794b18-45d8-4fdd-992a-94bfe9fed240",
   "metadata": {
    "tags": []
   },
   "source": [
    "Я не знаю, как тут убрать логи, поэтому, если запустить, то будет много мусора в аутпуте. Не понимаю, что им мешало написать нормальный хелп"
   ]
  },
  {
   "cell_type": "code",
   "execution_count": 38,
   "id": "3e7b4576-e790-4329-8074-10cb8017de58",
   "metadata": {
    "tags": []
   },
   "outputs": [
    {
     "name": "stdout",
     "output_type": "stream",
     "text": [
      "usage: vosk-transcriber [-h] [--model MODEL] [--server] [--list-models]\n",
      "                        [--list-languages] [--model-name MODEL_NAME]\n",
      "                        [--lang LANG] [--input INPUT] [--output OUTPUT]\n",
      "                        [--output-type OUTPUT_TYPE] [--tasks TASKS]\n",
      "                        [--log-level LOG_LEVEL]\n",
      "vosk-transcriber: error: unrecognized arguments: --log_level -1\n"
     ]
    }
   ],
   "source": [
    "!vosk-transcriber -i sound.mp4 -o vosk_out.txt --lang fr"
   ]
  },
  {
   "cell_type": "code",
   "execution_count": 44,
   "id": "0366baa7-2895-426d-be02-78292877e2c7",
   "metadata": {
    "tags": []
   },
   "outputs": [],
   "source": [
    "with open(\"vosk_out.txt\", \"r\") as f:\n",
    "    vosk_audio = \" \".join(x.rstrip(\"\\n\") for x in f.readlines()) "
   ]
  },
  {
   "cell_type": "code",
   "execution_count": 46,
   "id": "fd54251c-17f4-4a32-9472-5cfef0ae7775",
   "metadata": {
    "tags": []
   },
   "outputs": [
    {
     "data": {
      "text/plain": [
       "'je dis toujours que les chats sont indépendants au'"
      ]
     },
     "execution_count": 46,
     "metadata": {},
     "output_type": "execute_result"
    }
   ],
   "source": [
    "vosk_audio[:50]"
   ]
  },
  {
   "cell_type": "markdown",
   "id": "1868f68a-af88-4925-8acd-f39d86016d44",
   "metadata": {
    "tags": []
   },
   "source": [
    "##### 3. `Wav2vec`"
   ]
  },
  {
   "cell_type": "markdown",
   "id": "2805663d-7168-41d6-b5db-6b43af137f8d",
   "metadata": {
    "tags": []
   },
   "source": [
    "Здесь нужно было покопаться, чтобы найти нужную модельку, но в тетрадке это тоже было"
   ]
  },
  {
   "cell_type": "code",
   "execution_count": null,
   "id": "e933920b-ca61-4330-90ff-393e9f8a0c9e",
   "metadata": {
    "tags": []
   },
   "outputs": [],
   "source": [
    "!pip install -q transformers datasets evaluate jiwer torchaudio huggingsound"
   ]
  },
  {
   "cell_type": "code",
   "execution_count": null,
   "id": "2f2e9b2a-b575-4dc3-8d05-a4925585ea9e",
   "metadata": {
    "tags": []
   },
   "outputs": [],
   "source": [
    "from huggingsound import SpeechRecognitionModel\n",
    "\n",
    "model = SpeechRecognitionModel(\n",
    "    \"jonatasgrosman/wav2vec2-large-fr-voxpopuli-french\", device=\"cuda\"\n",
    ")\n",
    "audio_paths = [\"sound.mp4\"]\n",
    "\n",
    "wav2vec_audio = model.transcribe(audio_paths)[0][\"transcription\"]"
   ]
  },
  {
   "cell_type": "code",
   "execution_count": 55,
   "id": "7f8e4a5c-1235-44d1-be2d-d92062e4528d",
   "metadata": {
    "tags": []
   },
   "outputs": [
    {
     "data": {
      "text/plain": [
       "'ON DIT TOUJOURS QUE LES CHASSONT INDÉPENDANT AUTON'"
      ]
     },
     "execution_count": 55,
     "metadata": {},
     "output_type": "execute_result"
    }
   ],
   "source": [
    "wav2vec_audio[:50]"
   ]
  },
  {
   "cell_type": "markdown",
   "id": "f67d4f1b-1dec-4477-89e4-5e580ac592bc",
   "metadata": {},
   "source": [
    "#### Оценка качества\n",
    "\n",
    "3. Оцените качество работ ваших систем и автогенерации YouTube. Для этого вам нужен эталон.\n",
    "Вы можете отредактировать один из результатов ASR и использовать его в качестве эталона.\n",
    "Затем посчитайте WER для каждой системы. - 2 балла\n",
    "\n",
    "Дополнительные баллы выше 8 можно получить за использование библиотек ASR, \n",
    "которые не были показаны на семинаре, и другие возможные улучшения."
   ]
  },
  {
   "cell_type": "markdown",
   "id": "d9a4ac18-14c5-4b8a-9d98-69d9cf365f5a",
   "metadata": {},
   "source": [
    "Ютубовские субтитры на самом деле очень хороши, я это уже давно заметил. Так что адаптировать я буду именно их. Я сам не до конца понимаю, что там говорится, очень уж странные акценты, но так даже интереснее"
   ]
  },
  {
   "cell_type": "code",
   "execution_count": 19,
   "id": "09fbb098-b33b-4c80-b0cd-f6731ae12e21",
   "metadata": {
    "tags": []
   },
   "outputs": [],
   "source": [
    "srt = [\n",
    " 'on dit toujours que les chats sont',\n",
    " \"indépendants autonomes voire qu'ils en\",\n",
    " \"ont que pour leur gueule mais c'est pas\",\n",
    " 'vrai oh merde pardon là par exemple tu',\n",
    " \"aides à faire la vaisselle n'est-ce pas\",\n",
    " 'ouais ouais je cherchais le produit',\n",
    " 'vaisselle alors imaginons un monde où',\n",
    " 'les chats seraient serviables merci',\n",
    " \"c'est bon à ton service bah moi aussi je\",\n",
    " 'veux bien aider à faire la vaisselle non',\n",
    " 'tu enlèves tes pattes pourquoi tu sais',\n",
    " 'très bien pourquoi moi je peux aider',\n",
    " \"alors s'il te plaît il faudrait ranger\",\n",
    " 'tous ces bonbons par couleur',\n",
    " 'ouais non ça me soûle attends moi je',\n",
    " \"vais t'aider à bien ranger ta chambre ça\",\n",
    " \"t'as plus besoin t'as déjà lu ça bah\",\n",
    " \"de toute façon on s'en fout il y a\",\n",
    " \"l'animé en vrai c'est pas compliqué hein\",\n",
    " \"ça c'est moche ça c'est de la merde ça\",\n",
    " \"ça pue et ça bah c'est pas si mal en\",\n",
    " \"fait non je déconne c'est tout pourri\",\n",
    " \"mais moi je demande que ça d'aider à\",\n",
    " 'côté ça ah oui oh puis ça me soûle',\n",
    " \"tiens c'est peut-être tout simplement ça\",\n",
    " \"si les chats sont pas serviables c'est\",\n",
    " \"parce qu'ils voient pas les choses de la\",\n",
    " 'même manière que nous putain truc de',\n",
    " \"l'enfer ça m'a fait flipper alors\",\n",
    " \"non merci c'est pas un truc de l'enfer\",\n",
    " \"c'est un cintre ça va si je te le pose\",\n",
    " \"là ton truc de l'enfer donc vous voyez\",\n",
    " \"s'il te plaît que les chats peuvent être\",\n",
    " \"serviables stop merci évidemment qu'on peut être serviable\",\n",
    " \"à votre avis qui c'est qui vousffit les\",\n",
    " 'souris pour protéger vos récoltes et toi',\n",
    " \"tu fais quoi Ba moi j'ai tout bien plié\",\n",
    " 'le linge alors maintenant tu bien mérité',\n",
    " \"et de fait dodo attends je vais t'aider\",\n",
    " \"non mais là tu m'aides pas juste tu veux\",\n",
    " \"jouer remarquez c'est peut-être ça le\",\n",
    " 'secret ça sert à rien de demander donne',\n",
    " 'faut que ça vienne de je veux aider',\n",
    " 'donne mais donne ou pas mais si tu veux',\n",
    " 'vraiment aider tu peux donner un coup de',\n",
    " 'pouce'\n",
    "]\n",
    "true_audio = \" \".join(x for x in srt)"
   ]
  },
  {
   "cell_type": "code",
   "execution_count": 2,
   "id": "801cffe0-6bee-440c-8763-ea85c19936cb",
   "metadata": {
    "tags": []
   },
   "outputs": [],
   "source": [
    "import pandas as pd\n",
    "\n",
    "whisper_audio = pd.read_pickle(\"whisper_audio.pkl\")\n",
    "vosk_audio = pd.read_pickle(\"vosk_audio.pkl\")\n",
    "wav2vec_audio = pd.read_pickle(\"wav2vec_audio.pkl\")\n",
    "youtube_audio = pd.read_pickle(\"youtube_audio.pkl\")\n",
    "true_audio = pd.read_pickle(\"true_audio.pkl\")"
   ]
  },
  {
   "cell_type": "code",
   "execution_count": 49,
   "id": "a70d7e71-d513-43c7-a4a1-540f9d3207c5",
   "metadata": {
    "tags": []
   },
   "outputs": [
    {
     "data": {
      "application/vnd.jupyter.widget-view+json": {
       "model_id": "97c727e619ab403ebf4c9b1bfd9bd335",
       "version_major": 2,
       "version_minor": 0
      },
      "text/plain": [
       "Downloading builder script:   0%|          | 0.00/4.49k [00:00<?, ?B/s]"
      ]
     },
     "metadata": {},
     "output_type": "display_data"
    }
   ],
   "source": [
    "from evaluate import load\n",
    "wer = load(\"wer\")"
   ]
  },
  {
   "cell_type": "markdown",
   "id": "1957e1df-688f-429e-880c-091117fb76d7",
   "metadata": {},
   "source": [
    "Будет большая проблема в том, чтобы все эти токены сопоставить, их там порядка 2000. Я возьму только срез, иначе это будет просто долго"
   ]
  },
  {
   "cell_type": "code",
   "execution_count": 114,
   "id": "54b2f408-7919-49b9-8ebb-3a07265221a5",
   "metadata": {
    "tags": []
   },
   "outputs": [],
   "source": [
    "def evaluate(n_slice):\n",
    "    references = true_audio.lower().split()[:n_slice]\n",
    "    for name, predictions in [\n",
    "        (\"whisper\", whisper_audio),\n",
    "        (\"vosk\", vosk_audio),\n",
    "        (\"wav2vec\", wav2vec_audio),\n",
    "        (\"youtube\", youtube_audio)\n",
    "    ]:\n",
    "        audio_slice = predictions.lower().split()[:n_slice]\n",
    "        wer_score = wer.compute(predictions=audio_slice, references=references)\n",
    "        print(name, wer_score)"
   ]
  },
  {
   "cell_type": "code",
   "execution_count": 116,
   "id": "9562c24b-281c-45c8-954a-595d02e1f7f1",
   "metadata": {
    "tags": []
   },
   "outputs": [
    {
     "name": "stdout",
     "output_type": "stream",
     "text": [
      "whisper 0.72\n",
      "vosk 0.92\n",
      "wav2vec 0.95\n",
      "youtube 0.02\n"
     ]
    }
   ],
   "source": [
    "evaluate(100)"
   ]
  },
  {
   "cell_type": "markdown",
   "id": "b327b21f-d764-45af-8507-63594b260000",
   "metadata": {},
   "source": [
    "Ну вот и получается, что ютуб расшифровывает вообще прекрасно, а все остальные не очень. Почему - загадка, но смотри видосики на французском там очень приятно, потому что сами французы субтитры делать не любят. Боже благослови нейросети. Но whisper на самом деле тоже очень хорош, просто в какой-то момент он ошибся в одном слове и всё поехало, если взять меньший сплит, то будет видно. Я не знаю, если честно, как это быстро пофиксить, токенизация тут не поможет, а иначе мне ошибку выдаёт. Не успеваю ничего придумать (("
   ]
  },
  {
   "cell_type": "code",
   "execution_count": 119,
   "id": "9e2a2eae-9daf-433f-8788-0f4a51667416",
   "metadata": {
    "tags": []
   },
   "outputs": [
    {
     "name": "stdout",
     "output_type": "stream",
     "text": [
      "whisper 0.15\n",
      "vosk 0.65\n",
      "wav2vec 0.75\n",
      "youtube 0.0\n"
     ]
    }
   ],
   "source": [
    "evaluate(20)"
   ]
  },
  {
   "cell_type": "markdown",
   "id": "4a4e961b-dbc2-44df-86e9-84f09f006948",
   "metadata": {},
   "source": [
    "На срезе поменьше видно, что whisper как минимум не так уж плох, а вообще он довольно прикольен тем, что умеет знаки пунктуации вычленять"
   ]
  },
  {
   "cell_type": "markdown",
   "id": "a96d91e0-0a65-4403-9632-a35fe8dd6be6",
   "metadata": {},
   "source": [
    "Насчёт улучшений не знаю, можно попробовать денойзинг сделать, хотя моделька вроде должна уметь сама, но посмотрим"
   ]
  },
  {
   "cell_type": "code",
   "execution_count": null,
   "id": "bb18de1e-5549-4cef-a7c3-c80c05f54b14",
   "metadata": {
    "tags": []
   },
   "outputs": [],
   "source": [
    "!pip install -q speechbrain"
   ]
  },
  {
   "cell_type": "code",
   "execution_count": null,
   "id": "08004360-51ba-4095-a907-bc29969885eb",
   "metadata": {
    "tags": []
   },
   "outputs": [
    {
     "name": "stderr",
     "output_type": "stream",
     "text": [
      "torchvision is not available - cannot save figures\n"
     ]
    },
    {
     "name": "stdout",
     "output_type": "stream",
     "text": [
      "Resampling the audio from 44100 Hz to 8000 Hz\n"
     ]
    }
   ],
   "source": [
    "from speechbrain.pretrained import SepformerSeparation as separator\n",
    "import torchaudio\n",
    "\n",
    "model = separator.from_hparams(\n",
    "    source=\"speechbrain/sepformer-whamr-enhancement\",\n",
    "    savedir='pretrained_models/sepformer-whamr-enhancement',\n",
    ")\n",
    "\n",
    "# for custom file, change path\n",
    "est_sources = model.separate_file(\n",
    "    path='sound.mp4', \n",
    ") \n",
    "\n",
    "torchaudio.save(\"denoised_audio.wav\", est_sources[:, :, 0].detach().cpu(), 8000)"
   ]
  },
  {
   "cell_type": "code",
   "execution_count": null,
   "id": "5e0abe82-ddbb-4a64-ae36-fbadc4e59349",
   "metadata": {
    "tags": []
   },
   "outputs": [],
   "source": [
    "asd"
   ]
  },
  {
   "cell_type": "markdown",
   "id": "02c1a362-ef16-4aa3-844c-3e3e46774c67",
   "metadata": {
    "tags": []
   },
   "source": [
    "Ну, предположить, что модель будет весить больше 40Гб, я не мог, поэтому сегодня без денойзинга, на A100 не влезает"
   ]
  },
  {
   "cell_type": "markdown",
   "id": "6b7f29d8-a917-4982-8d83-5f353c4db065",
   "metadata": {},
   "source": [
    "У меня не работают другие библиотеки, я пытался. Я и так использовал vosk и whisper во втором пункте, но я ничего ещё не могу найти, не знаю, в общем. SpeechRecognition есть конечно, но он был на семинаре, плюс он не интересный. К тому же это должно быть что-то для французского. Есть вот это - https://github.com/maelfabien/french_asr_app/blob/main/asr.py - там опять сетка, для azure нужен ключ, для гугла нужен ключ. В общем печально это всё, зафайнтюнить тоже не успею, да и толку нет, потому что не на чем. Ну ладно, всё равно 10 бы ничего не дало"
   ]
  },
  {
   "cell_type": "code",
   "execution_count": 2,
   "id": "542a3207-6049-4178-898f-974fcf81b0f0",
   "metadata": {
    "tags": []
   },
   "outputs": [],
   "source": [
    "!pip install -q asrecognition librosa"
   ]
  },
  {
   "cell_type": "code",
   "execution_count": null,
   "id": "980b4a2c-971d-49fa-bcf0-1ced6c47880b",
   "metadata": {
    "tags": []
   },
   "outputs": [],
   "source": [
    "from asrecognition import ASREngine\n",
    "\n",
    "# 1 - Load the ASR engine for a given language (on the first run it may take a while)\n",
    "asr = ASREngine(\"fr\")\n",
    "\n",
    "# 2 - Use the loaded ASR engine to transcribe a list of audio files\n",
    "audio_paths = [\"audio.mp4\"]\n",
    "transcriptions = asr.transcribe(audio_paths)\n",
    "\n",
    "# 3 - Voilà!\n",
    "print(transcriptions)"
   ]
  }
 ],
 "metadata": {
  "kernelspec": {
   "display_name": "Python [conda env:root] *",
   "language": "python",
   "name": "conda-root-py"
  },
  "language_info": {
   "codemirror_mode": {
    "name": "ipython",
    "version": 3
   },
   "file_extension": ".py",
   "mimetype": "text/x-python",
   "name": "python",
   "nbconvert_exporter": "python",
   "pygments_lexer": "ipython3",
   "version": "3.9.18"
  }
 },
 "nbformat": 4,
 "nbformat_minor": 5
}
