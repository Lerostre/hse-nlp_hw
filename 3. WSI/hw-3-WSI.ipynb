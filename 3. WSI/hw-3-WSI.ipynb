{
 "cells": [
  {
   "cell_type": "markdown",
   "metadata": {
    "id": "yTP91Zm62y3c"
   },
   "source": [
    "# Домашнее задание 1. Разрешение семантической многозначности (WSD).\n",
    "\n",
    "При выполнении домашнего задания можно пользоваться тетрадками с семинаров. Пожалуйста, соблюдайте минимальную гигиену кода:\n",
    "* пишите комментарии, где они уместны;\n",
    "* избегайте вывода больших текстовых переменных (например, не стоит печатать весь корпус, это существенно усложняет читаемость вашей тетрадки);\n",
    "* запускайте ячейки последовательно, иначе можно получить невоспроизводимые результаты.\n",
    "\n",
    "### Формат сдачи задания:\n",
    "\n",
    "Jupyter-notebook на гитхабе.\n",
    "\n",
    "### Описание задания:\n",
    "\n",
    "В этом задании вам нужно будет кластеризовать контексты для неоднозначных слов и проанализировать, как результаты соотносятся с их значениями. Напоминаем, что у нас могут быть как многозначные слова, так и омонимы - для сравнения хорошо взять и те, и другие.\n",
    "\n",
    "Для сбора данных в п. 1 предполагается использование краулинга. Советуем начать с ручного сбора данных, а затем, если останется время, сделать краулинг словаря. Так вы рискуете меньшим количеством баллов ;)"
   ]
  },
  {
   "cell_type": "markdown",
   "metadata": {
    "id": "UzVICFKc2y3e"
   },
   "source": [
    "1. Выберите 5 неоднозначных лексем и соберите для них словарные значения (толкования). Можно использовать [МАС](http://feb-web.ru/feb/mas/mas-abc/) или любой другой толковый словарь. Обязательно укажите, каким словарем вы пользовались. - 1 балл за ручной сбор данных, 1 балл за краулинг"
   ]
  },
  {
   "cell_type": "markdown",
   "metadata": {
    "id": "fsPiHeUd2y3f"
   },
   "source": [
    "Я взял грамоту.ру, потому что не хочу поднимать селениум. Я думаю, сомнений в том, что я умею нажимать ctrl+c, ctrl+v, нет (но ладно, я скопировал), поэтому сразу краулер. Слова, которые я взял - внизу, ссылка тоже"
   ]
  },
  {
   "cell_type": "code",
   "execution_count": null,
   "metadata": {},
   "outputs": [],
   "source": [
    "РУЧКА\n",
    "РУЧК|А, -и, род., мн. ручек, ж., нд., III в.\n",
    "● 1.0. уменьш.-ласк. к рука 1.0., маленькая рука. Худенькая р. Мягкая р. Тёплая р. Изящная р. Ручки младенца.\n",
    "\n",
    "2.0. Часть предмета, за к-рую его держат или берут рукой при совершении разного рода действий.   Син. скобка. Ср. рукоятка.\n",
    "\n",
    "[Не]большая (маленькая, широкая, узкая, тонкая, толстая, круглая, длинная, короткая, [не]прочная, крепкая, надёжная, хлипкая разг., [не]удобная, кожаная, металлическая, медная, пластмассовая, деревянная, блестящая, поли"
   ]
  },
  {
   "cell_type": "code",
   "execution_count": 1,
   "metadata": {
    "id": "euLFP4zo2y3f",
    "tags": []
   },
   "outputs": [],
   "source": [
    "import urllib.request\n",
    "import requests\n",
    "import re\n",
    "import os\n",
    "from bs4 import BeautifulSoup\n",
    "from tqdm.auto import tqdm\n",
    "\n",
    "import pandas as pd\n",
    "import numpy as np\n",
    "\n",
    "session = requests.session()\n",
    "session.trust_env = False"
   ]
  },
  {
   "cell_type": "code",
   "execution_count": 2,
   "metadata": {
    "id": "DonY-fhY2y3g",
    "tags": []
   },
   "outputs": [],
   "source": [
    "def clean_entry(entry):\n",
    "    # там сложно что-то нормально почистить, я забил\n",
    "    entry = str(entry)\n",
    "    if \"<span\" in entry:\n",
    "        entry = entry.split(\". <span\")[0]\n",
    "    # if \"</i>\" in entry:\n",
    "    #     entry = entry.split(\"</i>. \")[1]\n",
    "    # else:\n",
    "    #     entry = entry.split(\". \")[1]\n",
    "    return re.sub(\"<.*?>\", \"\", entry)\n",
    "\n",
    "words = np.array([\"идти\", \"земля\", \"ручка\", \"общество\", \"ум\"])[:, np.newaxis]"
   ]
  },
  {
   "cell_type": "code",
   "execution_count": 3,
   "metadata": {
    "colab": {
     "base_uri": "https://localhost:8080/",
     "height": 49,
     "referenced_widgets": [
      "9b95489c2058477c979b609b2abfc5ec",
      "563ad3b2ad1e4538b42a403a652786fb",
      "5cb0f22fda7942838da8e4f5ee6dec68",
      "1ef9ededf24949cf9337700ada47d84c",
      "7384164b62284260899ae318be398266",
      "1bebbd62680f420fa700e2d5d5b14177",
      "997226150fa54fcbb601f76d4790248d",
      "724a581a1f244940b3431d10ce38d9f6",
      "1d54cc4da0e74418ad5edf4bbd1bb3d1",
      "c1ed8a9ff4744830bc15dff6e5bf00be",
      "fbfa67c0e247428a9cefed8e50f6ddf4"
     ]
    },
    "id": "Yl3Eh3TA2y3g",
    "outputId": "a24548a2-ee05-46b3-f84c-c9bdcc6007c5",
    "tags": []
   },
   "outputs": [
    {
     "data": {
      "application/vnd.jupyter.widget-view+json": {
       "model_id": "966978f5871d44c39008eaccdc520c03",
       "version_major": 2,
       "version_minor": 0
      },
      "text/plain": [
       "  0%|          | 0/5 [00:00<?, ?it/s]"
      ]
     },
     "metadata": {},
     "output_type": "display_data"
    }
   ],
   "source": [
    "word_dict = []\n",
    "\n",
    "for word in tqdm(words):\n",
    "\n",
    "    # идём по ссылке\n",
    "    word = word[0]\n",
    "    url = f\"https://gramota.ru/poisk?query={word}&mode=slovari&dicts[]=48\"\n",
    "    req = session.get(url)\n",
    "    page = req.text\n",
    "    soup = BeautifulSoup(page, 'html.parser')\n",
    "\n",
    "    # текст собираю по всем <p>\n",
    "    desc = soup.find(\"div\", {\"class\": \"description highlightable\"})\n",
    "    all_entries = desc.find_all(\"p\")\n",
    "    all_entries = [\n",
    "        clean_entry(entry)\n",
    "        for entry in all_entries\n",
    "        if re.match(r\"(.{2}?)\\b\\d\\.\", entry.text)\n",
    "    ]\n",
    "    for idx, entry in enumerate(all_entries):\n",
    "        word_dict.append({\"word\": word, \"context\": entry, \"meaning\": idx})\n",
    "        \n",
    "word_dict = pd.DataFrame(word_dict)"
   ]
  },
  {
   "cell_type": "markdown",
   "metadata": {
    "id": "uQP_Anlx2y3h"
   },
   "source": [
    "2. Выберите один или несколько корпусов [коллекции Corus](https://github.com/natasha/corus#reference), извлеките оттуда все предложения, где содержатся ваши неоднозначные слова. - 1 балл"
   ]
  },
  {
   "cell_type": "code",
   "execution_count": 4,
   "metadata": {
    "id": "6hjMCzW426w3",
    "tags": []
   },
   "outputs": [],
   "source": [
    "# %%capture\n",
    "# !pip install -q corus pymorphy3 tensorflow Cython matplotlib simple-elmo\n",
    "# !curl \"https://s3.amazonaws.com/kostia.lopuhin/all.a010.p10.d300.w5.m100.nonorm.slim.joblib\" > all.a010.p10.d300.w5.m100.nonorm.slim.joblib\n",
    "# !pip install -q git+https://github.com/lopuhin/python-adagram.git\n",
    "# !wget http://vectors.nlpl.eu/repository/20/196.zip\n",
    "# !wget https://github.com/yutkin/Lenta.Ru-News-Dataset/releases/download/v1.0/lenta-ru-news.csv.gz"
   ]
  },
  {
   "cell_type": "code",
   "execution_count": 5,
   "metadata": {
    "id": "2MVHgP3f2y3i",
    "tags": []
   },
   "outputs": [],
   "source": [
    "from corus import load_lenta\n",
    "from pymorphy3 import MorphAnalyzer\n",
    "from nltk.tokenize import RegexpTokenizer\n",
    "tokenizer = RegexpTokenizer(\"\\w+\")\n",
    "\n",
    "\n",
    "def lemmatize(text):\n",
    "    res = [\n",
    "        morph.parse(word)[0].normal_form\n",
    "        for word in tokenizer.tokenize(text)\n",
    "    ]\n",
    "    return res\n",
    "\n",
    "\n",
    "path = 'lenta-ru-news.csv.gz'\n",
    "records = load_lenta(path)\n",
    "morph = MorphAnalyzer()\n",
    "contexts = [next(records).text for _ in range(50000)]"
   ]
  },
  {
   "cell_type": "code",
   "execution_count": 6,
   "metadata": {
    "colab": {
     "base_uri": "https://localhost:8080/",
     "height": 423,
     "referenced_widgets": [
      "3a910bca5cbd442d93ac1977dd5e6a10",
      "41b6fdf6fa914f5ba9e1ec23c2d743c5",
      "774c3e2c5de848858ee6e91e50a7b588",
      "ec0f3d856a5342aa9f74b0b43b8588c0",
      "350ba266ca96429988649abd584c71c0",
      "e56fbf7f01cd4f9f94d6419e94cca2de",
      "2f98441fba8c41d9817a5f9d6f45fd2f",
      "f8a79f6a70a9454189b14d2e9e490396",
      "72f2dd2e9abe4d69a226f7dcca7ee1ff",
      "e1b673faee684b9c902ba41ef6f1247d",
      "cfd065ba813a4be19f9c9f3ef41f0082"
     ]
    },
    "id": "yT-kQiia2y3i",
    "outputId": "6f127e5d-00f0-430a-a62a-027234a7e6ec",
    "tags": []
   },
   "outputs": [
    {
     "data": {
      "application/vnd.jupyter.widget-view+json": {
       "model_id": "905139b62fd94ea48692cf427ee134c9",
       "version_major": 2,
       "version_minor": 0
      },
      "text/plain": [
       "  0%|          | 0/50000 [00:00<?, ?it/s]"
      ]
     },
     "metadata": {},
     "output_type": "display_data"
    }
   ],
   "source": [
    "from joblib import Parallel, delayed\n",
    "\n",
    "def extract_context(record):\n",
    "\n",
    "    # сразу леммы, потому что это имеет больше смысла\n",
    "    lemmatized = np.array(lemmatize(record))\n",
    "    in_context = np.in1d(words, lemmatized)\n",
    "    res = np.hstack([\n",
    "         words, np.vstack([\" \".join(lemmatized)]*5)\n",
    "    ])\n",
    "    return res[in_context]\n",
    "\n",
    "\n",
    "# в колабе всего 2 ядра, серьёзно? ладно...\n",
    "word_context = np.vstack(\n",
    "    Parallel(48, backend=\"multiprocessing\")(\n",
    "    delayed(extract_context)(record)\n",
    "    for record in tqdm(contexts)\n",
    "))"
   ]
  },
  {
   "cell_type": "code",
   "execution_count": 7,
   "metadata": {
    "id": "DkSzwNnI2y3i",
    "outputId": "2b275779-15bf-43ed-d9ec-5a8282685bd3",
    "tags": []
   },
   "outputs": [
    {
     "data": {
      "text/html": [
       "<div>\n",
       "<style scoped>\n",
       "    .dataframe tbody tr th:only-of-type {\n",
       "        vertical-align: middle;\n",
       "    }\n",
       "\n",
       "    .dataframe tbody tr th {\n",
       "        vertical-align: top;\n",
       "    }\n",
       "\n",
       "    .dataframe thead th {\n",
       "        text-align: right;\n",
       "    }\n",
       "</style>\n",
       "<table border=\"1\" class=\"dataframe\">\n",
       "  <thead>\n",
       "    <tr style=\"text-align: right;\">\n",
       "      <th></th>\n",
       "      <th>word</th>\n",
       "      <th>context</th>\n",
       "    </tr>\n",
       "  </thead>\n",
       "  <tbody>\n",
       "    <tr>\n",
       "      <th>0</th>\n",
       "      <td>земля</td>\n",
       "      <td>полицейский алекс коллинс и трейся холлоуэй ок...</td>\n",
       "    </tr>\n",
       "    <tr>\n",
       "      <th>1</th>\n",
       "      <td>идти</td>\n",
       "      <td>на митинг верующий проходить в киев в время об...</td>\n",
       "    </tr>\n",
       "    <tr>\n",
       "      <th>2</th>\n",
       "      <td>идти</td>\n",
       "      <td>президент украина пётр порошенко занять место ...</td>\n",
       "    </tr>\n",
       "    <tr>\n",
       "      <th>3</th>\n",
       "      <td>земля</td>\n",
       "      <td>в русский православный церковь рпц назвать кан...</td>\n",
       "    </tr>\n",
       "    <tr>\n",
       "      <th>4</th>\n",
       "      <td>идти</td>\n",
       "      <td>абсолютный чемпион мир в первый тяжёлый вес ук...</td>\n",
       "    </tr>\n",
       "  </tbody>\n",
       "</table>\n",
       "</div>"
      ],
      "text/plain": [
       "    word                                            context\n",
       "0  земля  полицейский алекс коллинс и трейся холлоуэй ок...\n",
       "1   идти  на митинг верующий проходить в киев в время об...\n",
       "2   идти  президент украина пётр порошенко занять место ...\n",
       "3  земля  в русский православный церковь рпц назвать кан...\n",
       "4   идти  абсолютный чемпион мир в первый тяжёлый вес ук..."
      ]
     },
     "execution_count": 7,
     "metadata": {},
     "output_type": "execute_result"
    }
   ],
   "source": [
    "meanings = pd.DataFrame(word_context, columns=[\"word\", \"context\"])\n",
    "meanings.head()"
   ]
  },
  {
   "cell_type": "code",
   "execution_count": 8,
   "metadata": {
    "tags": []
   },
   "outputs": [
    {
     "data": {
      "text/html": [
       "<div>\n",
       "<style scoped>\n",
       "    .dataframe tbody tr th:only-of-type {\n",
       "        vertical-align: middle;\n",
       "    }\n",
       "\n",
       "    .dataframe tbody tr th {\n",
       "        vertical-align: top;\n",
       "    }\n",
       "\n",
       "    .dataframe thead th {\n",
       "        text-align: right;\n",
       "    }\n",
       "</style>\n",
       "<table border=\"1\" class=\"dataframe\">\n",
       "  <thead>\n",
       "    <tr style=\"text-align: right;\">\n",
       "      <th></th>\n",
       "      <th>word</th>\n",
       "      <th>context</th>\n",
       "      <th>meaning</th>\n",
       "    </tr>\n",
       "  </thead>\n",
       "  <tbody>\n",
       "    <tr>\n",
       "      <th>0</th>\n",
       "      <td>земля</td>\n",
       "      <td>полицейский алекс коллинс и трейся холлоуэй ок...</td>\n",
       "      <td>NaN</td>\n",
       "    </tr>\n",
       "    <tr>\n",
       "      <th>1</th>\n",
       "      <td>идти</td>\n",
       "      <td>на митинг верующий проходить в киев в время об...</td>\n",
       "      <td>NaN</td>\n",
       "    </tr>\n",
       "    <tr>\n",
       "      <th>2</th>\n",
       "      <td>идти</td>\n",
       "      <td>президент украина пётр порошенко занять место ...</td>\n",
       "      <td>NaN</td>\n",
       "    </tr>\n",
       "    <tr>\n",
       "      <th>3</th>\n",
       "      <td>земля</td>\n",
       "      <td>в русский православный церковь рпц назвать кан...</td>\n",
       "      <td>NaN</td>\n",
       "    </tr>\n",
       "    <tr>\n",
       "      <th>4</th>\n",
       "      <td>идти</td>\n",
       "      <td>абсолютный чемпион мир в первый тяжёлый вес ук...</td>\n",
       "      <td>NaN</td>\n",
       "    </tr>\n",
       "    <tr>\n",
       "      <th>...</th>\n",
       "      <td>...</td>\n",
       "      <td>...</td>\n",
       "      <td>...</td>\n",
       "    </tr>\n",
       "    <tr>\n",
       "      <th>22</th>\n",
       "      <td>общество</td>\n",
       "      <td>4 0 группа человек к рые вместе проводить время</td>\n",
       "      <td>3.0</td>\n",
       "    </tr>\n",
       "    <tr>\n",
       "      <th>23</th>\n",
       "      <td>общество</td>\n",
       "      <td>5 0 объединение человек как правило добровольн...</td>\n",
       "      <td>4.0</td>\n",
       "    </tr>\n",
       "    <tr>\n",
       "      <th>24</th>\n",
       "      <td>ум</td>\n",
       "      <td>1 0 зд ед способность человек думать лежать в ...</td>\n",
       "      <td>0.0</td>\n",
       "    </tr>\n",
       "    <tr>\n",
       "      <th>25</th>\n",
       "      <td>ум</td>\n",
       "      <td>1 1 зд ед высокий степень такой способность вы...</td>\n",
       "      <td>1.0</td>\n",
       "    </tr>\n",
       "    <tr>\n",
       "      <th>26</th>\n",
       "      <td>ум</td>\n",
       "      <td>2 0 зд ед мыслительный процесс мозг как место ...</td>\n",
       "      <td>2.0</td>\n",
       "    </tr>\n",
       "  </tbody>\n",
       "</table>\n",
       "<p>6155 rows × 3 columns</p>\n",
       "</div>"
      ],
      "text/plain": [
       "        word                                            context  meaning\n",
       "0      земля  полицейский алекс коллинс и трейся холлоуэй ок...      NaN\n",
       "1       идти  на митинг верующий проходить в киев в время об...      NaN\n",
       "2       идти  президент украина пётр порошенко занять место ...      NaN\n",
       "3      земля  в русский православный церковь рпц назвать кан...      NaN\n",
       "4       идти  абсолютный чемпион мир в первый тяжёлый вес ук...      NaN\n",
       "..       ...                                                ...      ...\n",
       "22  общество    4 0 группа человек к рые вместе проводить время      3.0\n",
       "23  общество  5 0 объединение человек как правило добровольн...      4.0\n",
       "24        ум  1 0 зд ед способность человек думать лежать в ...      0.0\n",
       "25        ум  1 1 зд ед высокий степень такой способность вы...      1.0\n",
       "26        ум  2 0 зд ед мыслительный процесс мозг как место ...      2.0\n",
       "\n",
       "[6155 rows x 3 columns]"
      ]
     },
     "execution_count": 8,
     "metadata": {},
     "output_type": "execute_result"
    }
   ],
   "source": [
    "word_dict[\"context\"] = word_dict.context.apply(\n",
    "    lambda y: \" \".join(x for x in lemmatize(y))\n",
    ")\n",
    "meanings = pd.concat([meanings, word_dict])\n",
    "meanings"
   ]
  },
  {
   "cell_type": "markdown",
   "metadata": {
    "id": "QjrF9ZJE2y3j"
   },
   "source": [
    "3. Разбейте полученные контексты по значениям двумя любыми способами (вы можете использовать способы с семинара, заменить там эмбеддинги, реализовать какой-то свой способ).\n",
    "Напоминалка: в случае с AdaGram вы сразу получаете какой-то номер значения, с ELMo и другими контекстуальными эмбеддингами — нужно кластеризовать. - 2 балла"
   ]
  },
  {
   "cell_type": "markdown",
   "metadata": {
    "id": "TwN9nJDG2y3j"
   },
   "source": [
    "Это уже было на компсеме, кстати. Я попробую через эмбеддинги и adagram. Там всё равно ничего прикольного не получится, так что метод не имеет значения. Попробую через гауссовские смеси - гипотеза в том, что несколько значений будут иметь какие-то собственные распределения, будем пытаться их вычленить из общей каши"
   ]
  },
  {
   "cell_type": "code",
   "execution_count": null,
   "metadata": {
    "id": "1bBEHqXJ2y3j",
    "outputId": "9e5372e7-7d11-45a8-c877-06dba68cd18f",
    "tags": []
   },
   "outputs": [],
   "source": [
    "import adagram\n",
    "from simple_elmo import ElmoModel\n",
    "\n",
    "vm = adagram.VectorModel.load('all.a010.p10.d300.w5.m100.nonorm.slim.joblib')\n",
    "elmo = ElmoModel()\n",
    "elmo.load(\"196.zip\", max_batch_size=256)"
   ]
  },
  {
   "cell_type": "code",
   "execution_count": null,
   "metadata": {
    "id": "Kq-gP3CC2y3l"
   },
   "outputs": [],
   "source": [
    "from sklearn.decomposition import TruncatedSVD\n",
    "from sklearn.mixture import GaussianMixture\n",
    "\n",
    "meanings[\"cluster_meaning\"] = np.nan\n",
    "# вот это самый важный момент на самом деле, но\n",
    "# мне лень экспериментировать с тсне и его параметрами\n",
    "svd = TruncatedSVD(2, random_state=69)\n",
    "\n",
    "for word in word_dict.word.unique():\n",
    "    \n",
    "    word_mask = meanings.word == word\n",
    "    # там уже есть опция доставать средний эмбеддинг контекста, зачем мудрить\n",
    "    context_embs = elmo.get_elmo_vector_average(\n",
    "        meanings[word_mask][\"context\"].apply(lambda x: x.split()),\n",
    "        layers=\"top\", warmup=False\n",
    "    )\n",
    "    \n",
    "    mapped_meanings = svd.fit_transform(context_embs)\n",
    "    n_of_meanings = word_dict[word_dict.word == word].meaning.nunique()\n",
    "    gauss = GaussianMixture(n_components=n_of_meanings, random_state=69)\n",
    "    clusters = gauss.fit_predict(mapped_meanings)\n",
    "    meanings.loc[word_mask, \"cluster_meaning\"] = clusters"
   ]
  },
  {
   "cell_type": "code",
   "execution_count": 22,
   "metadata": {},
   "outputs": [],
   "source": [
    "%%capture\n",
    "\n",
    "meanings[\"adagram_meaning\"] = np.nan\n",
    "for idx, row in meanings.iterrows():\n",
    "    word, context = row[[\"word\", \"context\"]]\n",
    "    meanings.loc[idx, 'adagram_meaning'] = vm.disambiguate(word, context).argmax()"
   ]
  },
  {
   "cell_type": "code",
   "execution_count": 23,
   "metadata": {
    "tags": []
   },
   "outputs": [
    {
     "data": {
      "text/html": [
       "<div>\n",
       "<style scoped>\n",
       "    .dataframe tbody tr th:only-of-type {\n",
       "        vertical-align: middle;\n",
       "    }\n",
       "\n",
       "    .dataframe tbody tr th {\n",
       "        vertical-align: top;\n",
       "    }\n",
       "\n",
       "    .dataframe thead th {\n",
       "        text-align: right;\n",
       "    }\n",
       "</style>\n",
       "<table border=\"1\" class=\"dataframe\">\n",
       "  <thead>\n",
       "    <tr style=\"text-align: right;\">\n",
       "      <th></th>\n",
       "      <th>word</th>\n",
       "      <th>context</th>\n",
       "      <th>meaning</th>\n",
       "      <th>cluster_meaning</th>\n",
       "      <th>adagram_meaning</th>\n",
       "    </tr>\n",
       "  </thead>\n",
       "  <tbody>\n",
       "    <tr>\n",
       "      <th>0</th>\n",
       "      <td>земля</td>\n",
       "      <td>полицейский алекс коллинс и трейся холлоуэй ок...</td>\n",
       "      <td>NaN</td>\n",
       "      <td>5.0</td>\n",
       "      <td>4.0</td>\n",
       "    </tr>\n",
       "    <tr>\n",
       "      <th>1</th>\n",
       "      <td>идти</td>\n",
       "      <td>на митинг верующий проходить в киев в время об...</td>\n",
       "      <td>NaN</td>\n",
       "      <td>3.0</td>\n",
       "      <td>0.0</td>\n",
       "    </tr>\n",
       "    <tr>\n",
       "      <th>2</th>\n",
       "      <td>идти</td>\n",
       "      <td>президент украина пётр порошенко занять место ...</td>\n",
       "      <td>NaN</td>\n",
       "      <td>6.0</td>\n",
       "      <td>4.0</td>\n",
       "    </tr>\n",
       "    <tr>\n",
       "      <th>3</th>\n",
       "      <td>земля</td>\n",
       "      <td>в русский православный церковь рпц назвать кан...</td>\n",
       "      <td>NaN</td>\n",
       "      <td>5.0</td>\n",
       "      <td>4.0</td>\n",
       "    </tr>\n",
       "    <tr>\n",
       "      <th>4</th>\n",
       "      <td>идти</td>\n",
       "      <td>абсолютный чемпион мир в первый тяжёлый вес ук...</td>\n",
       "      <td>NaN</td>\n",
       "      <td>3.0</td>\n",
       "      <td>4.0</td>\n",
       "    </tr>\n",
       "  </tbody>\n",
       "</table>\n",
       "</div>"
      ],
      "text/plain": [
       "    word                                            context  meaning  \\\n",
       "0  земля  полицейский алекс коллинс и трейся холлоуэй ок...      NaN   \n",
       "1   идти  на митинг верующий проходить в киев в время об...      NaN   \n",
       "2   идти  президент украина пётр порошенко занять место ...      NaN   \n",
       "3  земля  в русский православный церковь рпц назвать кан...      NaN   \n",
       "4   идти  абсолютный чемпион мир в первый тяжёлый вес ук...      NaN   \n",
       "\n",
       "   cluster_meaning  adagram_meaning  \n",
       "0              5.0              4.0  \n",
       "1              3.0              0.0  \n",
       "2              6.0              4.0  \n",
       "3              5.0              4.0  \n",
       "4              3.0              4.0  "
      ]
     },
     "execution_count": 23,
     "metadata": {},
     "output_type": "execute_result"
    }
   ],
   "source": [
    "meanings.head()"
   ]
  },
  {
   "cell_type": "code",
   "execution_count": 24,
   "metadata": {
    "tags": []
   },
   "outputs": [],
   "source": [
    "meanings.to_csv(\"meanings.csv\", index=0)"
   ]
  },
  {
   "cell_type": "markdown",
   "metadata": {
    "id": "wlvqgR3_2y3l"
   },
   "source": [
    "4. Возьмите словарные толкования для каждого значения и припишите им значение автоматически\n",
    "теми же способами, что и в п.2. - 1 балл"
   ]
  },
  {
   "cell_type": "markdown",
   "metadata": {},
   "source": [
    "Что и в пункте 3, я надеюсь, потому что в пункте 2 я ничего такого не делал. Но это надо делать там же, потому что модельки я не сохраняю, так что см. выше"
   ]
  },
  {
   "cell_type": "markdown",
   "metadata": {
    "id": "CC0LXQ5P2y3l"
   },
   "source": [
    "5. Выберите по 2-3 значения для слова и по 5 контекстов, которые автоматически были отнесены к этим значениям. Разметьте контексты: совпадает ли значение слова в контексте со словарным значением. - 1 балл"
   ]
  },
  {
   "cell_type": "code",
   "execution_count": 115,
   "metadata": {
    "tags": []
   },
   "outputs": [],
   "source": [
    "chosen_contexts = pd.DataFrame(columns=[\n",
    "    \"word\", \"context\", \"adagram_meaning\", \"cluster_meaning\"\n",
    "])\n",
    "\n",
    "idx = 0\n",
    "for word in word_dict.word.unique():\n",
    "    most_popular_meanings = meanings[\n",
    "        meanings.word == word\n",
    "    ].adagram_meaning.value_counts().index[:2]\n",
    "    for meaning in most_popular_meanings:\n",
    "        contexts = meanings[\n",
    "            (meanings.word == word) &\n",
    "            (meanings.adagram_meaning == meaning)\n",
    "        ]\n",
    "        # у меня не везде есть 5, некоторые значения очень редкие\n",
    "        num_samples = min(contexts.shape[0], 5)\n",
    "        contexts = contexts.sample(num_samples)\n",
    "        for _, context in contexts.iterrows():\n",
    "            context_raw = context[\"context\"]\n",
    "            cluster_meaning = context[\"cluster_meaning\"]\n",
    "            chosen_contexts.loc[idx] = (word, context_raw, meaning, cluster_meaning)\n",
    "            idx += 1"
   ]
  },
  {
   "cell_type": "code",
   "execution_count": 146,
   "metadata": {
    "tags": []
   },
   "outputs": [],
   "source": [
    "chosen_contexts.to_csv(\"chosen_contexts.csv\", index=0)"
   ]
  },
  {
   "cell_type": "markdown",
   "metadata": {},
   "source": [
    "Не понимаю. Кластеризация мне не говорит, какие именно значения она выделяет. Я просто посмотрю, что значения в тех контекстах, что выделились, однородны"
   ]
  },
  {
   "cell_type": "markdown",
   "metadata": {},
   "source": [
    "Я разметил ручками все выбранные контексты. Если у меня есть значение среди толкований, я приписывал соответствующий индекс, если нет, например, это фразеологизм, то ставил -1. Можно проверить, что в словосочетаниях с похожим смыслом метка значения тоже похожа"
   ]
  },
  {
   "cell_type": "code",
   "execution_count": 154,
   "metadata": {
    "jupyter": {
     "source_hidden": true
    },
    "tags": []
   },
   "outputs": [],
   "source": [
    "my_meanings = \"\"\"-1\n",
    "-1\n",
    "-1\n",
    "4\n",
    "-1\n",
    "-1\n",
    "3\n",
    "4\n",
    "1\n",
    "4\n",
    "1\n",
    "4\n",
    "4\n",
    "3\n",
    "3\n",
    "1\n",
    "2\n",
    "2\n",
    "2\n",
    "2\n",
    "2\n",
    "1\n",
    "2\n",
    "2\n",
    "2\n",
    "2\n",
    "2\n",
    "3\n",
    "2\n",
    "3\n",
    "3\n",
    "-1\n",
    "-1\n",
    "-1\n",
    "-1\n",
    "-1\n",
    "-1\n",
    "-1\n",
    "2\n",
    "3\n",
    "1\"\"\""
   ]
  },
  {
   "cell_type": "code",
   "execution_count": 153,
   "metadata": {
    "tags": []
   },
   "outputs": [],
   "source": [
    "chosen_contexts[\"meaning\"] = my_meanings.split(\"\\n\")"
   ]
  },
  {
   "cell_type": "code",
   "execution_count": 158,
   "metadata": {
    "tags": []
   },
   "outputs": [
    {
     "name": "stdout",
     "output_type": "stream",
     "text": [
      "идти ['цензура' 'здесь' 'абсолютно' 'речь' 'не' 'идти' 'потому' 'что' 'весь'\n",
      " 'информация' 'она'] -1\n",
      "идти ['неприличный' 'и' 'грубый' 'ведь' 'речь' 'идти' 'о' 'конкретный'\n",
      " 'заявление' 'обама' 'это'] -1\n",
      "идти ['в' 'русало' 'о' 'какой' 'публикация' 'идти' 'речь' 'не' 'поясняться'\n",
      " 'распространять' 'агентство'] -1\n",
      "идти ['год' 'между' 'сша' 'и' 'китай' 'идти' 'торговый' 'война' 'который'\n",
      " 'выражаться' 'в'] 4\n",
      "идти ['профинансировать' 'значительный' 'часть' 'транзакция' 'речь' 'идти' 'о'\n",
      " 'продажа' '19' '5' 'процент'] -1\n",
      "идти ['по' 'данные' 'риа' 'новость' 'речь' 'идти' 'о' 'красный' 'икра' 'в'\n",
      " 'мвд'] -1\n",
      "идти ['60' 'процент' 'весь' 'запрос' 'далее' 'идти' 'надувной' 'лодка' 'затем'\n",
      " 'весельный' 'катер'] 3\n",
      "идти ['в' 'настоящий' 'время' 'на' 'судно' 'идти' 'работа' 'по'\n",
      " 'дооборудование' 'на' 'борт'] 4\n",
      "идти ['жириновский' '6' '94' 'процент' 'далёкий' 'идти' 'ксения' 'собчак'\n",
      " 'гражданский' 'инициатива' '2'] 1\n",
      "идти ['сообщить' 'что' 'последний' 'несколько' 'год' 'идти' 'развитие'\n",
      " 'онкологический' 'служба' 'а' 'среди'] 4\n",
      "земля ['7' 'миллиард' 'световой' 'год' 'от' 'земля' 'в' 'созвездие' 'золотой'\n",
      " 'рыба' 'adfs'] 1\n",
      "земля ['с' 'воздух' 'и' 'возможно' 'на' 'земля' 'несколько' 'месяц' 'назад' 'мы'\n",
      " 'уже'] 4\n",
      "земля ['пострадать' 'мужчина' 'поднять' 'лежать' 'на' 'земля' 'предмет' 'он'\n",
      " 'взорваться' 'и' 'ранить'] 4\n",
      "земля ['пытаться' 'взыскать' 'арендный' 'плата' 'за' 'земля' 'в' 'размер'\n",
      " 'почти' '10' 'миллион'] 3\n",
      "земля ['milk' 'порядок' '11' 'тысяча' 'гектар' 'земля' 'под' 'строительство'\n",
      " 'молочный' 'комплекс' 'th'] 3\n",
      "земля ['открытый' 'космос' 'быть' 'отправить' 'на' 'земля' 'где' 'они' 'в'\n",
      " 'течение' 'неделя'] 1\n",
      "ручка ['сообщаться' 'что' 'яд' 'наслать' 'на' 'ручка' 'входной' 'дверь' 'дом'\n",
      " 'полиция' 'также'] 2\n",
      "ручка ['строчка' 'она' 'снабдить' 'два' 'короткий' 'ручка' 'и' 'съёмный'\n",
      " 'плечевой' 'ремень' 'из'] 2\n",
      "ручка ['в' 'супермаркет' 'аксессуар' 'с' 'два' 'ручка' 'и' 'небольшой' 'логотип'\n",
      " 'производитель' 'на'] 2\n",
      "ручка ['хром' 'а' 'решётка' 'радиатор' 'дверной' 'ручка' 'насадка' 'выхлопной'\n",
      " 'труба' 'и' 'оконный'] 2\n",
      "ручка ['так' 'жарко' 'я' 'просто' 'нажать' 'ручка' 'на' 'окно' 'возле' 'себя'\n",
      " 'рассказывать'] 2\n",
      "общество ['орган' 'власть' 'и' 'институт' 'гражданский' 'общество' 'общественник'\n",
      " 'также' 'заявить' 'о' 'готовность'] 1\n",
      "общество ['кудесник' 'из' 'эссекс' 'почитать' 'в' 'общество' 'группа' 'якобы'\n",
      " 'известный' 'свой' 'магический'] 2\n",
      "общество ['острота' 'восприятие' 'это' 'закон' 'в' 'общество' 'оставаться'\n",
      " 'достаточно' 'высокий' 'уверить' 'что'] 2\n",
      "общество ['нанести' 'цветной' 'человек' 'и' 'как' 'общество' 'до' 'сей' 'пора'\n",
      " 'заставлять' 'они'] 2\n",
      "общество ['глубоко' 'убеждённый' 'что' 'в' 'нестабильный' 'общество' 'не' 'мочь'\n",
      " 'быть' 'обеспечить' 'право'] 2\n",
      "общество ['актуальный' 'тренд' 'развитие' 'экономика' 'и' 'общество' 'цифровой'\n",
      " 'революция' 'давать' 'огромный' 'возможность'] 2\n",
      "общество ['у' 'автор' 'в' 'время' 'экспозиция' 'общество' 'передвижной'\n",
      " 'художественный' 'выставка' 'полотно' 'представить'] 3\n",
      "общество ['по' 'спорный' 'вопрос' 'и' 'готовность' 'общество' 'этот' 'компромисс'\n",
      " 'понять' 'обсудить' 'и'] 2\n",
      "общество ['mccann' 'животное' 'передать' 'в' 'королевский' 'общество' 'защита'\n",
      " 'животное' 'от' 'жестокий' 'обращение'] 3\n",
      "общество ['рассказать' 'на' 'конференция' 'американский' 'научный' 'общество' 'в'\n",
      " 'остин' 'писать' 'риа' 'новость'] 3\n",
      "ум ['вредить' 'ваш' 'здоровье' 'отмечать' 'с' 'ум'] -1\n",
      "ум ['считать' 'это' 'не' 'от' 'большой' 'ум' 'если' 'честно' 'нужно' 'болеть'\n",
      " 'за'] -1\n",
      "ум ['на' 'он' 'буквально' 'сходить' 'с' 'ум' 'от' 'радость'] -1\n",
      "ум ['услышать' 'что' 'это' 'не' 'они' 'ум' 'дело' 'отмечать' 'караван' 'я'\n",
      " 'родственник'] -1\n",
      "ум ['услышать' 'что' 'это' 'не' 'они' 'ум' 'дело' 'передавать' 'караван' 'я'\n",
      " 'родственник'] -1\n",
      "ум ['изоляция' 'и' 'они' 'сходить' 'с' 'ум' 'также' 'в' 'фотопроект' 'войти'\n",
      " 'город'] -1\n",
      "ум ['знать' 'что' 'у' 'человек' 'на' 'ум' 'мы' 'просто' 'просить'\n",
      " 'помолиться' 'и'] -1\n",
      "ум ['рег' 'это' 'сводить' 'отец' 'с' 'ум' 'говорить' 'он' 'он' 'знать' 'что'] 2\n",
      "ум ['к' 'выборы' 'так' 'чтобы' 'в' 'ум' 'человек' 'даже' 'не' 'быть'\n",
      " 'альтернатива'] 3\n",
      "ум ['тот' 'как' 'наш' 'тело' 'и' 'ум' 'адаптироваться' 'к' 'экстремальный'\n",
      " 'условие' 'помочь'] 1\n"
     ]
    }
   ],
   "source": [
    "for idx, row in chosen_contexts.iterrows():\n",
    "    \n",
    "    word, context, meaning = row[[\"word\", \"context\", \"meaning\"]]\n",
    "    context = np.array(context.split())\n",
    "    index = np.where(context == word)[0][0]\n",
    "    window = np.arange(max(0, index-5), min(len(context), index+6))\n",
    "    print(word, context[window], meaning)"
   ]
  },
  {
   "cell_type": "markdown",
   "metadata": {
    "id": "_6vhKh9N2y3l"
   },
   "source": [
    "6. Оцените accuracy — в какой доле контекстов автоматически определенно значение для контекста совпадает\n",
    "с автоматически определенным значением толкования. - 1 балл"
   ]
  },
  {
   "cell_type": "markdown",
   "metadata": {},
   "source": [
    "Вот теперь совсем ничего не понимаю. Толкование это одно, это тоже некоторый контекст, так сказать. Обычный контекст это другое. Я могу конечно сравнить, как были размечены толкования, проверить, совпадает ли их метка кластера с меткой кластера контекста, в котором это значение есть, но всё равно очень странно. Что мне должно дать аккураси? Даже если бы я сравнивал метки, которые я ставил вручную и метки, которые мне выдали кластеры, аккураси там ничего не даёт, у нас вообще-то разные метки, я ещё должен буду вычислить, а что же там за метку мне выдала кластеризация. Нет, нам интересно их распределение, тут либо рок-аук, либо BCubed, либо NMI. В статье про адаграм, которую кидали на семинаре, тоже считается именно NMI, он же V-measure, поэтому не вижу никаких причин считать аккураси. Там ещё и дисбаланс будет, потому что значений может быть много, это вообще харам"
   ]
  },
  {
   "cell_type": "markdown",
   "metadata": {
    "tags": []
   },
   "source": [
    "Посчитаем NMI, потому что нет гарантии, что 1 в тру и 1 в пред одинаковые, ранжирование тут уместнее. Ну либо рок-аук, но вроде в склёрне нет прикольного обобщения на многомерный случай, когда объём под поверхностью"
   ]
  },
  {
   "cell_type": "code",
   "execution_count": 159,
   "metadata": {
    "tags": []
   },
   "outputs": [
    {
     "name": "stdout",
     "output_type": "stream",
     "text": [
      "0.25598769295361296\n"
     ]
    }
   ],
   "source": [
    "from sklearn.metrics import normalized_mutual_info_score\n",
    "\n",
    "print(normalized_mutual_info_score(\n",
    "    chosen_contexts[\"meaning\"],\n",
    "    chosen_contexts[\"adagram_meaning\"].astype(float),\n",
    "))"
   ]
  },
  {
   "cell_type": "code",
   "execution_count": 161,
   "metadata": {
    "tags": []
   },
   "outputs": [
    {
     "name": "stdout",
     "output_type": "stream",
     "text": [
      "0.0\n"
     ]
    }
   ],
   "source": [
    "from sklearn.metrics import accuracy_score\n",
    "\n",
    "print(accuracy_score(\n",
    "    chosen_contexts[\"meaning\"],\n",
    "    chosen_contexts[\"adagram_meaning\"].astype(float),\n",
    "))"
   ]
  },
  {
   "cell_type": "markdown",
   "metadata": {
    "id": "Kg601m1z2y3l"
   },
   "source": [
    "7. Сравните результаты двух методов WSD, объясните, почему результаты совпадают или расходятся (и покажите на конкретных примерах) - максимум 2 балла\n"
   ]
  },
  {
   "cell_type": "markdown",
   "metadata": {},
   "source": [
    "Да я могу точно такую же метрику посчитать"
   ]
  },
  {
   "cell_type": "code",
   "execution_count": 162,
   "metadata": {
    "tags": []
   },
   "outputs": [
    {
     "name": "stdout",
     "output_type": "stream",
     "text": [
      "0.31583854191150207\n"
     ]
    }
   ],
   "source": [
    "print(normalized_mutual_info_score(\n",
    "    chosen_contexts[\"meaning\"],\n",
    "    chosen_contexts[\"cluster_meaning\"].astype(float),\n",
    "))"
   ]
  },
  {
   "cell_type": "markdown",
   "metadata": {},
   "source": [
    "Если судить по метрикам, то мой метод с кластеризацией даже круче. Но изначально мы не можем знать и выводов мы тоже сделать не можем, почему один метод сработал лучше, а другой хуже. \n",
    "\n",
    "1. Я не имею ни малейшего понятия о том, как работает адаграм, я не знаю, почему он должен быть плох или хорош. Поскольку в статье написано про ЕМ-алгоритм, я даже прикасаться к этой дряни не хочу, мне уже хватило. Собственно и w2v я не уважаю и не понимаю, с чего бы вдруг он всегда говорил, какие слова похожи. Ну и поскольку там ЕМ-алгоритм, это статистический метод, а не нейросетка, нет гарантий, что мы действительно что-то учимся предсказывать, а не тупо запоминаем априорные распределения. Все баесовские подходы от этого страдают - если данных мало, то мы распределение выучить не сможем, могу предположить, что данных было слишком мало, у меня почти везде максимум 4 значения, а даже у слова \"идти\" их 10+, поэтому плохо\n",
    "\n",
    "\n",
    "2. Почему кластеризация могла не сработать ответить легко - она не обязана размечать мне те смыслы, которые я от неё хочу. Может так получиться, что одно значение разбилось на 2 в результате работы алгоритма, может быть выделились какие-то другие значения, а не те, что я хотел, может быть неудачно выбран алгоритм, может быть неправильная проекция, может быть неправильные эмбеддинги, причин масса. Как исправить - без понятия, собственно это задача то не самая простая. Ну и качество не сказать, что совсем ужасное, что-то всё-таки удаётся понять, я бы вообще ожидал метрику в районе 0.1 или 0.001, это типично для таких задач. Можно ещё взять побольше данных и вообще нормально их предобработать - у меня там всякий мусор, сокращения, контексты слишком большие и т.д. Ещё я мог накосячить в ручной разметке, потому что не дружу с семантикой\n",
    "\n",
    "А почему там результаты разошлись это вообще мрак, мне тогда нужно смотреть на $x$ в $P(y|x,\\theta)$, но я же не могу ни один метод проинтерпретировать - все эмбеддинги кодируют свою информацию, разве что через shap какой-нибудь, но зачем? Ниже конкретные примеры, где что пошло так / не так\n",
    "\n",
    "Сделаю только для слова \"земля\", потому что там есть все значения - нет -1, их в целом немного и иначе я просто сам запутаюсь, где какое значение, я напоминаю, у меня не совпадают метки. Хотя это можно исправить тем же ЕМом, но я не хочу, пожалуйста"
   ]
  },
  {
   "cell_type": "code",
   "execution_count": 167,
   "metadata": {
    "tags": []
   },
   "outputs": [
    {
     "name": "stdout",
     "output_type": "stream",
     "text": [
      "земля ['7' 'миллиард' 'световой' 'год' 'от' 'земля' 'в' 'созвездие' 'золотой'\n",
      " 'рыба' 'adfs']\n"
     ]
    },
    {
     "data": {
      "text/html": [
       "<div>\n",
       "<style scoped>\n",
       "    .dataframe tbody tr th:only-of-type {\n",
       "        vertical-align: middle;\n",
       "    }\n",
       "\n",
       "    .dataframe tbody tr th {\n",
       "        vertical-align: top;\n",
       "    }\n",
       "\n",
       "    .dataframe thead th {\n",
       "        text-align: right;\n",
       "    }\n",
       "</style>\n",
       "<table border=\"1\" class=\"dataframe\">\n",
       "  <thead>\n",
       "    <tr style=\"text-align: right;\">\n",
       "      <th></th>\n",
       "      <th>meaning</th>\n",
       "      <th>adagram_meaning</th>\n",
       "      <th>cluster_meaning</th>\n",
       "    </tr>\n",
       "  </thead>\n",
       "  <tbody>\n",
       "    <tr>\n",
       "      <th>10</th>\n",
       "      <td>1</td>\n",
       "      <td>4.0</td>\n",
       "      <td>0.0</td>\n",
       "    </tr>\n",
       "  </tbody>\n",
       "</table>\n",
       "</div>"
      ],
      "text/plain": [
       "   meaning adagram_meaning cluster_meaning\n",
       "10       1             4.0             0.0"
      ]
     },
     "metadata": {},
     "output_type": "display_data"
    },
    {
     "name": "stdout",
     "output_type": "stream",
     "text": [
      "земля ['с' 'воздух' 'и' 'возможно' 'на' 'земля' 'несколько' 'месяц' 'назад' 'мы'\n",
      " 'уже']\n"
     ]
    },
    {
     "data": {
      "text/html": [
       "<div>\n",
       "<style scoped>\n",
       "    .dataframe tbody tr th:only-of-type {\n",
       "        vertical-align: middle;\n",
       "    }\n",
       "\n",
       "    .dataframe tbody tr th {\n",
       "        vertical-align: top;\n",
       "    }\n",
       "\n",
       "    .dataframe thead th {\n",
       "        text-align: right;\n",
       "    }\n",
       "</style>\n",
       "<table border=\"1\" class=\"dataframe\">\n",
       "  <thead>\n",
       "    <tr style=\"text-align: right;\">\n",
       "      <th></th>\n",
       "      <th>meaning</th>\n",
       "      <th>adagram_meaning</th>\n",
       "      <th>cluster_meaning</th>\n",
       "    </tr>\n",
       "  </thead>\n",
       "  <tbody>\n",
       "    <tr>\n",
       "      <th>11</th>\n",
       "      <td>4</td>\n",
       "      <td>4.0</td>\n",
       "      <td>1.0</td>\n",
       "    </tr>\n",
       "  </tbody>\n",
       "</table>\n",
       "</div>"
      ],
      "text/plain": [
       "   meaning adagram_meaning cluster_meaning\n",
       "11       4             4.0             1.0"
      ]
     },
     "metadata": {},
     "output_type": "display_data"
    },
    {
     "name": "stdout",
     "output_type": "stream",
     "text": [
      "земля ['пострадать' 'мужчина' 'поднять' 'лежать' 'на' 'земля' 'предмет' 'он'\n",
      " 'взорваться' 'и' 'ранить']\n"
     ]
    },
    {
     "data": {
      "text/html": [
       "<div>\n",
       "<style scoped>\n",
       "    .dataframe tbody tr th:only-of-type {\n",
       "        vertical-align: middle;\n",
       "    }\n",
       "\n",
       "    .dataframe tbody tr th {\n",
       "        vertical-align: top;\n",
       "    }\n",
       "\n",
       "    .dataframe thead th {\n",
       "        text-align: right;\n",
       "    }\n",
       "</style>\n",
       "<table border=\"1\" class=\"dataframe\">\n",
       "  <thead>\n",
       "    <tr style=\"text-align: right;\">\n",
       "      <th></th>\n",
       "      <th>meaning</th>\n",
       "      <th>adagram_meaning</th>\n",
       "      <th>cluster_meaning</th>\n",
       "    </tr>\n",
       "  </thead>\n",
       "  <tbody>\n",
       "    <tr>\n",
       "      <th>12</th>\n",
       "      <td>4</td>\n",
       "      <td>4.0</td>\n",
       "      <td>5.0</td>\n",
       "    </tr>\n",
       "  </tbody>\n",
       "</table>\n",
       "</div>"
      ],
      "text/plain": [
       "   meaning adagram_meaning cluster_meaning\n",
       "12       4             4.0             5.0"
      ]
     },
     "metadata": {},
     "output_type": "display_data"
    },
    {
     "name": "stdout",
     "output_type": "stream",
     "text": [
      "земля ['пытаться' 'взыскать' 'арендный' 'плата' 'за' 'земля' 'в' 'размер'\n",
      " 'почти' '10' 'миллион']\n"
     ]
    },
    {
     "data": {
      "text/html": [
       "<div>\n",
       "<style scoped>\n",
       "    .dataframe tbody tr th:only-of-type {\n",
       "        vertical-align: middle;\n",
       "    }\n",
       "\n",
       "    .dataframe tbody tr th {\n",
       "        vertical-align: top;\n",
       "    }\n",
       "\n",
       "    .dataframe thead th {\n",
       "        text-align: right;\n",
       "    }\n",
       "</style>\n",
       "<table border=\"1\" class=\"dataframe\">\n",
       "  <thead>\n",
       "    <tr style=\"text-align: right;\">\n",
       "      <th></th>\n",
       "      <th>meaning</th>\n",
       "      <th>adagram_meaning</th>\n",
       "      <th>cluster_meaning</th>\n",
       "    </tr>\n",
       "  </thead>\n",
       "  <tbody>\n",
       "    <tr>\n",
       "      <th>13</th>\n",
       "      <td>3</td>\n",
       "      <td>4.0</td>\n",
       "      <td>3.0</td>\n",
       "    </tr>\n",
       "  </tbody>\n",
       "</table>\n",
       "</div>"
      ],
      "text/plain": [
       "   meaning adagram_meaning cluster_meaning\n",
       "13       3             4.0             3.0"
      ]
     },
     "metadata": {},
     "output_type": "display_data"
    },
    {
     "name": "stdout",
     "output_type": "stream",
     "text": [
      "земля ['milk' 'порядок' '11' 'тысяча' 'гектар' 'земля' 'под' 'строительство'\n",
      " 'молочный' 'комплекс' 'th']\n"
     ]
    },
    {
     "data": {
      "text/html": [
       "<div>\n",
       "<style scoped>\n",
       "    .dataframe tbody tr th:only-of-type {\n",
       "        vertical-align: middle;\n",
       "    }\n",
       "\n",
       "    .dataframe tbody tr th {\n",
       "        vertical-align: top;\n",
       "    }\n",
       "\n",
       "    .dataframe thead th {\n",
       "        text-align: right;\n",
       "    }\n",
       "</style>\n",
       "<table border=\"1\" class=\"dataframe\">\n",
       "  <thead>\n",
       "    <tr style=\"text-align: right;\">\n",
       "      <th></th>\n",
       "      <th>meaning</th>\n",
       "      <th>adagram_meaning</th>\n",
       "      <th>cluster_meaning</th>\n",
       "    </tr>\n",
       "  </thead>\n",
       "  <tbody>\n",
       "    <tr>\n",
       "      <th>14</th>\n",
       "      <td>3</td>\n",
       "      <td>4.0</td>\n",
       "      <td>1.0</td>\n",
       "    </tr>\n",
       "  </tbody>\n",
       "</table>\n",
       "</div>"
      ],
      "text/plain": [
       "   meaning adagram_meaning cluster_meaning\n",
       "14       3             4.0             1.0"
      ]
     },
     "metadata": {},
     "output_type": "display_data"
    },
    {
     "name": "stdout",
     "output_type": "stream",
     "text": [
      "земля ['открытый' 'космос' 'быть' 'отправить' 'на' 'земля' 'где' 'они' 'в'\n",
      " 'течение' 'неделя']\n"
     ]
    },
    {
     "data": {
      "text/html": [
       "<div>\n",
       "<style scoped>\n",
       "    .dataframe tbody tr th:only-of-type {\n",
       "        vertical-align: middle;\n",
       "    }\n",
       "\n",
       "    .dataframe tbody tr th {\n",
       "        vertical-align: top;\n",
       "    }\n",
       "\n",
       "    .dataframe thead th {\n",
       "        text-align: right;\n",
       "    }\n",
       "</style>\n",
       "<table border=\"1\" class=\"dataframe\">\n",
       "  <thead>\n",
       "    <tr style=\"text-align: right;\">\n",
       "      <th></th>\n",
       "      <th>meaning</th>\n",
       "      <th>adagram_meaning</th>\n",
       "      <th>cluster_meaning</th>\n",
       "    </tr>\n",
       "  </thead>\n",
       "  <tbody>\n",
       "    <tr>\n",
       "      <th>15</th>\n",
       "      <td>1</td>\n",
       "      <td>0.0</td>\n",
       "      <td>4.0</td>\n",
       "    </tr>\n",
       "  </tbody>\n",
       "</table>\n",
       "</div>"
      ],
      "text/plain": [
       "   meaning adagram_meaning cluster_meaning\n",
       "15       1             0.0             4.0"
      ]
     },
     "metadata": {},
     "output_type": "display_data"
    }
   ],
   "source": [
    "for idx, row in chosen_contexts.iterrows():\n",
    "    \n",
    "    word, context, meaning = row[[\"word\", \"context\", \"meaning\"]]\n",
    "    if word == \"земля\":\n",
    "        context = np.array(context.split())\n",
    "        index = np.where(context == word)[0][0]\n",
    "        window = np.arange(max(0, index-5), min(len(context), index+6))\n",
    "        print(word, context[window])\n",
    "        display(pd.DataFrame(row[[\"meaning\", \"adagram_meaning\", \"cluster_meaning\"]]).T)"
   ]
  },
  {
   "cell_type": "markdown",
   "metadata": {},
   "source": [
    "Что мы видим:\n",
    "\n",
    "1. Значение \"планета\". У обоих алгоритмов разные ответы, они не вычленили это значение, кластер разнородный. Плохо\n",
    "3. Значение \"то, по чему ходим\". Адаграм дал одно значение, но кластер неоднородный. Разнородный кластер у кластеризации. Плохо\n",
    "4. Значение \"территориальный участок\". Одно значение по адаграму, опять неоднородный кластер. Кластеризация не вычленила. Плохо\n",
    "\n",
    "По крайней мере кластеры от гаусса более разнообразные, это тоже важно для метрики, даже не пересекаются почти"
   ]
  },
  {
   "cell_type": "markdown",
   "metadata": {},
   "source": [
    "Опять же, причин может быть масса почему так получается. Разгадка одна - unsupervised методы это трата времени. Пытаться что-то хорошее получить без таргета нереально. Если что, я могу рандомные векторы взять вместо эмбеддингов берта и всё равно получить \"вменяемое\" значение, проверим?"
   ]
  },
  {
   "cell_type": "code",
   "execution_count": 173,
   "metadata": {
    "tags": []
   },
   "outputs": [],
   "source": [
    "key_to_index = {}\n",
    "\n",
    "idx = 0\n",
    "for context in meanings[\"context\"]:\n",
    "    for word in context.split():\n",
    "        if word not in key_to_index:\n",
    "            key_to_index[word] = idx\n",
    "            idx += 1    \n",
    "            \n",
    "emb_W = np.random.uniform(-0.5, 0.5, size=(idx, 100))"
   ]
  },
  {
   "cell_type": "code",
   "execution_count": 184,
   "metadata": {
    "tags": []
   },
   "outputs": [],
   "source": [
    "def aggregate_embs(string):\n",
    "    return np.mean([emb_W[key_to_index[t]] for t in string.split()], axis=0)"
   ]
  },
  {
   "cell_type": "code",
   "execution_count": 196,
   "metadata": {
    "tags": []
   },
   "outputs": [],
   "source": [
    "svd = TruncatedSVD(2, random_state=69)\n",
    "\n",
    "for word in word_dict.word.unique():\n",
    "    \n",
    "    word_mask = meanings.word == word\n",
    "    context_embs = np.vstack(meanings[word_mask][\"context\"].apply(aggregate_embs).values)\n",
    "    mapped_meanings = svd.fit_transform(context_embs)\n",
    "    \n",
    "    n_of_meanings = word_dict[word_dict.word == word].meaning.nunique()\n",
    "    gauss = GaussianMixture(n_components=n_of_meanings, random_state=69)\n",
    "    gauss.fit(mapped_meanings)\n",
    "    \n",
    "    # copy, paste...\n",
    "    word_mask = chosen_contexts.word == word\n",
    "    context_embs = np.vstack(chosen_contexts[word_mask][\"context\"].apply(aggregate_embs).values)\n",
    "    mapped_meanings = svd.transform(context_embs)\n",
    "    clusters = gauss.predict(mapped_meanings)\n",
    "    chosen_contexts.loc[word_mask, \"random_meaning\"] = clusters"
   ]
  },
  {
   "cell_type": "code",
   "execution_count": 197,
   "metadata": {
    "tags": []
   },
   "outputs": [
    {
     "name": "stdout",
     "output_type": "stream",
     "text": [
      "0.25521153339459823\n"
     ]
    }
   ],
   "source": [
    "print(normalized_mutual_info_score(\n",
    "    chosen_contexts[\"meaning\"],\n",
    "    chosen_contexts[\"random_meaning\"].astype(float),\n",
    "))"
   ]
  },
  {
   "cell_type": "markdown",
   "metadata": {},
   "source": [
    "Зачем даже пытаться... Какая-то у меня злая домашка получилась. Я просто не уважаю ни w2v, ни кластеризацию, ни дизамбигуацию, я занимался в том году через топологию, тут прямо комбо"
   ]
  },
  {
   "cell_type": "markdown",
   "metadata": {},
   "source": [
    "Короче, мораль такова: усреднять эмбеддинги и молиться, что они что-то дадут, это плохая затея, но почему-то очень популярная"
   ]
  },
  {
   "cell_type": "code",
   "execution_count": 212,
   "metadata": {
    "tags": []
   },
   "outputs": [
    {
     "data": {
      "text/plain": [
       "(3289, 591052)"
      ]
     },
     "execution_count": 212,
     "metadata": {},
     "output_type": "execute_result"
    }
   ],
   "source": [
    "context_embs.shape"
   ]
  },
  {
   "cell_type": "code",
   "execution_count": 213,
   "metadata": {
    "tags": []
   },
   "outputs": [
    {
     "data": {
      "text/plain": [
       "0       полицейский алекс коллинс и трейся холлоуэй ок...\n",
       "1       на митинг верующий проходить в киев в время об...\n",
       "2       президент украина пётр порошенко занять место ...\n",
       "3       в русский православный церковь рпц назвать кан...\n",
       "4       абсолютный чемпион мир в первый тяжёлый вес ук...\n",
       "                              ...                        \n",
       "6150      4 0 группа человек к рые вместе проводить время\n",
       "6151    5 0 объединение человек как правило добровольн...\n",
       "6152    1 0 зд ед способность человек думать лежать в ...\n",
       "6153    1 1 зд ед высокий степень такой способность вы...\n",
       "6154    2 0 зд ед мыслительный процесс мозг как место ...\n",
       "Name: context, Length: 6155, dtype: object"
      ]
     },
     "execution_count": 213,
     "metadata": {},
     "output_type": "execute_result"
    }
   ],
   "source": [
    "meanings[\"context\"]"
   ]
  },
  {
   "cell_type": "code",
   "execution_count": 211,
   "metadata": {
    "tags": []
   },
   "outputs": [
    {
     "ename": "IndexError",
     "evalue": "index (6143) out of range",
     "output_type": "error",
     "traceback": [
      "\u001b[0;31m---------------------------------------------------------------------------\u001b[0m",
      "\u001b[0;31mIndexError\u001b[0m                                Traceback (most recent call last)",
      "Cell \u001b[0;32mIn[211], line 10\u001b[0m\n\u001b[1;32m      7\u001b[0m \u001b[38;5;28;01mfor\u001b[39;00m word \u001b[38;5;129;01min\u001b[39;00m word_dict\u001b[38;5;241m.\u001b[39mword\u001b[38;5;241m.\u001b[39munique():\n\u001b[1;32m      9\u001b[0m     word_mask \u001b[38;5;241m=\u001b[39m meanings\u001b[38;5;241m.\u001b[39mword \u001b[38;5;241m==\u001b[39m word\n\u001b[0;32m---> 10\u001b[0m     context_embs \u001b[38;5;241m=\u001b[39m \u001b[43mcontext_embs\u001b[49m\u001b[43m[\u001b[49m\u001b[43mword_mask\u001b[49m\u001b[43m]\u001b[49m\n\u001b[1;32m     11\u001b[0m     mapped_meanings \u001b[38;5;241m=\u001b[39m svd\u001b[38;5;241m.\u001b[39mfit_transform(context_embs)\n\u001b[1;32m     13\u001b[0m     n_of_meanings \u001b[38;5;241m=\u001b[39m word_dict[word_dict\u001b[38;5;241m.\u001b[39mword \u001b[38;5;241m==\u001b[39m word]\u001b[38;5;241m.\u001b[39mmeaning\u001b[38;5;241m.\u001b[39mnunique()\n",
      "File \u001b[0;32m/home/user/conda/lib/python3.9/site-packages/scipy/sparse/_index.py:47\u001b[0m, in \u001b[0;36mIndexMixin.__getitem__\u001b[0;34m(self, key)\u001b[0m\n\u001b[1;32m     46\u001b[0m \u001b[38;5;28;01mdef\u001b[39;00m \u001b[38;5;21m__getitem__\u001b[39m(\u001b[38;5;28mself\u001b[39m, key):\n\u001b[0;32m---> 47\u001b[0m     row, col \u001b[38;5;241m=\u001b[39m \u001b[38;5;28;43mself\u001b[39;49m\u001b[38;5;241;43m.\u001b[39;49m\u001b[43m_validate_indices\u001b[49m\u001b[43m(\u001b[49m\u001b[43mkey\u001b[49m\u001b[43m)\u001b[49m\n\u001b[1;32m     49\u001b[0m     \u001b[38;5;66;03m# Dispatch to specialized methods.\u001b[39;00m\n\u001b[1;32m     50\u001b[0m     \u001b[38;5;28;01mif\u001b[39;00m \u001b[38;5;28misinstance\u001b[39m(row, INT_TYPES):\n",
      "File \u001b[0;32m/home/user/conda/lib/python3.9/site-packages/scipy/sparse/_index.py:159\u001b[0m, in \u001b[0;36mIndexMixin._validate_indices\u001b[0;34m(self, key)\u001b[0m\n\u001b[1;32m    157\u001b[0m         row \u001b[38;5;241m+\u001b[39m\u001b[38;5;241m=\u001b[39m M\n\u001b[1;32m    158\u001b[0m \u001b[38;5;28;01melif\u001b[39;00m \u001b[38;5;129;01mnot\u001b[39;00m \u001b[38;5;28misinstance\u001b[39m(row, \u001b[38;5;28mslice\u001b[39m):\n\u001b[0;32m--> 159\u001b[0m     row \u001b[38;5;241m=\u001b[39m \u001b[38;5;28;43mself\u001b[39;49m\u001b[38;5;241;43m.\u001b[39;49m\u001b[43m_asindices\u001b[49m\u001b[43m(\u001b[49m\u001b[43mrow\u001b[49m\u001b[43m,\u001b[49m\u001b[43m \u001b[49m\u001b[43mM\u001b[49m\u001b[43m)\u001b[49m\n\u001b[1;32m    161\u001b[0m \u001b[38;5;28;01mif\u001b[39;00m isintlike(col):\n\u001b[1;32m    162\u001b[0m     col \u001b[38;5;241m=\u001b[39m \u001b[38;5;28mint\u001b[39m(col)\n",
      "File \u001b[0;32m/home/user/conda/lib/python3.9/site-packages/scipy/sparse/_index.py:191\u001b[0m, in \u001b[0;36mIndexMixin._asindices\u001b[0;34m(self, idx, length)\u001b[0m\n\u001b[1;32m    189\u001b[0m max_indx \u001b[38;5;241m=\u001b[39m x\u001b[38;5;241m.\u001b[39mmax()\n\u001b[1;32m    190\u001b[0m \u001b[38;5;28;01mif\u001b[39;00m max_indx \u001b[38;5;241m>\u001b[39m\u001b[38;5;241m=\u001b[39m length:\n\u001b[0;32m--> 191\u001b[0m     \u001b[38;5;28;01mraise\u001b[39;00m \u001b[38;5;167;01mIndexError\u001b[39;00m(\u001b[38;5;124m'\u001b[39m\u001b[38;5;124mindex (\u001b[39m\u001b[38;5;132;01m%d\u001b[39;00m\u001b[38;5;124m) out of range\u001b[39m\u001b[38;5;124m'\u001b[39m \u001b[38;5;241m%\u001b[39m max_indx)\n\u001b[1;32m    193\u001b[0m min_indx \u001b[38;5;241m=\u001b[39m x\u001b[38;5;241m.\u001b[39mmin()\n\u001b[1;32m    194\u001b[0m \u001b[38;5;28;01mif\u001b[39;00m min_indx \u001b[38;5;241m<\u001b[39m \u001b[38;5;241m0\u001b[39m:\n",
      "\u001b[0;31mIndexError\u001b[0m: index (6143) out of range"
     ]
    }
   ],
   "source": [
    "from sklearn.feature_extraction.text import TfidfVectorizer\n",
    "\n",
    "tfidf = TfidfVectorizer(min_df=1, ngram_range=(1, 2))\n",
    "context_embs = tfidf.fit_transform(meanings[\"context\"], )\n",
    "svd = TruncatedSVD(2, random_state=69)\n",
    "\n",
    "for word in word_dict.word.unique():\n",
    "    \n",
    "    word_mask = meanings.word == word\n",
    "    context_embs = context_embs[word_mask]\n",
    "    mapped_meanings = svd.fit_transform(context_embs)\n",
    "    \n",
    "    n_of_meanings = word_dict[word_dict.word == word].meaning.nunique()\n",
    "    gauss = GaussianMixture(n_components=n_of_meanings, random_state=69)\n",
    "    gauss.fit(mapped_meanings)\n",
    "    \n",
    "#     # copy, paste...\n",
    "#     word_mask = chosen_contexts.word == word\n",
    "#     context_embs = np.vstack(chosen_contexts[word_mask][\"context\"].apply(aggregate_embs).values)\n",
    "#     mapped_meanings = svd.transform(context_embs)\n",
    "#     clusters = gauss.predict(mapped_meanings)\n",
    "#     chosen_contexts.loc[word_mask, \"random_meaning\"] = clusters"
   ]
  },
  {
   "cell_type": "code",
   "execution_count": null,
   "metadata": {},
   "outputs": [],
   "source": []
  }
 ],
 "metadata": {
  "colab": {
   "provenance": []
  },
  "kernelspec": {
   "display_name": "Python [conda env:root] *",
   "language": "python",
   "name": "conda-root-py"
  },
  "language_info": {
   "codemirror_mode": {
    "name": "ipython",
    "version": 3
   },
   "file_extension": ".py",
   "mimetype": "text/x-python",
   "name": "python",
   "nbconvert_exporter": "python",
   "pygments_lexer": "ipython3",
   "version": "3.9.18"
  },
  "pycharm": {
   "stem_cell": {
    "cell_type": "raw",
    "metadata": {
     "collapsed": false
    },
    "source": []
   }
  },
  "widgets": {
   "application/vnd.jupyter.widget-state+json": {
    "1bebbd62680f420fa700e2d5d5b14177": {
     "model_module": "@jupyter-widgets/base",
     "model_module_version": "1.2.0",
     "model_name": "LayoutModel",
     "state": {
      "_model_module": "@jupyter-widgets/base",
      "_model_module_version": "1.2.0",
      "_model_name": "LayoutModel",
      "_view_count": null,
      "_view_module": "@jupyter-widgets/base",
      "_view_module_version": "1.2.0",
      "_view_name": "LayoutView",
      "align_content": null,
      "align_items": null,
      "align_self": null,
      "border": null,
      "bottom": null,
      "display": null,
      "flex": null,
      "flex_flow": null,
      "grid_area": null,
      "grid_auto_columns": null,
      "grid_auto_flow": null,
      "grid_auto_rows": null,
      "grid_column": null,
      "grid_gap": null,
      "grid_row": null,
      "grid_template_areas": null,
      "grid_template_columns": null,
      "grid_template_rows": null,
      "height": null,
      "justify_content": null,
      "justify_items": null,
      "left": null,
      "margin": null,
      "max_height": null,
      "max_width": null,
      "min_height": null,
      "min_width": null,
      "object_fit": null,
      "object_position": null,
      "order": null,
      "overflow": null,
      "overflow_x": null,
      "overflow_y": null,
      "padding": null,
      "right": null,
      "top": null,
      "visibility": null,
      "width": null
     }
    },
    "1d54cc4da0e74418ad5edf4bbd1bb3d1": {
     "model_module": "@jupyter-widgets/controls",
     "model_module_version": "1.5.0",
     "model_name": "ProgressStyleModel",
     "state": {
      "_model_module": "@jupyter-widgets/controls",
      "_model_module_version": "1.5.0",
      "_model_name": "ProgressStyleModel",
      "_view_count": null,
      "_view_module": "@jupyter-widgets/base",
      "_view_module_version": "1.2.0",
      "_view_name": "StyleView",
      "bar_color": null,
      "description_width": ""
     }
    },
    "1ef9ededf24949cf9337700ada47d84c": {
     "model_module": "@jupyter-widgets/controls",
     "model_module_version": "1.5.0",
     "model_name": "HTMLModel",
     "state": {
      "_dom_classes": [],
      "_model_module": "@jupyter-widgets/controls",
      "_model_module_version": "1.5.0",
      "_model_name": "HTMLModel",
      "_view_count": null,
      "_view_module": "@jupyter-widgets/controls",
      "_view_module_version": "1.5.0",
      "_view_name": "HTMLView",
      "description": "",
      "description_tooltip": null,
      "layout": "IPY_MODEL_c1ed8a9ff4744830bc15dff6e5bf00be",
      "placeholder": "​",
      "style": "IPY_MODEL_fbfa67c0e247428a9cefed8e50f6ddf4",
      "value": " 5/5 [00:04&lt;00:00,  1.45it/s]"
     }
    },
    "2f98441fba8c41d9817a5f9d6f45fd2f": {
     "model_module": "@jupyter-widgets/controls",
     "model_module_version": "1.5.0",
     "model_name": "DescriptionStyleModel",
     "state": {
      "_model_module": "@jupyter-widgets/controls",
      "_model_module_version": "1.5.0",
      "_model_name": "DescriptionStyleModel",
      "_view_count": null,
      "_view_module": "@jupyter-widgets/base",
      "_view_module_version": "1.2.0",
      "_view_name": "StyleView",
      "description_width": ""
     }
    },
    "350ba266ca96429988649abd584c71c0": {
     "model_module": "@jupyter-widgets/base",
     "model_module_version": "1.2.0",
     "model_name": "LayoutModel",
     "state": {
      "_model_module": "@jupyter-widgets/base",
      "_model_module_version": "1.2.0",
      "_model_name": "LayoutModel",
      "_view_count": null,
      "_view_module": "@jupyter-widgets/base",
      "_view_module_version": "1.2.0",
      "_view_name": "LayoutView",
      "align_content": null,
      "align_items": null,
      "align_self": null,
      "border": null,
      "bottom": null,
      "display": null,
      "flex": null,
      "flex_flow": null,
      "grid_area": null,
      "grid_auto_columns": null,
      "grid_auto_flow": null,
      "grid_auto_rows": null,
      "grid_column": null,
      "grid_gap": null,
      "grid_row": null,
      "grid_template_areas": null,
      "grid_template_columns": null,
      "grid_template_rows": null,
      "height": null,
      "justify_content": null,
      "justify_items": null,
      "left": null,
      "margin": null,
      "max_height": null,
      "max_width": null,
      "min_height": null,
      "min_width": null,
      "object_fit": null,
      "object_position": null,
      "order": null,
      "overflow": null,
      "overflow_x": null,
      "overflow_y": null,
      "padding": null,
      "right": null,
      "top": null,
      "visibility": null,
      "width": null
     }
    },
    "3a910bca5cbd442d93ac1977dd5e6a10": {
     "model_module": "@jupyter-widgets/controls",
     "model_module_version": "1.5.0",
     "model_name": "HBoxModel",
     "state": {
      "_dom_classes": [],
      "_model_module": "@jupyter-widgets/controls",
      "_model_module_version": "1.5.0",
      "_model_name": "HBoxModel",
      "_view_count": null,
      "_view_module": "@jupyter-widgets/controls",
      "_view_module_version": "1.5.0",
      "_view_name": "HBoxView",
      "box_style": "",
      "children": [
       "IPY_MODEL_41b6fdf6fa914f5ba9e1ec23c2d743c5",
       "IPY_MODEL_774c3e2c5de848858ee6e91e50a7b588",
       "IPY_MODEL_ec0f3d856a5342aa9f74b0b43b8588c0"
      ],
      "layout": "IPY_MODEL_350ba266ca96429988649abd584c71c0"
     }
    },
    "41b6fdf6fa914f5ba9e1ec23c2d743c5": {
     "model_module": "@jupyter-widgets/controls",
     "model_module_version": "1.5.0",
     "model_name": "HTMLModel",
     "state": {
      "_dom_classes": [],
      "_model_module": "@jupyter-widgets/controls",
      "_model_module_version": "1.5.0",
      "_model_name": "HTMLModel",
      "_view_count": null,
      "_view_module": "@jupyter-widgets/controls",
      "_view_module_version": "1.5.0",
      "_view_name": "HTMLView",
      "description": "",
      "description_tooltip": null,
      "layout": "IPY_MODEL_e56fbf7f01cd4f9f94d6419e94cca2de",
      "placeholder": "​",
      "style": "IPY_MODEL_2f98441fba8c41d9817a5f9d6f45fd2f",
      "value": " 13%"
     }
    },
    "563ad3b2ad1e4538b42a403a652786fb": {
     "model_module": "@jupyter-widgets/controls",
     "model_module_version": "1.5.0",
     "model_name": "HTMLModel",
     "state": {
      "_dom_classes": [],
      "_model_module": "@jupyter-widgets/controls",
      "_model_module_version": "1.5.0",
      "_model_name": "HTMLModel",
      "_view_count": null,
      "_view_module": "@jupyter-widgets/controls",
      "_view_module_version": "1.5.0",
      "_view_name": "HTMLView",
      "description": "",
      "description_tooltip": null,
      "layout": "IPY_MODEL_1bebbd62680f420fa700e2d5d5b14177",
      "placeholder": "​",
      "style": "IPY_MODEL_997226150fa54fcbb601f76d4790248d",
      "value": "100%"
     }
    },
    "5cb0f22fda7942838da8e4f5ee6dec68": {
     "model_module": "@jupyter-widgets/controls",
     "model_module_version": "1.5.0",
     "model_name": "FloatProgressModel",
     "state": {
      "_dom_classes": [],
      "_model_module": "@jupyter-widgets/controls",
      "_model_module_version": "1.5.0",
      "_model_name": "FloatProgressModel",
      "_view_count": null,
      "_view_module": "@jupyter-widgets/controls",
      "_view_module_version": "1.5.0",
      "_view_name": "ProgressView",
      "bar_style": "success",
      "description": "",
      "description_tooltip": null,
      "layout": "IPY_MODEL_724a581a1f244940b3431d10ce38d9f6",
      "max": 5,
      "min": 0,
      "orientation": "horizontal",
      "style": "IPY_MODEL_1d54cc4da0e74418ad5edf4bbd1bb3d1",
      "value": 5
     }
    },
    "724a581a1f244940b3431d10ce38d9f6": {
     "model_module": "@jupyter-widgets/base",
     "model_module_version": "1.2.0",
     "model_name": "LayoutModel",
     "state": {
      "_model_module": "@jupyter-widgets/base",
      "_model_module_version": "1.2.0",
      "_model_name": "LayoutModel",
      "_view_count": null,
      "_view_module": "@jupyter-widgets/base",
      "_view_module_version": "1.2.0",
      "_view_name": "LayoutView",
      "align_content": null,
      "align_items": null,
      "align_self": null,
      "border": null,
      "bottom": null,
      "display": null,
      "flex": null,
      "flex_flow": null,
      "grid_area": null,
      "grid_auto_columns": null,
      "grid_auto_flow": null,
      "grid_auto_rows": null,
      "grid_column": null,
      "grid_gap": null,
      "grid_row": null,
      "grid_template_areas": null,
      "grid_template_columns": null,
      "grid_template_rows": null,
      "height": null,
      "justify_content": null,
      "justify_items": null,
      "left": null,
      "margin": null,
      "max_height": null,
      "max_width": null,
      "min_height": null,
      "min_width": null,
      "object_fit": null,
      "object_position": null,
      "order": null,
      "overflow": null,
      "overflow_x": null,
      "overflow_y": null,
      "padding": null,
      "right": null,
      "top": null,
      "visibility": null,
      "width": null
     }
    },
    "72f2dd2e9abe4d69a226f7dcca7ee1ff": {
     "model_module": "@jupyter-widgets/controls",
     "model_module_version": "1.5.0",
     "model_name": "ProgressStyleModel",
     "state": {
      "_model_module": "@jupyter-widgets/controls",
      "_model_module_version": "1.5.0",
      "_model_name": "ProgressStyleModel",
      "_view_count": null,
      "_view_module": "@jupyter-widgets/base",
      "_view_module_version": "1.2.0",
      "_view_name": "StyleView",
      "bar_color": null,
      "description_width": ""
     }
    },
    "7384164b62284260899ae318be398266": {
     "model_module": "@jupyter-widgets/base",
     "model_module_version": "1.2.0",
     "model_name": "LayoutModel",
     "state": {
      "_model_module": "@jupyter-widgets/base",
      "_model_module_version": "1.2.0",
      "_model_name": "LayoutModel",
      "_view_count": null,
      "_view_module": "@jupyter-widgets/base",
      "_view_module_version": "1.2.0",
      "_view_name": "LayoutView",
      "align_content": null,
      "align_items": null,
      "align_self": null,
      "border": null,
      "bottom": null,
      "display": null,
      "flex": null,
      "flex_flow": null,
      "grid_area": null,
      "grid_auto_columns": null,
      "grid_auto_flow": null,
      "grid_auto_rows": null,
      "grid_column": null,
      "grid_gap": null,
      "grid_row": null,
      "grid_template_areas": null,
      "grid_template_columns": null,
      "grid_template_rows": null,
      "height": null,
      "justify_content": null,
      "justify_items": null,
      "left": null,
      "margin": null,
      "max_height": null,
      "max_width": null,
      "min_height": null,
      "min_width": null,
      "object_fit": null,
      "object_position": null,
      "order": null,
      "overflow": null,
      "overflow_x": null,
      "overflow_y": null,
      "padding": null,
      "right": null,
      "top": null,
      "visibility": null,
      "width": null
     }
    },
    "774c3e2c5de848858ee6e91e50a7b588": {
     "model_module": "@jupyter-widgets/controls",
     "model_module_version": "1.5.0",
     "model_name": "FloatProgressModel",
     "state": {
      "_dom_classes": [],
      "_model_module": "@jupyter-widgets/controls",
      "_model_module_version": "1.5.0",
      "_model_name": "FloatProgressModel",
      "_view_count": null,
      "_view_module": "@jupyter-widgets/controls",
      "_view_module_version": "1.5.0",
      "_view_name": "ProgressView",
      "bar_style": "",
      "description": "",
      "description_tooltip": null,
      "layout": "IPY_MODEL_f8a79f6a70a9454189b14d2e9e490396",
      "max": 10000,
      "min": 0,
      "orientation": "horizontal",
      "style": "IPY_MODEL_72f2dd2e9abe4d69a226f7dcca7ee1ff",
      "value": 1280
     }
    },
    "997226150fa54fcbb601f76d4790248d": {
     "model_module": "@jupyter-widgets/controls",
     "model_module_version": "1.5.0",
     "model_name": "DescriptionStyleModel",
     "state": {
      "_model_module": "@jupyter-widgets/controls",
      "_model_module_version": "1.5.0",
      "_model_name": "DescriptionStyleModel",
      "_view_count": null,
      "_view_module": "@jupyter-widgets/base",
      "_view_module_version": "1.2.0",
      "_view_name": "StyleView",
      "description_width": ""
     }
    },
    "9b95489c2058477c979b609b2abfc5ec": {
     "model_module": "@jupyter-widgets/controls",
     "model_module_version": "1.5.0",
     "model_name": "HBoxModel",
     "state": {
      "_dom_classes": [],
      "_model_module": "@jupyter-widgets/controls",
      "_model_module_version": "1.5.0",
      "_model_name": "HBoxModel",
      "_view_count": null,
      "_view_module": "@jupyter-widgets/controls",
      "_view_module_version": "1.5.0",
      "_view_name": "HBoxView",
      "box_style": "",
      "children": [
       "IPY_MODEL_563ad3b2ad1e4538b42a403a652786fb",
       "IPY_MODEL_5cb0f22fda7942838da8e4f5ee6dec68",
       "IPY_MODEL_1ef9ededf24949cf9337700ada47d84c"
      ],
      "layout": "IPY_MODEL_7384164b62284260899ae318be398266"
     }
    },
    "c1ed8a9ff4744830bc15dff6e5bf00be": {
     "model_module": "@jupyter-widgets/base",
     "model_module_version": "1.2.0",
     "model_name": "LayoutModel",
     "state": {
      "_model_module": "@jupyter-widgets/base",
      "_model_module_version": "1.2.0",
      "_model_name": "LayoutModel",
      "_view_count": null,
      "_view_module": "@jupyter-widgets/base",
      "_view_module_version": "1.2.0",
      "_view_name": "LayoutView",
      "align_content": null,
      "align_items": null,
      "align_self": null,
      "border": null,
      "bottom": null,
      "display": null,
      "flex": null,
      "flex_flow": null,
      "grid_area": null,
      "grid_auto_columns": null,
      "grid_auto_flow": null,
      "grid_auto_rows": null,
      "grid_column": null,
      "grid_gap": null,
      "grid_row": null,
      "grid_template_areas": null,
      "grid_template_columns": null,
      "grid_template_rows": null,
      "height": null,
      "justify_content": null,
      "justify_items": null,
      "left": null,
      "margin": null,
      "max_height": null,
      "max_width": null,
      "min_height": null,
      "min_width": null,
      "object_fit": null,
      "object_position": null,
      "order": null,
      "overflow": null,
      "overflow_x": null,
      "overflow_y": null,
      "padding": null,
      "right": null,
      "top": null,
      "visibility": null,
      "width": null
     }
    },
    "cfd065ba813a4be19f9c9f3ef41f0082": {
     "model_module": "@jupyter-widgets/controls",
     "model_module_version": "1.5.0",
     "model_name": "DescriptionStyleModel",
     "state": {
      "_model_module": "@jupyter-widgets/controls",
      "_model_module_version": "1.5.0",
      "_model_name": "DescriptionStyleModel",
      "_view_count": null,
      "_view_module": "@jupyter-widgets/base",
      "_view_module_version": "1.2.0",
      "_view_name": "StyleView",
      "description_width": ""
     }
    },
    "e1b673faee684b9c902ba41ef6f1247d": {
     "model_module": "@jupyter-widgets/base",
     "model_module_version": "1.2.0",
     "model_name": "LayoutModel",
     "state": {
      "_model_module": "@jupyter-widgets/base",
      "_model_module_version": "1.2.0",
      "_model_name": "LayoutModel",
      "_view_count": null,
      "_view_module": "@jupyter-widgets/base",
      "_view_module_version": "1.2.0",
      "_view_name": "LayoutView",
      "align_content": null,
      "align_items": null,
      "align_self": null,
      "border": null,
      "bottom": null,
      "display": null,
      "flex": null,
      "flex_flow": null,
      "grid_area": null,
      "grid_auto_columns": null,
      "grid_auto_flow": null,
      "grid_auto_rows": null,
      "grid_column": null,
      "grid_gap": null,
      "grid_row": null,
      "grid_template_areas": null,
      "grid_template_columns": null,
      "grid_template_rows": null,
      "height": null,
      "justify_content": null,
      "justify_items": null,
      "left": null,
      "margin": null,
      "max_height": null,
      "max_width": null,
      "min_height": null,
      "min_width": null,
      "object_fit": null,
      "object_position": null,
      "order": null,
      "overflow": null,
      "overflow_x": null,
      "overflow_y": null,
      "padding": null,
      "right": null,
      "top": null,
      "visibility": null,
      "width": null
     }
    },
    "e56fbf7f01cd4f9f94d6419e94cca2de": {
     "model_module": "@jupyter-widgets/base",
     "model_module_version": "1.2.0",
     "model_name": "LayoutModel",
     "state": {
      "_model_module": "@jupyter-widgets/base",
      "_model_module_version": "1.2.0",
      "_model_name": "LayoutModel",
      "_view_count": null,
      "_view_module": "@jupyter-widgets/base",
      "_view_module_version": "1.2.0",
      "_view_name": "LayoutView",
      "align_content": null,
      "align_items": null,
      "align_self": null,
      "border": null,
      "bottom": null,
      "display": null,
      "flex": null,
      "flex_flow": null,
      "grid_area": null,
      "grid_auto_columns": null,
      "grid_auto_flow": null,
      "grid_auto_rows": null,
      "grid_column": null,
      "grid_gap": null,
      "grid_row": null,
      "grid_template_areas": null,
      "grid_template_columns": null,
      "grid_template_rows": null,
      "height": null,
      "justify_content": null,
      "justify_items": null,
      "left": null,
      "margin": null,
      "max_height": null,
      "max_width": null,
      "min_height": null,
      "min_width": null,
      "object_fit": null,
      "object_position": null,
      "order": null,
      "overflow": null,
      "overflow_x": null,
      "overflow_y": null,
      "padding": null,
      "right": null,
      "top": null,
      "visibility": null,
      "width": null
     }
    },
    "ec0f3d856a5342aa9f74b0b43b8588c0": {
     "model_module": "@jupyter-widgets/controls",
     "model_module_version": "1.5.0",
     "model_name": "HTMLModel",
     "state": {
      "_dom_classes": [],
      "_model_module": "@jupyter-widgets/controls",
      "_model_module_version": "1.5.0",
      "_model_name": "HTMLModel",
      "_view_count": null,
      "_view_module": "@jupyter-widgets/controls",
      "_view_module_version": "1.5.0",
      "_view_name": "HTMLView",
      "description": "",
      "description_tooltip": null,
      "layout": "IPY_MODEL_e1b673faee684b9c902ba41ef6f1247d",
      "placeholder": "​",
      "style": "IPY_MODEL_cfd065ba813a4be19f9c9f3ef41f0082",
      "value": " 1280/10000 [01:22&lt;25:58,  5.59it/s]"
     }
    },
    "f8a79f6a70a9454189b14d2e9e490396": {
     "model_module": "@jupyter-widgets/base",
     "model_module_version": "1.2.0",
     "model_name": "LayoutModel",
     "state": {
      "_model_module": "@jupyter-widgets/base",
      "_model_module_version": "1.2.0",
      "_model_name": "LayoutModel",
      "_view_count": null,
      "_view_module": "@jupyter-widgets/base",
      "_view_module_version": "1.2.0",
      "_view_name": "LayoutView",
      "align_content": null,
      "align_items": null,
      "align_self": null,
      "border": null,
      "bottom": null,
      "display": null,
      "flex": null,
      "flex_flow": null,
      "grid_area": null,
      "grid_auto_columns": null,
      "grid_auto_flow": null,
      "grid_auto_rows": null,
      "grid_column": null,
      "grid_gap": null,
      "grid_row": null,
      "grid_template_areas": null,
      "grid_template_columns": null,
      "grid_template_rows": null,
      "height": null,
      "justify_content": null,
      "justify_items": null,
      "left": null,
      "margin": null,
      "max_height": null,
      "max_width": null,
      "min_height": null,
      "min_width": null,
      "object_fit": null,
      "object_position": null,
      "order": null,
      "overflow": null,
      "overflow_x": null,
      "overflow_y": null,
      "padding": null,
      "right": null,
      "top": null,
      "visibility": null,
      "width": null
     }
    },
    "fbfa67c0e247428a9cefed8e50f6ddf4": {
     "model_module": "@jupyter-widgets/controls",
     "model_module_version": "1.5.0",
     "model_name": "DescriptionStyleModel",
     "state": {
      "_model_module": "@jupyter-widgets/controls",
      "_model_module_version": "1.5.0",
      "_model_name": "DescriptionStyleModel",
      "_view_count": null,
      "_view_module": "@jupyter-widgets/base",
      "_view_module_version": "1.2.0",
      "_view_name": "StyleView",
      "description_width": ""
     }
    }
   }
  }
 },
 "nbformat": 4,
 "nbformat_minor": 4
}
